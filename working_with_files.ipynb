{
 "cells": [
  {
   "cell_type": "markdown",
   "id": "d39a83a8",
   "metadata": {},
   "source": [
    "## Working with files"
   ]
  },
  {
   "cell_type": "code",
   "execution_count": 13,
   "id": "22fb2b4a",
   "metadata": {},
   "outputs": [
    {
     "data": {
      "text/plain": [
       "'C:\\\\Users\\\\HP\\\\desktop'"
      ]
     },
     "execution_count": 13,
     "metadata": {},
     "output_type": "execute_result"
    }
   ],
   "source": [
    "pwd"
   ]
  },
  {
   "cell_type": "code",
   "execution_count": 14,
   "id": "f6fcc018",
   "metadata": {},
   "outputs": [
    {
     "name": "stdout",
     "output_type": "stream",
     "text": [
      " Volume in drive C is Windows\n",
      " Volume Serial Number is 66A3-C284\n",
      "\n",
      " Directory of C:\\Users\\HP\\Desktop\n",
      "\n",
      "21-03-2024  00:32    <DIR>          .\n",
      "21-03-2024  00:43    <DIR>          ..\n",
      "21-03-2024  00:41                30 file.txt\n",
      "05-12-2022  22:38    <DIR>          Programing\n",
      "               1 File(s)             30 bytes\n",
      "               3 Dir(s)  115,540,164,608 bytes free\n"
     ]
    }
   ],
   "source": [
    "ls\n"
   ]
  },
  {
   "cell_type": "code",
   "execution_count": 54,
   "id": "663680ee",
   "metadata": {},
   "outputs": [],
   "source": [
    "f= open(\"text.txt\",'w')"
   ]
  },
  {
   "cell_type": "code",
   "execution_count": 55,
   "id": "c367a43f",
   "metadata": {},
   "outputs": [
    {
     "name": "stdout",
     "output_type": "stream",
     "text": [
      " Volume in drive C is Windows\n",
      " Volume Serial Number is 66A3-C284\n",
      "\n",
      " Directory of C:\\Users\\HP\\Desktop\n",
      "\n",
      "21-03-2024  01:08    <DIR>          .\n",
      "21-03-2024  01:09    <DIR>          ..\n",
      "05-12-2022  22:38    <DIR>          Programing\n",
      "21-03-2024  01:07                60 test.txt\n",
      "21-03-2024  01:09                 0 text.txt\n",
      "               2 File(s)             60 bytes\n",
      "               3 Dir(s)  115,313,385,472 bytes free\n"
     ]
    }
   ],
   "source": [
    "ls\n"
   ]
  },
  {
   "cell_type": "code",
   "execution_count": 56,
   "id": "45581fef",
   "metadata": {},
   "outputs": [
    {
     "data": {
      "text/plain": [
       "21"
      ]
     },
     "execution_count": 56,
     "metadata": {},
     "output_type": "execute_result"
    }
   ],
   "source": [
    "f.write(\"this is my first file\")"
   ]
  },
  {
   "cell_type": "code",
   "execution_count": 57,
   "id": "5722db15",
   "metadata": {},
   "outputs": [],
   "source": [
    "f.close()"
   ]
  },
  {
   "cell_type": "code",
   "execution_count": 58,
   "id": "4a81652f",
   "metadata": {},
   "outputs": [
    {
     "data": {
      "text/plain": [
       "'C:\\\\Users\\\\HP\\\\desktop'"
      ]
     },
     "execution_count": 58,
     "metadata": {},
     "output_type": "execute_result"
    }
   ],
   "source": [
    "pwd"
   ]
  },
  {
   "cell_type": "code",
   "execution_count": 59,
   "id": "6ec52a6f",
   "metadata": {},
   "outputs": [],
   "source": [
    "f=open(\"test.txt\",'w') # w uses where the old file is truncated first and then new data is added"
   ]
  },
  {
   "cell_type": "code",
   "execution_count": 60,
   "id": "3cddd4dc",
   "metadata": {},
   "outputs": [
    {
     "data": {
      "text/plain": [
       "17"
      ]
     },
     "execution_count": 60,
     "metadata": {},
     "output_type": "execute_result"
    }
   ],
   "source": [
    "f.write(\"this is my file  \") "
   ]
  },
  {
   "cell_type": "code",
   "execution_count": 61,
   "id": "cd6fae2f",
   "metadata": {},
   "outputs": [],
   "source": [
    "f.close()"
   ]
  },
  {
   "cell_type": "code",
   "execution_count": 62,
   "id": "c6c715d5",
   "metadata": {},
   "outputs": [],
   "source": [
    "f=open(\"test.txt\",'a') #open for writing and appending to the end of the existing file"
   ]
  },
  {
   "cell_type": "code",
   "execution_count": 63,
   "id": "bc613e42",
   "metadata": {},
   "outputs": [
    {
     "data": {
      "text/plain": [
       "18"
      ]
     },
     "execution_count": 63,
     "metadata": {},
     "output_type": "execute_result"
    }
   ],
   "source": [
    "f.write(\"this is akanksha  \")"
   ]
  },
  {
   "cell_type": "code",
   "execution_count": 64,
   "id": "58bf7215",
   "metadata": {},
   "outputs": [],
   "source": [
    "f.close()"
   ]
  },
  {
   "cell_type": "code",
   "execution_count": 65,
   "id": "aed83510",
   "metadata": {},
   "outputs": [],
   "source": [
    "f=open(\"Test.txt\",'a')"
   ]
  },
  {
   "cell_type": "code",
   "execution_count": 66,
   "id": "6eccfec3",
   "metadata": {},
   "outputs": [
    {
     "data": {
      "text/plain": [
       "25"
      ]
     },
     "execution_count": 66,
     "metadata": {},
     "output_type": "execute_result"
    }
   ],
   "source": [
    "f.write(\"  hello guys,chai pi lo  \")"
   ]
  },
  {
   "cell_type": "code",
   "execution_count": 70,
   "id": "8dbc4c5e",
   "metadata": {},
   "outputs": [],
   "source": [
    "f.close()"
   ]
  },
  {
   "cell_type": "code",
   "execution_count": 72,
   "id": "94a2f8e0",
   "metadata": {},
   "outputs": [],
   "source": [
    "f=open(\"test.txt\",'r')"
   ]
  },
  {
   "cell_type": "code",
   "execution_count": 73,
   "id": "1c262cdb",
   "metadata": {},
   "outputs": [
    {
     "data": {
      "text/plain": [
       "'this is my file  this is akanksha    hello guys,chai pi lo  '"
      ]
     },
     "execution_count": 73,
     "metadata": {},
     "output_type": "execute_result"
    }
   ],
   "source": [
    "f.read()"
   ]
  },
  {
   "cell_type": "code",
   "execution_count": 78,
   "id": "3d9ec0ef",
   "metadata": {},
   "outputs": [
    {
     "data": {
      "text/plain": [
       "'this is my file  this is akanksha    hello guys,chai pi lo  '"
      ]
     },
     "execution_count": 78,
     "metadata": {},
     "output_type": "execute_result"
    }
   ],
   "source": [
    "f.readline()"
   ]
  },
  {
   "cell_type": "code",
   "execution_count": 77,
   "id": "eea2038a",
   "metadata": {},
   "outputs": [
    {
     "data": {
      "text/plain": [
       "0"
      ]
     },
     "execution_count": 77,
     "metadata": {},
     "output_type": "execute_result"
    }
   ],
   "source": [
    "f.seek(0)"
   ]
  },
  {
   "cell_type": "code",
   "execution_count": 81,
   "id": "9a32864a",
   "metadata": {},
   "outputs": [
    {
     "data": {
      "text/plain": [
       "'this is my file  this is akanksha    hello guys,chai pi lo  '"
      ]
     },
     "execution_count": 81,
     "metadata": {},
     "output_type": "execute_result"
    }
   ],
   "source": [
    " f.readline()"
   ]
  },
  {
   "cell_type": "code",
   "execution_count": 80,
   "id": "a003d34d",
   "metadata": {},
   "outputs": [
    {
     "data": {
      "text/plain": [
       "0"
      ]
     },
     "execution_count": 80,
     "metadata": {},
     "output_type": "execute_result"
    }
   ],
   "source": [
    "f.seek(0)"
   ]
  },
  {
   "cell_type": "code",
   "execution_count": 82,
   "id": "e4b25e8c",
   "metadata": {},
   "outputs": [
    {
     "data": {
      "text/plain": [
       "3"
      ]
     },
     "execution_count": 82,
     "metadata": {},
     "output_type": "execute_result"
    }
   ],
   "source": [
    "f.seek(3) "
   ]
  },
  {
   "cell_type": "code",
   "execution_count": 83,
   "id": "e0ff3ebc",
   "metadata": {},
   "outputs": [
    {
     "data": {
      "text/plain": [
       "'s is my file  this is akanksha    hello guys,chai pi lo  '"
      ]
     },
     "execution_count": 83,
     "metadata": {},
     "output_type": "execute_result"
    }
   ],
   "source": [
    "f.readline()"
   ]
  },
  {
   "cell_type": "code",
   "execution_count": 84,
   "id": "cbd0e672",
   "metadata": {},
   "outputs": [],
   "source": [
    "#we can use loop for above file to read"
   ]
  },
  {
   "cell_type": "code",
   "execution_count": 85,
   "id": "79cfca48",
   "metadata": {},
   "outputs": [],
   "source": [
    "data=open(\"test.txt\",'r')"
   ]
  },
  {
   "cell_type": "code",
   "execution_count": 86,
   "id": "9cec082b",
   "metadata": {},
   "outputs": [
    {
     "name": "stdout",
     "output_type": "stream",
     "text": [
      "this is my file  this is akanksha    hello guys,chai pi lo  \n"
     ]
    }
   ],
   "source": [
    "for i in data:\n",
    "    print(i)"
   ]
  },
  {
   "cell_type": "code",
   "execution_count": 87,
   "id": "e21cbb69",
   "metadata": {},
   "outputs": [],
   "source": [
    "import os"
   ]
  },
  {
   "cell_type": "code",
   "execution_count": 91,
   "id": "7274bd8b",
   "metadata": {},
   "outputs": [
    {
     "data": {
      "text/plain": [
       "60"
      ]
     },
     "execution_count": 91,
     "metadata": {},
     "output_type": "execute_result"
    }
   ],
   "source": [
    "os.path.getsize(\"test.txt\")"
   ]
  },
  {
   "cell_type": "code",
   "execution_count": 92,
   "id": "eb39fa54",
   "metadata": {
    "scrolled": true
   },
   "outputs": [
    {
     "ename": "PermissionError",
     "evalue": "[WinError 32] The process cannot access the file because it is being used by another process: 'test.txt'",
     "output_type": "error",
     "traceback": [
      "\u001b[1;31m---------------------------------------------------------------------------\u001b[0m",
      "\u001b[1;31mPermissionError\u001b[0m                           Traceback (most recent call last)",
      "Cell \u001b[1;32mIn[92], line 1\u001b[0m\n\u001b[1;32m----> 1\u001b[0m \u001b[43mos\u001b[49m\u001b[38;5;241;43m.\u001b[39;49m\u001b[43mremove\u001b[49m\u001b[43m(\u001b[49m\u001b[38;5;124;43m\"\u001b[39;49m\u001b[38;5;124;43mtest.txt\u001b[39;49m\u001b[38;5;124;43m\"\u001b[39;49m\u001b[43m)\u001b[49m\n",
      "\u001b[1;31mPermissionError\u001b[0m: [WinError 32] The process cannot access the file because it is being used by another process: 'test.txt'"
     ]
    }
   ],
   "source": [
    " os.remove(\"test.txt\")"
   ]
  },
  {
   "cell_type": "code",
   "execution_count": 93,
   "id": "279f34c8",
   "metadata": {},
   "outputs": [],
   "source": [
    "f=open(\"test.txt\",'r')"
   ]
  },
  {
   "cell_type": "code",
   "execution_count": 94,
   "id": "592184fd",
   "metadata": {},
   "outputs": [
    {
     "data": {
      "text/plain": [
       "'this is my file  this is akanksha    hello guys,chai pi lo  '"
      ]
     },
     "execution_count": 94,
     "metadata": {},
     "output_type": "execute_result"
    }
   ],
   "source": [
    "f.read()"
   ]
  },
  {
   "cell_type": "code",
   "execution_count": 95,
   "id": "b5fc3ec3",
   "metadata": {},
   "outputs": [],
   "source": [
    "f.close()"
   ]
  },
  {
   "cell_type": "code",
   "execution_count": 97,
   "id": "f7a4b784",
   "metadata": {},
   "outputs": [
    {
     "ename": "PermissionError",
     "evalue": "[WinError 32] The process cannot access the file because it is being used by another process: 'test.txt' -> 'new.txt'",
     "output_type": "error",
     "traceback": [
      "\u001b[1;31m---------------------------------------------------------------------------\u001b[0m",
      "\u001b[1;31mPermissionError\u001b[0m                           Traceback (most recent call last)",
      "Cell \u001b[1;32mIn[97], line 1\u001b[0m\n\u001b[1;32m----> 1\u001b[0m \u001b[43mos\u001b[49m\u001b[38;5;241;43m.\u001b[39;49m\u001b[43mrename\u001b[49m\u001b[43m(\u001b[49m\u001b[38;5;124;43m\"\u001b[39;49m\u001b[38;5;124;43mtest.txt\u001b[39;49m\u001b[38;5;124;43m\"\u001b[39;49m\u001b[43m,\u001b[49m\u001b[38;5;124;43m\"\u001b[39;49m\u001b[38;5;124;43mnew.txt\u001b[39;49m\u001b[38;5;124;43m\"\u001b[39;49m\u001b[43m)\u001b[49m\u001b[38;5;66;03m#to rename file\u001b[39;00m\n",
      "\u001b[1;31mPermissionError\u001b[0m: [WinError 32] The process cannot access the file because it is being used by another process: 'test.txt' -> 'new.txt'"
     ]
    }
   ],
   "source": [
    "os.rename(\"test.txt\",\"new.txt\")#to rename file"
   ]
  },
  {
   "cell_type": "code",
   "execution_count": 98,
   "id": "719b3fe3",
   "metadata": {},
   "outputs": [],
   "source": [
    "import shutil"
   ]
  },
  {
   "cell_type": "code",
   "execution_count": 99,
   "id": "7128b95d",
   "metadata": {},
   "outputs": [
    {
     "data": {
      "text/plain": [
       "'copy_test.txt'"
      ]
     },
     "execution_count": 99,
     "metadata": {},
     "output_type": "execute_result"
    }
   ],
   "source": [
    "shutil.copy(\"test.txt\",\"copy_test.txt\")"
   ]
  },
  {
   "cell_type": "code",
   "execution_count": 102,
   "id": "4de2e65c",
   "metadata": {},
   "outputs": [
    {
     "name": "stdout",
     "output_type": "stream",
     "text": [
      "this is my file  this is akanksha    hello guys,chai pi lo  \n"
     ]
    }
   ],
   "source": [
    "with open(\"test.txt\",'r')as f:\n",
    "    print(f.read())"
   ]
  },
  {
   "cell_type": "markdown",
   "id": "4777781d",
   "metadata": {},
   "source": [
    "## reading and writing in files"
   ]
  },
  {
   "cell_type": "code",
   "execution_count": 1,
   "id": "98232503",
   "metadata": {},
   "outputs": [],
   "source": [
    "dict={\n",
    "    \"name\":\"akansha\",\n",
    "    \"email\":\"akshu@gmail.com\",\n",
    "    \"phone_no\":7994561228,\n",
    "    \"subjects\":[\"physics\",\"chemistry\",\"biology\"]\n",
    "}"
   ]
  },
  {
   "cell_type": "code",
   "execution_count": 2,
   "id": "daf0286e",
   "metadata": {},
   "outputs": [],
   "source": [
    "import json"
   ]
  },
  {
   "cell_type": "code",
   "execution_count": 3,
   "id": "704bbefd",
   "metadata": {},
   "outputs": [
    {
     "data": {
      "text/plain": [
       "'C:\\\\Users\\\\HP'"
      ]
     },
     "execution_count": 3,
     "metadata": {},
     "output_type": "execute_result"
    }
   ],
   "source": [
    "pwd"
   ]
  },
  {
   "cell_type": "code",
   "execution_count": 4,
   "id": "776a444f",
   "metadata": {},
   "outputs": [
    {
     "name": "stdout",
     "output_type": "stream",
     "text": [
      "C:\\Users\\HP\n"
     ]
    }
   ],
   "source": [
    "cd "
   ]
  },
  {
   "cell_type": "code",
   "execution_count": 5,
   "id": "29089b6e",
   "metadata": {},
   "outputs": [
    {
     "name": "stdout",
     "output_type": "stream",
     "text": [
      "C:\\Users\\HP\\Desktop\n"
     ]
    }
   ],
   "source": [
    "cd Desktop/"
   ]
  },
  {
   "cell_type": "code",
   "execution_count": 6,
   "id": "df943880",
   "metadata": {},
   "outputs": [
    {
     "data": {
      "text/plain": [
       "'C:\\\\Users\\\\HP\\\\Desktop'"
      ]
     },
     "execution_count": 6,
     "metadata": {},
     "output_type": "execute_result"
    }
   ],
   "source": [
    "pwd"
   ]
  },
  {
   "cell_type": "code",
   "execution_count": 23,
   "id": "de83b57f",
   "metadata": {},
   "outputs": [],
   "source": [
    "dict={\n",
    "    \"name\":\"akansha\",\n",
    "    \"email\":\"akshu@gmail.com\",\n",
    "    \"phone_no\":7994561228,\n",
    "    \"subjects\":[\"physics\",\"chemistry\",\"biology\"]\n",
    "}"
   ]
  },
  {
   "cell_type": "code",
   "execution_count": 24,
   "id": "35ce52b7",
   "metadata": {},
   "outputs": [],
   "source": [
    "import json"
   ]
  },
  {
   "cell_type": "code",
   "execution_count": 25,
   "id": "773a77c2",
   "metadata": {},
   "outputs": [],
   "source": [
    "with open(\"dict.json\",'w') as f:\n",
    "    json.dump(dict,f)    #to write file dump methos is used"
   ]
  },
  {
   "cell_type": "code",
   "execution_count": 26,
   "id": "98dd5c39",
   "metadata": {},
   "outputs": [],
   "source": [
    "with open(\"dict.json\",'r')as f:\n",
    "    data=json.load(f)"
   ]
  },
  {
   "cell_type": "code",
   "execution_count": 27,
   "id": "1f42f762",
   "metadata": {},
   "outputs": [
    {
     "data": {
      "text/plain": [
       "{'name': 'akansha',\n",
       " 'email': 'akshu@gmail.com',\n",
       " 'phone_no': 7994561228,\n",
       " 'subjects': ['physics', 'chemistry', 'biology']}"
      ]
     },
     "execution_count": 27,
     "metadata": {},
     "output_type": "execute_result"
    }
   ],
   "source": [
    "data"
   ]
  },
  {
   "cell_type": "code",
   "execution_count": 28,
   "id": "76d7cf18",
   "metadata": {},
   "outputs": [],
   "source": [
    "with open(\"dict.json\",'r')as f:\n",
    "    data1=(f.read())"
   ]
  },
  {
   "cell_type": "code",
   "execution_count": 29,
   "id": "b5e79a14",
   "metadata": {},
   "outputs": [
    {
     "data": {
      "text/plain": [
       "'{\"name\": \"akansha\", \"email\": \"akshu@gmail.com\", \"phone_no\": 7994561228, \"subjects\": [\"physics\", \"chemistry\", \"biology\"]}'"
      ]
     },
     "execution_count": 29,
     "metadata": {},
     "output_type": "execute_result"
    }
   ],
   "source": [
    "data1"
   ]
  },
  {
   "cell_type": "code",
   "execution_count": 31,
   "id": "ce0ad0d9",
   "metadata": {},
   "outputs": [
    {
     "data": {
      "text/plain": [
       "'biology'"
      ]
     },
     "execution_count": 31,
     "metadata": {},
     "output_type": "execute_result"
    }
   ],
   "source": [
    "data[\"subjects\"][2]"
   ]
  },
  {
   "cell_type": "markdown",
   "id": "7ee40407",
   "metadata": {},
   "source": [
    "# comma seperated values files"
   ]
  },
  {
   "cell_type": "code",
   "execution_count": 32,
   "id": "c47bf6fd",
   "metadata": {},
   "outputs": [],
   "source": [
    "import csv"
   ]
  },
  {
   "cell_type": "code",
   "execution_count": 33,
   "id": "79a80a44",
   "metadata": {},
   "outputs": [],
   "source": [
    "data=[[\"name\",\"degree\",\"gmail\"],\n",
    "     [\"akshu\",\"mtech\",\"akshu@gmail.com\"],\n",
    "     [\"vaishu\",\"mbbs\",\"vaishu@gmail.com\"]]"
   ]
  },
  {
   "cell_type": "code",
   "execution_count": 38,
   "id": "4e3d9388",
   "metadata": {},
   "outputs": [],
   "source": [
    "with open(\"data.csv\",'w') as f:\n",
    "    writer=csv.writer(f)\n",
    "    \n",
    "    for i in data:\n",
    "        writer.writerow(i)"
   ]
  },
  {
   "cell_type": "code",
   "execution_count": 39,
   "id": "325f5c16",
   "metadata": {},
   "outputs": [
    {
     "name": "stdout",
     "output_type": "stream",
     "text": [
      "['name', 'degree', 'gmail']\n",
      "['akshu', 'mtech', 'akshu@gmail.com']\n",
      "['vaishu', 'mbbs', 'vaishu@gmail.com']\n"
     ]
    }
   ],
   "source": [
    "with open(\"data.csv\",'r')as f:\n",
    "    reader=csv.reader(f)\n",
    "    \n",
    "    \n",
    "    for i in data:\n",
    "        print(i)"
   ]
  },
  {
   "cell_type": "markdown",
   "id": "dc525397",
   "metadata": {},
   "source": [
    "# binary data"
   ]
  },
  {
   "cell_type": "code",
   "execution_count": 42,
   "id": "464c1502",
   "metadata": {},
   "outputs": [],
   "source": [
    "with open(\"test4.bin\",'wb')as f:\n",
    "    f.write(b\"x01\\x02\\x03\\x9468635\")"
   ]
  },
  {
   "cell_type": "code",
   "execution_count": 43,
   "id": "f0fc31d0",
   "metadata": {},
   "outputs": [
    {
     "name": "stdout",
     "output_type": "stream",
     "text": [
      "b'x01\\x02\\x03\\x9468635'\n"
     ]
    }
   ],
   "source": [
    "with open(\"test4.bin\",'rb')as f:\n",
    "    print(f.read())"
   ]
  },
  {
   "cell_type": "markdown",
   "id": "059ff59e",
   "metadata": {},
   "source": [
    "## using buffered method for reading and writing"
   ]
  },
  {
   "cell_type": "code",
   "execution_count": 1,
   "id": "01e79baa",
   "metadata": {},
   "outputs": [],
   "source": [
    "import io"
   ]
  },
  {
   "cell_type": "code",
   "execution_count": 4,
   "id": "34b06115",
   "metadata": {},
   "outputs": [],
   "source": [
    "with open(\"main.txt\",'wb')as f:\n",
    "    file=io.BufferedWriter(f)\n",
    "    \n",
    "    file.write(b\"this is my first line\\n\")\n",
    "    file.write(b\"this is my second line\\n\")\n",
    "    file.flush()"
   ]
  },
  {
   "cell_type": "code",
   "execution_count": 5,
   "id": "dd8a24b3",
   "metadata": {},
   "outputs": [
    {
     "data": {
      "text/plain": [
       "'C:\\\\Users\\\\HP'"
      ]
     },
     "execution_count": 5,
     "metadata": {},
     "output_type": "execute_result"
    }
   ],
   "source": [
    "pwd\n"
   ]
  },
  {
   "cell_type": "code",
   "execution_count": 6,
   "id": "a9c8acb8",
   "metadata": {},
   "outputs": [
    {
     "name": "stdout",
     "output_type": "stream",
     "text": [
      "C:\\Users\\HP\n"
     ]
    }
   ],
   "source": [
    "cd"
   ]
  },
  {
   "cell_type": "code",
   "execution_count": 7,
   "id": "7eb25d87",
   "metadata": {},
   "outputs": [
    {
     "name": "stdout",
     "output_type": "stream",
     "text": [
      "C:\\Users\\HP\\Desktop\n"
     ]
    }
   ],
   "source": [
    "cd Desktop/"
   ]
  },
  {
   "cell_type": "code",
   "execution_count": 16,
   "id": "ac2e60d9",
   "metadata": {},
   "outputs": [
    {
     "data": {
      "text/plain": [
       "'C:\\\\Users\\\\HP\\\\Desktop'"
      ]
     },
     "execution_count": 16,
     "metadata": {},
     "output_type": "execute_result"
    }
   ],
   "source": [
    "pwd"
   ]
  },
  {
   "cell_type": "code",
   "execution_count": 10,
   "id": "75c749ca",
   "metadata": {},
   "outputs": [],
   "source": [
    "with open(\"main.txt\",'wb')as f:\n",
    "    file=io.BufferedWriter(f)\n",
    "    \n",
    "    file.write(b\"this is my first line\\n\")\n",
    "    file.write(b\"this is my second line\\n\")\n",
    "    file.flush()"
   ]
  },
  {
   "cell_type": "code",
   "execution_count": 14,
   "id": "6e295f42",
   "metadata": {},
   "outputs": [
    {
     "name": "stdout",
     "output_type": "stream",
     "text": [
      "b'this is my first line\\nthis is my second line\\n'\n"
     ]
    }
   ],
   "source": [
    "with open(\"main.txt\",'rb')as f:\n",
    "    file=io  .BufferedReader(f)\n",
    "    data=file.read()\n",
    "    print(data)"
   ]
  },
  {
   "cell_type": "code",
   "execution_count": 15,
   "id": "7aa41c88",
   "metadata": {},
   "outputs": [
    {
     "name": "stdout",
     "output_type": "stream",
     "text": [
      "b'this '\n"
     ]
    }
   ],
   "source": [
    "with open(\"main.txt\",'rb')as f:\n",
    "    file=io.BufferedReader(f)\n",
    "    data=file.read(5)   #we can define size of byte how much to read\n",
    "    print(data)"
   ]
  },
  {
   "cell_type": "markdown",
   "id": "259e00db",
   "metadata": {},
   "source": [
    "## Logging Debugger"
   ]
  },
  {
   "cell_type": "code",
   "execution_count": 47,
   "id": "0d4cca7d",
   "metadata": {},
   "outputs": [
    {
     "data": {
      "text/plain": [
       "'C:\\\\Users\\\\HP\\\\Desktop'"
      ]
     },
     "execution_count": 47,
     "metadata": {},
     "output_type": "execute_result"
    }
   ],
   "source": [
    "pwd"
   ]
  },
  {
   "cell_type": "code",
   "execution_count": 3,
   "id": "434c216e",
   "metadata": {},
   "outputs": [],
   "source": [
    "import logging"
   ]
  },
  {
   "cell_type": "code",
   "execution_count": 4,
   "id": "2a784618",
   "metadata": {},
   "outputs": [],
   "source": [
    "logging.basicConfig(filename=\"test10.log\", level=logging.INFO)"
   ]
  },
  {
   "cell_type": "code",
   "execution_count": 5,
   "id": "429f8b86",
   "metadata": {},
   "outputs": [],
   "source": [
    "logging.info(\"log this line of execution\")"
   ]
  },
  {
   "cell_type": "code",
   "execution_count": 6,
   "id": "0df58ae6",
   "metadata": {},
   "outputs": [],
   "source": [
    "logging.info(\"my name is akanksha\")"
   ]
  },
  {
   "cell_type": "code",
   "execution_count": 7,
   "id": "7782aef3",
   "metadata": {},
   "outputs": [],
   "source": [
    "logging.info(\"i am from india\")"
   ]
  },
  {
   "cell_type": "code",
   "execution_count": 8,
   "id": "84f53d4f",
   "metadata": {},
   "outputs": [],
   "source": [
    "logging.warning(\"this is warning msg\")"
   ]
  },
  {
   "cell_type": "code",
   "execution_count": 9,
   "id": "2d03e7ce",
   "metadata": {},
   "outputs": [],
   "source": [
    "logging.error(\"this is big error\")"
   ]
  },
  {
   "cell_type": "code",
   "execution_count": 10,
   "id": "9c73ebbd",
   "metadata": {},
   "outputs": [],
   "source": [
    "logging.debug(\"this is debug msg\")"
   ]
  },
  {
   "cell_type": "code",
   "execution_count": 11,
   "id": "8f2fdeab",
   "metadata": {},
   "outputs": [],
   "source": [
    "logging.critical(\"critical condition\")"
   ]
  },
  {
   "cell_type": "code",
   "execution_count": 12,
   "id": "161f3ec2",
   "metadata": {},
   "outputs": [],
   "source": [
    "logging.shutdown()"
   ]
  },
  {
   "cell_type": "code",
   "execution_count": 13,
   "id": "017f2698",
   "metadata": {},
   "outputs": [
    {
     "ename": "SyntaxError",
     "evalue": "invalid decimal literal (147403532.py, line 1)",
     "output_type": "error",
     "traceback": [
      "\u001b[1;36m  Cell \u001b[1;32mIn[13], line 1\u001b[1;36m\u001b[0m\n\u001b[1;33m    1.NOTSET           #WHENEVER WE GIVE ONE LEVEL TO LINE OF COMMAND THEN THE OPTIONS DOWN TO THAT PARTICULAR COMMAND WILL EXECUTE.\u001b[0m\n\u001b[1;37m     ^\u001b[0m\n\u001b[1;31mSyntaxError\u001b[0m\u001b[1;31m:\u001b[0m invalid decimal literal\n"
     ]
    }
   ],
   "source": [
    "1.NOTSET           #WHENEVER WE GIVE ONE LEVEL TO LINE OF COMMAND THEN THE OPTIONS DOWN TO THAT PARTICULAR COMMAND WILL EXECUTE.\n",
    "2.DEBUG\n",
    "3.INFO             #AS IN ABOVE EXAMPLE THE DEBUG DID NOT WORKED BEACUSE IT WAS ON UPPER SIDE TO INFO\n",
    "4.WARNING\n",
    "5.ERROR\n",
    "6.CRITICAL"
   ]
  },
  {
   "cell_type": "code",
   "execution_count": 14,
   "id": "a202050e",
   "metadata": {},
   "outputs": [],
   "source": [
    "logging.shutdown() "
   ]
  },
  {
   "cell_type": "code",
   "execution_count": 15,
   "id": "4c2f9547",
   "metadata": {},
   "outputs": [],
   "source": [
    " logging.basicConfig(filename=\"haha.log\",level=logging.DEBUG,format='%(asctime)s %(message)s')"
   ]
  },
  {
   "cell_type": "code",
   "execution_count": 16,
   "id": "e35b99f1",
   "metadata": {},
   "outputs": [],
   "source": [
    "#asctime will tell the time of msg clicking and  s represents string"
   ]
  },
  {
   "cell_type": "code",
   "execution_count": 17,
   "id": "beb75ce0",
   "metadata": {},
   "outputs": [],
   "source": [
    "logging.info(\"this is my info logging\")\n",
    "logging.error(\"this is error\")\n",
    "logging.critical(\"this is very critical\")"
   ]
  },
  {
   "cell_type": "code",
   "execution_count": 18,
   "id": "de05eeff",
   "metadata": {},
   "outputs": [
    {
     "data": {
      "text/plain": [
       "'C:\\\\Users\\\\HP'"
      ]
     },
     "execution_count": 18,
     "metadata": {},
     "output_type": "execute_result"
    }
   ],
   "source": [
    "pwd"
   ]
  },
  {
   "cell_type": "code",
   "execution_count": 19,
   "id": "6c9944e4",
   "metadata": {},
   "outputs": [],
   "source": [
    "logging.shutdown()"
   ]
  },
  {
   "cell_type": "code",
   "execution_count": 4,
   "id": "dbba181c",
   "metadata": {},
   "outputs": [],
   "source": [
    "logging.basicConfig(filename=\"akshu.log\",level=logging.DEBUG,format='%(asctime)s %(name)s %(levelname)s %(message)s')"
   ]
  },
  {
   "cell_type": "code",
   "execution_count": 5,
   "id": "507a548b",
   "metadata": {},
   "outputs": [],
   "source": [
    "logging.info(\"this is my info logging\")\n",
    "logging.error(\"this is error\")\n",
    "logging.critical(\"this is very critical\")"
   ]
  },
  {
   "cell_type": "code",
   "execution_count": null,
   "id": "78556bb5",
   "metadata": {},
   "outputs": [],
   "source": []
  },
  {
   "cell_type": "code",
   "execution_count": null,
   "id": "4ea1063d",
   "metadata": {},
   "outputs": [],
   "source": []
  },
  {
   "cell_type": "code",
   "execution_count": null,
   "id": "c4566ef0",
   "metadata": {},
   "outputs": [],
   "source": []
  }
 ],
 "metadata": {
  "kernelspec": {
   "display_name": "Python 3 (ipykernel)",
   "language": "python",
   "name": "python3"
  },
  "language_info": {
   "codemirror_mode": {
    "name": "ipython",
    "version": 3
   },
   "file_extension": ".py",
   "mimetype": "text/x-python",
   "name": "python",
   "nbconvert_exporter": "python",
   "pygments_lexer": "ipython3",
   "version": "3.10.9"
  }
 },
 "nbformat": 4,
 "nbformat_minor": 5
}
