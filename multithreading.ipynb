{
 "cells": [
  {
   "cell_type": "markdown",
   "id": "0ff7bb03",
   "metadata": {},
   "source": [
    "## MULTITHREADING"
   ]
  },
  {
   "cell_type": "code",
   "execution_count": 1,
   "id": "55a09d68",
   "metadata": {},
   "outputs": [],
   "source": [
    "import threading"
   ]
  },
  {
   "cell_type": "code",
   "execution_count": 2,
   "id": "eeaa14c9",
   "metadata": {},
   "outputs": [],
   "source": [
    "def test(id):\n",
    "    print(\"program start %d\" %id)"
   ]
  },
  {
   "cell_type": "code",
   "execution_count": 3,
   "id": "b02e5232",
   "metadata": {},
   "outputs": [
    {
     "name": "stdout",
     "output_type": "stream",
     "text": [
      "program start 25\n"
     ]
    }
   ],
   "source": [
    "test(25)"
   ]
  },
  {
   "cell_type": "code",
   "execution_count": 6,
   "id": "ca52f9b9",
   "metadata": {},
   "outputs": [],
   "source": [
    "thread=[threading.Thread(target=test,args=(i,)) for i in range(10)]"
   ]
  },
  {
   "cell_type": "code",
   "execution_count": 7,
   "id": "a1d0c95a",
   "metadata": {},
   "outputs": [
    {
     "name": "stdout",
     "output_type": "stream",
     "text": [
      "program start 0program start 1\n",
      "\n",
      "program start 2\n",
      "program start 3\n",
      "program start 4\n",
      "program start 5\n",
      "program start 6\n",
      "program start 7\n",
      "program start 8\n",
      "program start 9\n"
     ]
    }
   ],
   "source": [
    "for  t in thread:\n",
    "    t.start()"
   ]
  },
  {
   "cell_type": "code",
   "execution_count": 8,
   "id": "80dad08b",
   "metadata": {},
   "outputs": [
    {
     "data": {
      "text/plain": [
       "[0, 1, 2, 3, 4, 5, 6, 7, 8, 9]"
      ]
     },
     "execution_count": 8,
     "metadata": {},
     "output_type": "execute_result"
    }
   ],
   "source": [
    "list(range(10))"
   ]
  },
  {
   "cell_type": "code",
   "execution_count": 9,
   "id": "3a605066",
   "metadata": {},
   "outputs": [
    {
     "data": {
      "text/plain": [
       "[<Thread(Thread-15 (test), stopped 13972)>,\n",
       " <Thread(Thread-16 (test), stopped 19952)>,\n",
       " <Thread(Thread-17 (test), stopped 9516)>,\n",
       " <Thread(Thread-18 (test), stopped 3300)>,\n",
       " <Thread(Thread-19 (test), stopped 9452)>,\n",
       " <Thread(Thread-20 (test), stopped 11100)>,\n",
       " <Thread(Thread-21 (test), stopped 18688)>,\n",
       " <Thread(Thread-22 (test), stopped 14444)>,\n",
       " <Thread(Thread-23 (test), stopped 10328)>,\n",
       " <Thread(Thread-24 (test), stopped 20060)>]"
      ]
     },
     "execution_count": 9,
     "metadata": {},
     "output_type": "execute_result"
    }
   ],
   "source": [
    "thread"
   ]
  },
  {
   "cell_type": "code",
   "execution_count": 10,
   "id": "cce9cd34",
   "metadata": {},
   "outputs": [
    {
     "data": {
      "text/plain": [
       "2365829842432"
      ]
     },
     "execution_count": 10,
     "metadata": {},
     "output_type": "execute_result"
    }
   ],
   "source": [
    "id(thread)"
   ]
  },
  {
   "cell_type": "markdown",
   "id": "d89795de",
   "metadata": {},
   "source": [
    " ## MULTIPROCESSING"
   ]
  },
  {
   "cell_type": "code",
   "execution_count": 5,
   "id": "5253f87a",
   "metadata": {},
   "outputs": [
    {
     "name": "stdout",
     "output_type": "stream",
     "text": [
      "this is my main program\n"
     ]
    }
   ],
   "source": [
    "import multiprocessing\n",
    "def test():\n",
    "    print(\"this is my multiprocessing prog\")\n",
    " \n",
    "    \n",
    "if __name__ == '__main__':  ##this is main program which invokes the resources like  interpreter compiler\n",
    "    m = multiprocessing.Process(target=test)\n",
    "    print(\"this is my main program\")\n",
    "    m.start()  #to execute the child process\n",
    "    m.join()   #to release the resources\n",
    "    "
   ]
  },
  {
   "cell_type": "code",
   "execution_count": 6,
   "id": "a402bcce",
   "metadata": {},
   "outputs": [
    {
     "name": "stdout",
     "output_type": "stream",
     "text": [
      "this is my multiprocessing prog\n"
     ]
    }
   ],
   "source": [
    "test()"
   ]
  },
  {
   "cell_type": "code",
   "execution_count": 11,
   "id": "5ff74465",
   "metadata": {},
   "outputs": [],
   "source": [
    "import multiprocessing\n",
    "def square(n):\n",
    "    \n",
    "    return n**2  #child process\n",
    "    \n",
    "if __name__=='__ main__':\n",
    "    with multiprocessing.Pool(processes=4) as pool:  #processes means the data is processed in 4 pools and simulteneously it wored paralley and gave output\n",
    "        out=pool.map(square,[1,2,3,4,5,6,7,8,9])\n",
    "        print(out)\n",
    "    "
   ]
  },
  {
   "cell_type": "code",
   "execution_count": 12,
   "id": "1b3814d6",
   "metadata": {},
   "outputs": [],
   "source": [
    "import multiprocessing\n",
    "\n",
    "def producer(q):\n",
    "    for i in range(10):\n",
    "        q.put(i)\n",
    "\n",
    "def consume(q):\n",
    "    while True:\n",
    "        item=q.get()\n",
    "        if item is None:\n",
    "            break\n",
    "            print(item)\n",
    "            \n",
    "if __name__=='__main__':\n",
    "    queue=multiprocessing.Queue()\n",
    "    m1=multiprocessing.Process(target=producer,args=(queue,))\n",
    "    m2=multiprocessing.Process(target=consume,args=(queue,))\n",
    "    m1.start()\n",
    "    m2.start()\n",
    "    queue.put(\"akshu\")\n",
    "    m1.join()\n",
    "    m2.join()\n",
    "    "
   ]
  },
  {
   "cell_type": "code",
   "execution_count": null,
   "id": "ce420da5",
   "metadata": {},
   "outputs": [],
   "source": []
  }
 ],
 "metadata": {
  "kernelspec": {
   "display_name": "Python 3 (ipykernel)",
   "language": "python",
   "name": "python3"
  },
  "language_info": {
   "codemirror_mode": {
    "name": "ipython",
    "version": 3
   },
   "file_extension": ".py",
   "mimetype": "text/x-python",
   "name": "python",
   "nbconvert_exporter": "python",
   "pygments_lexer": "ipython3",
   "version": "3.10.9"
  }
 },
 "nbformat": 4,
 "nbformat_minor": 5
}
