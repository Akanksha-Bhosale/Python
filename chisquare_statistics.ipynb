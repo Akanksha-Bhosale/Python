{
 "cells": [
  {
   "cell_type": "markdown",
   "id": "0bcad89b",
   "metadata": {},
   "source": [
    "## chi square test with python"
   ]
  },
  {
   "cell_type": "code",
   "execution_count": 3,
   "id": "c225a6b2",
   "metadata": {},
   "outputs": [],
   "source": [
    "import scipy.stats as stat"
   ]
  },
  {
   "cell_type": "code",
   "execution_count": 4,
   "id": "daf94a79",
   "metadata": {},
   "outputs": [],
   "source": [
    "import numpy as np\n"
   ]
  },
  {
   "cell_type": "code",
   "execution_count": 7,
   "id": "a54af76e",
   "metadata": {},
   "outputs": [],
   "source": [
    "# number of hours student study in a weekly basis daily\n",
    "expected_data=[8,6,7,9,6,9,7]\n",
    "observed_data=[7,8,6,9,9,6,7]"
   ]
  },
  {
   "cell_type": "code",
   "execution_count": 9,
   "id": "805cdf62",
   "metadata": {},
   "outputs": [
    {
     "data": {
      "text/plain": [
       "(52, 52)"
      ]
     },
     "execution_count": 9,
     "metadata": {},
     "output_type": "execute_result"
    }
   ],
   "source": [
    "sum(expected_data),sum(observed_data)"
   ]
  },
  {
   "cell_type": "code",
   "execution_count": 11,
   "id": "e5fb45ad",
   "metadata": {},
   "outputs": [],
   "source": [
    "## chi square goodness of fit test\n",
    "chisquare_test_statistic,p_value=stat.chisquare(observed_data,expected_data)"
   ]
  },
  {
   "cell_type": "code",
   "execution_count": 12,
   "id": "0072a258",
   "metadata": {},
   "outputs": [
    {
     "data": {
      "text/plain": [
       "(3.4345238095238093, 0.7526596580922865)"
      ]
     },
     "execution_count": 12,
     "metadata": {},
     "output_type": "execute_result"
    }
   ],
   "source": [
    "chisquare_test_statistic,p_value #by that formula (oberved-expected )2"
   ]
  },
  {
   "cell_type": "code",
   "execution_count": 14,
   "id": "7833379f",
   "metadata": {},
   "outputs": [
    {
     "name": "stdout",
     "output_type": "stream",
     "text": [
      "6\n"
     ]
    }
   ],
   "source": [
    "#find the critical value\n",
    "significance_value=0.05\n",
    "dof=len(expected_data)-1\n",
    "print(dof)\n",
    "critical_value=stat.chi2.ppf(1-significance_value,dof)"
   ]
  },
  {
   "cell_type": "code",
   "execution_count": 15,
   "id": "f865ddfc",
   "metadata": {},
   "outputs": [
    {
     "data": {
      "text/plain": [
       "12.591587243743977"
      ]
     },
     "execution_count": 15,
     "metadata": {},
     "output_type": "execute_result"
    }
   ],
   "source": [
    " critical_value"
   ]
  },
  {
   "cell_type": "code",
   "execution_count": 17,
   "id": "ac98c91f",
   "metadata": {},
   "outputs": [
    {
     "name": "stdout",
     "output_type": "stream",
     "text": [
      "we accept null hypothesis\n"
     ]
    }
   ],
   "source": [
    "if chisquare_test_statistic > critical_value:\n",
    "    print(\"we reject null hypothesis\")\n",
    "else:\n",
    "    print(\"we accept null hypothesis\")"
   ]
  },
  {
   "cell_type": "markdown",
   "id": "faabd231",
   "metadata": {},
   "source": [
    "\n",
    "## F test"
   ]
  },
  {
   "cell_type": "code",
   "execution_count": 18,
   "id": "8da907c3",
   "metadata": {},
   "outputs": [],
   "source": [
    "import scipy.stats as stat"
   ]
  },
  {
   "cell_type": "code",
   "execution_count": 19,
   "id": "4e78e7b4",
   "metadata": {},
   "outputs": [],
   "source": [
    "import numpy as np"
   ]
  },
  {
   "cell_type": "code",
   "execution_count": 24,
   "id": "7d54b121",
   "metadata": {},
   "outputs": [],
   "source": [
    "# evidence to say that the two population variances are not equal\n",
    "worker1=[18,19,22,25,27,28,41,45,51,55]\n",
    "worker2=[14,15,15,17,18,22,25,25,27,34]"
   ]
  },
  {
   "cell_type": "code",
   "execution_count": 25,
   "id": "8c477707",
   "metadata": {},
   "outputs": [],
   "source": [
    "##calculating F test"
   ]
  },
  {
   "cell_type": "code",
   "execution_count": 26,
   "id": "1fd4a30a",
   "metadata": {},
   "outputs": [],
   "source": [
    "f=np.var(worker1)/np.var(worker2)"
   ]
  },
  {
   "cell_type": "code",
   "execution_count": 27,
   "id": "da764e08",
   "metadata": {},
   "outputs": [
    {
     "data": {
      "text/plain": [
       "4.387122002085506"
      ]
     },
     "execution_count": 27,
     "metadata": {},
     "output_type": "execute_result"
    }
   ],
   "source": [
    "f"
   ]
  },
  {
   "cell_type": "code",
   "execution_count": 29,
   "id": "6b6a1ced",
   "metadata": {},
   "outputs": [],
   "source": [
    " df1=len(worker1)-1\n",
    " "
   ]
  },
  {
   "cell_type": "code",
   "execution_count": 30,
   "id": "11872954",
   "metadata": {},
   "outputs": [],
   "source": [
    "df2=len(worker2)-1"
   ]
  },
  {
   "cell_type": "code",
   "execution_count": 31,
   "id": "295169a0",
   "metadata": {},
   "outputs": [
    {
     "data": {
      "text/plain": [
       "9"
      ]
     },
     "execution_count": 31,
     "metadata": {},
     "output_type": "execute_result"
    }
   ],
   "source": [
    "df1"
   ]
  },
  {
   "cell_type": "code",
   "execution_count": 32,
   "id": "1d7567eb",
   "metadata": {},
   "outputs": [
    {
     "data": {
      "text/plain": [
       "9"
      ]
     },
     "execution_count": 32,
     "metadata": {},
     "output_type": "execute_result"
    }
   ],
   "source": [
    "df2"
   ]
  },
  {
   "cell_type": "code",
   "execution_count": 34,
   "id": "887c2fb7",
   "metadata": {},
   "outputs": [],
   "source": [
    "significance_value=0.05"
   ]
  },
  {
   "cell_type": "code",
   "execution_count": 39,
   "id": "57aa742d",
   "metadata": {},
   "outputs": [],
   "source": [
    " #decision rule\n",
    "\n",
    "critical_value=stat.f.ppf(q=1-significance_value,dfn=df1,dfd=df2)"
   ]
  },
  {
   "cell_type": "code",
   "execution_count": 40,
   "id": "ca9cafc4",
   "metadata": {},
   "outputs": [
    {
     "data": {
      "text/plain": [
       "3.178893104458269"
      ]
     },
     "execution_count": 40,
     "metadata": {},
     "output_type": "execute_result"
    }
   ],
   "source": [
    "  critical_value"
   ]
  },
  {
   "cell_type": "code",
   "execution_count": 41,
   "id": "f449865b",
   "metadata": {},
   "outputs": [
    {
     "name": "stdout",
     "output_type": "stream",
     "text": [
      "we reject the null hypothesis\n"
     ]
    }
   ],
   "source": [
    "if f > critical_value:\n",
    "    print(\"we reject the null hypothesis\")\n",
    "else:\n",
    "    print(\"We accept the null hypothesis\")"
   ]
  },
  {
   "cell_type": "code",
   "execution_count": null,
   "id": "f58b3106",
   "metadata": {},
   "outputs": [],
   "source": []
  }
 ],
 "metadata": {
  "kernelspec": {
   "display_name": "Python 3 (ipykernel)",
   "language": "python",
   "name": "python3"
  },
  "language_info": {
   "codemirror_mode": {
    "name": "ipython",
    "version": 3
   },
   "file_extension": ".py",
   "mimetype": "text/x-python",
   "name": "python",
   "nbconvert_exporter": "python",
   "pygments_lexer": "ipython3",
   "version": "3.10.9"
  }
 },
 "nbformat": 4,
 "nbformat_minor": 5
}
