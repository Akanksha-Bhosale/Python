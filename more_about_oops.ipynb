{
 "cells": [
  {
   "cell_type": "markdown",
   "id": "767fd184",
   "metadata": {},
   "source": [
    "## more about OOPS"
   ]
  },
  {
   "cell_type": "code",
   "execution_count": 5,
   "id": "29c547d3",
   "metadata": {},
   "outputs": [],
   "source": [
    "class Student():\n",
    "    name=\"akanksha\"    #creating class"
   ]
  },
  {
   "cell_type": "code",
   "execution_count": 6,
   "id": "1e2a944e",
   "metadata": {},
   "outputs": [
    {
     "name": "stdout",
     "output_type": "stream",
     "text": [
      "akanksha\n"
     ]
    }
   ],
   "source": [
    "s1=Student()\n",
    "print(s1.name)\n"
   ]
  },
  {
   "cell_type": "code",
   "execution_count": 8,
   "id": "28bd9208",
   "metadata": {},
   "outputs": [
    {
     "name": "stdout",
     "output_type": "stream",
     "text": [
      "akanksha\n"
     ]
    }
   ],
   "source": [
    "s2=Student()\n",
    "print(s2.name)"
   ]
  },
  {
   "cell_type": "code",
   "execution_count": 13,
   "id": "05539e90",
   "metadata": {},
   "outputs": [],
   "source": [
    "class Student():\n",
    "    def name(self,name):\n",
    "        return name"
   ]
  },
  {
   "cell_type": "code",
   "execution_count": 14,
   "id": "75eaf5ff",
   "metadata": {},
   "outputs": [
    {
     "data": {
      "text/plain": [
       "'Akanksha'"
      ]
     },
     "execution_count": 14,
     "metadata": {},
     "output_type": "execute_result"
    }
   ],
   "source": [
    "s3=Student()\n",
    "s3.name(\"Akanksha\")"
   ]
  },
  {
   "cell_type": "code",
   "execution_count": 15,
   "id": "e5b5b1de",
   "metadata": {},
   "outputs": [
    {
     "data": {
      "text/plain": [
       "<__main__.Student at 0x262310b7220>"
      ]
     },
     "execution_count": 15,
     "metadata": {},
     "output_type": "execute_result"
    }
   ],
   "source": [
    "s3"
   ]
  },
  {
   "cell_type": "code",
   "execution_count": 17,
   "id": "bf623ba4",
   "metadata": {},
   "outputs": [],
   "source": [
    "s4=Student()"
   ]
  },
  {
   "cell_type": "code",
   "execution_count": 18,
   "id": "95c801a4",
   "metadata": {},
   "outputs": [
    {
     "data": {
      "text/plain": [
       "'vaishnavi'"
      ]
     },
     "execution_count": 18,
     "metadata": {},
     "output_type": "execute_result"
    }
   ],
   "source": [
    "s4.name(\"vaishnavi\")"
   ]
  },
  {
   "cell_type": "code",
   "execution_count": 29,
   "id": "f901f671",
   "metadata": {},
   "outputs": [],
   "source": [
    "class car:\n",
    "    def __init__(self,carname,model,date):\n",
    "        self.carname=carname\n",
    "        self.model=model\n",
    "        self.date=date\n",
    "        \n",
    "    def return_info(self):#method\n",
    "         return (\"hey\",self.carname,self.model,self.date)\n",
    "        "
   ]
  },
  {
   "cell_type": "code",
   "execution_count": 30,
   "id": "9e193e26",
   "metadata": {},
   "outputs": [],
   "source": [
    "a=car(\"toyota\",\"tata\",\"march\")"
   ]
  },
  {
   "cell_type": "code",
   "execution_count": 31,
   "id": "14d5aff8",
   "metadata": {},
   "outputs": [
    {
     "data": {
      "text/plain": [
       "('hey', 'toyota', 'tata', 'march')"
      ]
     },
     "execution_count": 31,
     "metadata": {},
     "output_type": "execute_result"
    }
   ],
   "source": [
    "a.return_info()"
   ]
  },
  {
   "cell_type": "code",
   "execution_count": 36,
   "id": "be36310f",
   "metadata": {},
   "outputs": [
    {
     "data": {
      "text/plain": [
       "'toyota'"
      ]
     },
     "execution_count": 36,
     "metadata": {},
     "output_type": "execute_result"
    }
   ],
   "source": [
    "a.carname"
   ]
  },
  {
   "cell_type": "code",
   "execution_count": 44,
   "id": "74ff9ad2",
   "metadata": {},
   "outputs": [],
   "source": [
    "class student():\n",
    "    college_name=\"abc college\"\n",
    "    \n",
    "    def __init__(self,fullname,marks):\n",
    "        self.fullname=fullname\n",
    "        self.marks=marks\n",
    "        print(fullname,marks)\n",
    "        \n",
    "    def welcome(self):\n",
    "        print(\"welcome student\",self.fullname,self.marks)\n",
    "    \n",
    "    def get_marks(self):\n",
    "        print(self.marks)"
   ]
  },
  {
   "cell_type": "code",
   "execution_count": 46,
   "id": "b672c344",
   "metadata": {},
   "outputs": [
    {
     "name": "stdout",
     "output_type": "stream",
     "text": [
      "Anu 98\n"
     ]
    }
   ],
   "source": [
    "s1=student(\"Anu\",98)"
   ]
  },
  {
   "cell_type": "code",
   "execution_count": 39,
   "id": "4a62d7e5",
   "metadata": {},
   "outputs": [
    {
     "data": {
      "text/plain": [
       "'Anu'"
      ]
     },
     "execution_count": 39,
     "metadata": {},
     "output_type": "execute_result"
    }
   ],
   "source": [
    "s1.fullname"
   ]
  },
  {
   "cell_type": "code",
   "execution_count": 40,
   "id": "dec48187",
   "metadata": {},
   "outputs": [
    {
     "data": {
      "text/plain": [
       "'abc college'"
      ]
     },
     "execution_count": 40,
     "metadata": {},
     "output_type": "execute_result"
    }
   ],
   "source": [
    "s1.college_name"
   ]
  },
  {
   "cell_type": "code",
   "execution_count": 41,
   "id": "0f48cb5e",
   "metadata": {},
   "outputs": [
    {
     "name": "stdout",
     "output_type": "stream",
     "text": [
      "abc college\n"
     ]
    }
   ],
   "source": [
    "print(student.college_name)"
   ]
  },
  {
   "cell_type": "code",
   "execution_count": 42,
   "id": "e934e426",
   "metadata": {},
   "outputs": [
    {
     "name": "stdout",
     "output_type": "stream",
     "text": [
      "welcome student Anu\n"
     ]
    }
   ],
   "source": [
    " s1.welcome()"
   ]
  },
  {
   "cell_type": "code",
   "execution_count": 47,
   "id": "71b8c0b9",
   "metadata": {},
   "outputs": [
    {
     "name": "stdout",
     "output_type": "stream",
     "text": [
      "98\n"
     ]
    }
   ],
   "source": [
    "s1.get_marks()"
   ]
  },
  {
   "cell_type": "code",
   "execution_count": 91,
   "id": "50300492",
   "metadata": {},
   "outputs": [],
   "source": [
    "class student:\n",
    "    def __init__(self,name,marks):\n",
    "        self.name=name\n",
    "        self.marks=marks\n",
    "\n",
    "    def get_avg(self):\n",
    "        sum=0\n",
    "        for val in self.marks:\n",
    "            sum +=val\n",
    "        print(\"hi\",self.name,\"your avg score is : \", sum/3)"
   ]
  },
  {
   "cell_type": "code",
   "execution_count": 92,
   "id": "31602ce9",
   "metadata": {},
   "outputs": [],
   "source": [
    "s1=student(\"akanksha\",[50,48,50])"
   ]
  },
  {
   "cell_type": "code",
   "execution_count": 93,
   "id": "f76ee29d",
   "metadata": {},
   "outputs": [
    {
     "name": "stdout",
     "output_type": "stream",
     "text": [
      "hi akanksha your avg score is :  49.333333333333336\n"
     ]
    }
   ],
   "source": [
    "s1.get_avg()"
   ]
  },
  {
   "cell_type": "code",
   "execution_count": 97,
   "id": "3646b375",
   "metadata": {},
   "outputs": [],
   "source": [
    "s1.name=\"vaishu\""
   ]
  },
  {
   "cell_type": "code",
   "execution_count": 98,
   "id": "f3017a72",
   "metadata": {},
   "outputs": [
    {
     "name": "stdout",
     "output_type": "stream",
     "text": [
      "hi vaishu your avg score is :  49.333333333333336\n"
     ]
    }
   ],
   "source": [
    "s1.get_avg()"
   ]
  },
  {
   "cell_type": "code",
   "execution_count": 101,
   "id": "583d55c5",
   "metadata": {},
   "outputs": [],
   "source": [
    "## static method- when we dont want to use self method"
   ]
  },
  {
   "cell_type": "code",
   "execution_count": 102,
   "id": "ed5b4919",
   "metadata": {},
   "outputs": [],
   "source": [
    "class Student:\n",
    "    @staticmethod  #decorator\n",
    "    def college():\n",
    "        print(\"abc college\")"
   ]
  },
  {
   "cell_type": "code",
   "execution_count": 104,
   "id": "bd4bc1ff",
   "metadata": {},
   "outputs": [
    {
     "data": {
      "text/plain": [
       "<function __main__.Student.college()>"
      ]
     },
     "execution_count": 104,
     "metadata": {},
     "output_type": "execute_result"
    }
   ],
   "source": [
    "z=Student()\n"
   ]
  },
  {
   "cell_type": "code",
   "execution_count": 106,
   "id": "e7116e7c",
   "metadata": {},
   "outputs": [
    {
     "name": "stdout",
     "output_type": "stream",
     "text": [
      "abc college\n"
     ]
    }
   ],
   "source": [
    "z.college()"
   ]
  },
  {
   "cell_type": "code",
   "execution_count": 136,
   "id": "43e54c1f",
   "metadata": {},
   "outputs": [],
   "source": [
    "class account:\n",
    "    def __init__(self,balance,acc_no):\n",
    "        self.balance=balance\n",
    "        self.acc_no=acc_no\n",
    "    \n",
    "    def debit_money(self,debit):\n",
    "        self.balance=self.balance-debit\n",
    "        print(\"this much\", debit,\"remained\")\n",
    "        print(\"total_balance=\",self.bal())\n",
    "        \n",
    "    def credit_money(self,credit):\n",
    "        self.balance=credit+self.balance\n",
    "        print(credit)\n",
    "        print(\"total_balance=\",self.bal())\n",
    "            \n",
    "    def bal(self):\n",
    "         return self.balance \n",
    "    \n",
    "    \n",
    "        \n",
    "        "
   ]
  },
  {
   "cell_type": "code",
   "execution_count": 137,
   "id": "d4263698",
   "metadata": {},
   "outputs": [],
   "source": [
    "a=account(1000,\"ifc9854554\")"
   ]
  },
  {
   "cell_type": "code",
   "execution_count": 138,
   "id": "d01574e8",
   "metadata": {},
   "outputs": [
    {
     "name": "stdout",
     "output_type": "stream",
     "text": [
      "this much 500 remained\n",
      "total_balance= 500\n"
     ]
    }
   ],
   "source": [
    "a.debit_money(500)"
   ]
  },
  {
   "cell_type": "code",
   "execution_count": 139,
   "id": "ef8e138a",
   "metadata": {},
   "outputs": [
    {
     "name": "stdout",
     "output_type": "stream",
     "text": [
      "1000\n",
      "total_balance= 1500\n"
     ]
    }
   ],
   "source": [
    "a.credit_money(1000)"
   ]
  },
  {
   "cell_type": "code",
   "execution_count": 140,
   "id": "4fff325f",
   "metadata": {},
   "outputs": [],
   "source": [
    "#private attributes/methods"
   ]
  },
  {
   "cell_type": "code",
   "execution_count": 141,
   "id": "cad40c37",
   "metadata": {},
   "outputs": [],
   "source": [
    "class account:\n",
    "    def __init__(self,acc_no,acc_pass):\n",
    "        self.acc_no=acc_no\n",
    "        self.__acc_pass=acc_pass\n",
    "    \n",
    "    def reset_pass(self):\n",
    "        print(self.__acc_pass)\n",
    "        \n",
    "        \n",
    "        \n",
    "        "
   ]
  },
  {
   "cell_type": "code",
   "execution_count": 142,
   "id": "585581c6",
   "metadata": {},
   "outputs": [],
   "source": [
    "ab=account(\"vnryghn\",\"123456\")"
   ]
  },
  {
   "cell_type": "code",
   "execution_count": 145,
   "id": "b9d92762",
   "metadata": {},
   "outputs": [
    {
     "data": {
      "text/plain": [
       "'vnryghn'"
      ]
     },
     "execution_count": 145,
     "metadata": {},
     "output_type": "execute_result"
    }
   ],
   "source": [
    "ab.acc_no"
   ]
  },
  {
   "cell_type": "code",
   "execution_count": 148,
   "id": "bc591bc1",
   "metadata": {},
   "outputs": [
    {
     "ename": "AttributeError",
     "evalue": "'account' object has no attribute '__acc_pass'",
     "output_type": "error",
     "traceback": [
      "\u001b[1;31m---------------------------------------------------------------------------\u001b[0m",
      "\u001b[1;31mAttributeError\u001b[0m                            Traceback (most recent call last)",
      "Cell \u001b[1;32mIn[148], line 1\u001b[0m\n\u001b[1;32m----> 1\u001b[0m \u001b[43mab\u001b[49m\u001b[38;5;241;43m.\u001b[39;49m\u001b[43m__acc_pass\u001b[49m\u001b[38;5;66;03m#because private attributes does not accessible outaside the class\u001b[39;00m\n",
      "\u001b[1;31mAttributeError\u001b[0m: 'account' object has no attribute '__acc_pass'"
     ]
    }
   ],
   "source": [
    "ab.__acc_pass#because private attributes does not accessible outaside the class"
   ]
  },
  {
   "cell_type": "code",
   "execution_count": 149,
   "id": "f22121c0",
   "metadata": {},
   "outputs": [],
   "source": [
    "class person:\n",
    "    __name=\"abcd\""
   ]
  },
  {
   "cell_type": "code",
   "execution_count": 150,
   "id": "c10f3ce2",
   "metadata": {},
   "outputs": [],
   "source": [
    "a=person()"
   ]
  },
  {
   "cell_type": "code",
   "execution_count": 151,
   "id": "1734df92",
   "metadata": {},
   "outputs": [
    {
     "ename": "AttributeError",
     "evalue": "'person' object has no attribute '__name'",
     "output_type": "error",
     "traceback": [
      "\u001b[1;31m---------------------------------------------------------------------------\u001b[0m",
      "\u001b[1;31mAttributeError\u001b[0m                            Traceback (most recent call last)",
      "Cell \u001b[1;32mIn[151], line 1\u001b[0m\n\u001b[1;32m----> 1\u001b[0m \u001b[43ma\u001b[49m\u001b[38;5;241;43m.\u001b[39;49m\u001b[43m__name\u001b[49m\n",
      "\u001b[1;31mAttributeError\u001b[0m: 'person' object has no attribute '__name'"
     ]
    }
   ],
   "source": [
    "a.__name"
   ]
  },
  {
   "cell_type": "code",
   "execution_count": 152,
   "id": "72d8e346",
   "metadata": {},
   "outputs": [],
   "source": [
    " ##inheritance"
   ]
  },
  {
   "cell_type": "code",
   "execution_count": 166,
   "id": "cc2e3b69",
   "metadata": {},
   "outputs": [],
   "source": [
    "#single inheritance\n",
    "class car:    #parent class\n",
    "    @staticmethod\n",
    "    def start():\n",
    "        print(\"Car started\")\n",
    "    \n",
    "    @staticmethod\n",
    "    def stop():\n",
    "        print(\"car stooped\")\n",
    "    \n",
    "class tatacar(car):   #child class\n",
    "     def __init__(self,name,year):\n",
    "        self.name=name\n",
    "        self.year=year\n",
    "        "
   ]
  },
  {
   "cell_type": "code",
   "execution_count": 167,
   "id": "f0ec141f",
   "metadata": {},
   "outputs": [],
   "source": [
    "a=tatacar(\"toyota\",2011)"
   ]
  },
  {
   "cell_type": "code",
   "execution_count": 168,
   "id": "3422424d",
   "metadata": {},
   "outputs": [
    {
     "data": {
      "text/plain": [
       "'toyota'"
      ]
     },
     "execution_count": 168,
     "metadata": {},
     "output_type": "execute_result"
    }
   ],
   "source": [
    "a.name"
   ]
  },
  {
   "cell_type": "code",
   "execution_count": 169,
   "id": "949d3203",
   "metadata": {},
   "outputs": [
    {
     "data": {
      "text/plain": [
       "2011"
      ]
     },
     "execution_count": 169,
     "metadata": {},
     "output_type": "execute_result"
    }
   ],
   "source": [
    "a.year"
   ]
  },
  {
   "cell_type": "code",
   "execution_count": 170,
   "id": "4de8bd90",
   "metadata": {},
   "outputs": [
    {
     "name": "stdout",
     "output_type": "stream",
     "text": [
      "car stooped\n"
     ]
    }
   ],
   "source": [
    "a.stop()"
   ]
  },
  {
   "cell_type": "code",
   "execution_count": 173,
   "id": "5b4c4467",
   "metadata": {},
   "outputs": [],
   "source": [
    "#multilevel inheritance\n",
    "class car:    #parent class\n",
    "    @staticmethod\n",
    "    def start():\n",
    "        print(\"Car started\")\n",
    "    \n",
    "    @staticmethod\n",
    "    def stop():\n",
    "        print(\"car stooped\")\n",
    "    \n",
    "class tatacar(car):   #child class of car class which act as a parent class for furtuner class\n",
    "     def __init__(self,name,year):\n",
    "        self.name=name\n",
    "        self.year=year\n",
    "    \n",
    "class fortunercar(tatacar):\n",
    "    def __init__(self,model):\n",
    "        self.model=model"
   ]
  },
  {
   "cell_type": "code",
   "execution_count": 174,
   "id": "e70ed7cc",
   "metadata": {},
   "outputs": [],
   "source": [
    "c1=fortunercar(\"ghrufuhsi\")"
   ]
  },
  {
   "cell_type": "code",
   "execution_count": 176,
   "id": "7da05e4d",
   "metadata": {},
   "outputs": [
    {
     "data": {
      "text/plain": [
       "'ghrufuhsi'"
      ]
     },
     "execution_count": 176,
     "metadata": {},
     "output_type": "execute_result"
    }
   ],
   "source": [
    "c1.model"
   ]
  },
  {
   "cell_type": "code",
   "execution_count": 177,
   "id": "bd3b960c",
   "metadata": {},
   "outputs": [
    {
     "name": "stdout",
     "output_type": "stream",
     "text": [
      "Car started\n"
     ]
    }
   ],
   "source": [
    "c1.start()"
   ]
  },
  {
   "cell_type": "code",
   "execution_count": 202,
   "id": "7a1c818f",
   "metadata": {},
   "outputs": [],
   "source": [
    "#multiple inheritance\n",
    "\n",
    "class A:\n",
    "    varA=\"welcome to class A\"\n",
    "    \n",
    "class B:\n",
    "    varB=\"welcome to class B\"\n",
    "\n",
    "class c(A,B):\n",
    "    varC=\"welcome to class C\""
   ]
  },
  {
   "cell_type": "code",
   "execution_count": 203,
   "id": "338c3168",
   "metadata": {},
   "outputs": [],
   "source": [
    "c1=c()"
   ]
  },
  {
   "cell_type": "code",
   "execution_count": 204,
   "id": "8672bbce",
   "metadata": {},
   "outputs": [
    {
     "data": {
      "text/plain": [
       "'welcome to class A'"
      ]
     },
     "execution_count": 204,
     "metadata": {},
     "output_type": "execute_result"
    }
   ],
   "source": [
    "c1.varA"
   ]
  },
  {
   "cell_type": "code",
   "execution_count": 205,
   "id": "71ee78f4",
   "metadata": {},
   "outputs": [
    {
     "data": {
      "text/plain": [
       "'welcome to class B'"
      ]
     },
     "execution_count": 205,
     "metadata": {},
     "output_type": "execute_result"
    }
   ],
   "source": [
    "\n",
    "c1.varB"
   ]
  },
  {
   "cell_type": "code",
   "execution_count": 207,
   "id": "4b80ff19",
   "metadata": {},
   "outputs": [
    {
     "data": {
      "text/plain": [
       "'welcome to class C'"
      ]
     },
     "execution_count": 207,
     "metadata": {},
     "output_type": "execute_result"
    }
   ],
   "source": [
    "c1.varC"
   ]
  },
  {
   "cell_type": "code",
   "execution_count": null,
   "id": "d6f86459",
   "metadata": {},
   "outputs": [],
   "source": [
    "#super method"
   ]
  },
  {
   "cell_type": "code",
   "execution_count": 209,
   "id": "8a15e52a",
   "metadata": {},
   "outputs": [],
   "source": [
    "\n",
    "class car:    #parent class\n",
    "    \n",
    "    def __init__(self,type):\n",
    "        self.type=type\n",
    "        \n",
    "    @staticmethod\n",
    "    def start():\n",
    "        print(\"Car started\")\n",
    "    \n",
    "    @staticmethod\n",
    "    def stop():\n",
    "        print(\"car stooped\")\n",
    "    \n",
    "class tatacar(car):   #child class \n",
    "     def __init__(self,name,type):\n",
    "        self.name=name\n",
    "        super().__init__(type)"
   ]
  },
  {
   "cell_type": "code",
   "execution_count": 211,
   "id": "64d6e343",
   "metadata": {},
   "outputs": [
    {
     "name": "stdout",
     "output_type": "stream",
     "text": [
      "electric\n"
     ]
    }
   ],
   "source": [
    "c1=tatacar(\"tata\",\"electric\")\n",
    "print(c1.type)"
   ]
  },
  {
   "cell_type": "code",
   "execution_count": 212,
   "id": "1cba21e4",
   "metadata": {},
   "outputs": [],
   "source": [
    "#super class is used when we want to access any method from parent class"
   ]
  },
  {
   "cell_type": "code",
   "execution_count": 213,
   "id": "e665afa1",
   "metadata": {},
   "outputs": [],
   "source": [
    "#class method-static method can not change or modify state but class method can"
   ]
  },
  {
   "cell_type": "code",
   "execution_count": 222,
   "id": "00d0ae6a",
   "metadata": {},
   "outputs": [],
   "source": [
    "class person:\n",
    "    name=\"Anonymous\"\n",
    "\n",
    "    @classmethod   #decorator\n",
    "    def changename(cls,name):\n",
    "        cls.name=name \n",
    "        \n",
    "        "
   ]
  },
  {
   "cell_type": "code",
   "execution_count": 223,
   "id": "38bbce75",
   "metadata": {},
   "outputs": [],
   "source": [
    "p1=person()"
   ]
  },
  {
   "cell_type": "code",
   "execution_count": 224,
   "id": "4e1fd601",
   "metadata": {},
   "outputs": [],
   "source": [
    "p1.changename(\"vikas bande\")"
   ]
  },
  {
   "cell_type": "code",
   "execution_count": 225,
   "id": "1f91c78a",
   "metadata": {},
   "outputs": [
    {
     "data": {
      "text/plain": [
       "'vikas bande'"
      ]
     },
     "execution_count": 225,
     "metadata": {},
     "output_type": "execute_result"
    }
   ],
   "source": [
    "p1.name"
   ]
  },
  {
   "cell_type": "code",
   "execution_count": 226,
   "id": "b0a7c310",
   "metadata": {},
   "outputs": [
    {
     "data": {
      "text/plain": [
       "'vikas bande'"
      ]
     },
     "execution_count": 226,
     "metadata": {},
     "output_type": "execute_result"
    }
   ],
   "source": [
    "person.name"
   ]
  },
  {
   "cell_type": "code",
   "execution_count": 266,
   "id": "74279d18",
   "metadata": {},
   "outputs": [],
   "source": [
    "class student:\n",
    "    def __init__(self,phy,chem,bio):\n",
    "        self.phy=phy\n",
    "        self.chem=chem\n",
    "        self.bio=bio\n",
    "        self.percentage=str((self.phy+self.chem+self.bio)/3) +\"%\"\n",
    "        \n",
    "    def calculate(Self):\n",
    "        self.percentage=str((self.phy+self.chem+self.bio)/3) +\"%\""
   ]
  },
  {
   "cell_type": "code",
   "execution_count": 267,
   "id": "36a4378f",
   "metadata": {},
   "outputs": [],
   "source": [
    "stu1=student(98,94,97)"
   ]
  },
  {
   "cell_type": "code",
   "execution_count": 268,
   "id": "e47908ba",
   "metadata": {},
   "outputs": [
    {
     "data": {
      "text/plain": [
       "'96.33333333333333%'"
      ]
     },
     "execution_count": 268,
     "metadata": {},
     "output_type": "execute_result"
    }
   ],
   "source": [
    "\n",
    "stu1.percentage"
   ]
  },
  {
   "cell_type": "code",
   "execution_count": 271,
   "id": "0e053c65",
   "metadata": {},
   "outputs": [],
   "source": [
    "stu1.phy=86"
   ]
  },
  {
   "cell_type": "code",
   "execution_count": 272,
   "id": "de603aea",
   "metadata": {},
   "outputs": [
    {
     "data": {
      "text/plain": [
       "'96.33333333333333%'"
      ]
     },
     "execution_count": 272,
     "metadata": {},
     "output_type": "execute_result"
    }
   ],
   "source": [
    "\n",
    "stu1.percentage"
   ]
  },
  {
   "cell_type": "code",
   "execution_count": 273,
   "id": "03374cc4",
   "metadata": {},
   "outputs": [],
   "source": [
    "#Polymorphism"
   ]
  },
  {
   "cell_type": "code",
   "execution_count": 290,
   "id": "fd4e5b97",
   "metadata": {},
   "outputs": [],
   "source": [
    " class complex:\n",
    "        def __init__(self,real,img):\n",
    "            self.real=real\n",
    "            self.img=img\n",
    "            \n",
    "        def shownumber(self):\n",
    "            print(self.real,\"i+ \" ,self.img,\"j\")\n",
    "        \n",
    "        def  add(self,num2):\n",
    "            newreal=self.real+num2.real\n",
    "            newimg=self.img+num2.img\n",
    "            return complex(newreal,newimg)"
   ]
  },
  {
   "cell_type": "code",
   "execution_count": 291,
   "id": "8fd3e402",
   "metadata": {},
   "outputs": [
    {
     "name": "stdout",
     "output_type": "stream",
     "text": [
      "1 i+  3 j\n"
     ]
    }
   ],
   "source": [
    "num1=complex(1,3)\n",
    "num1.shownumber()"
   ]
  },
  {
   "cell_type": "code",
   "execution_count": 292,
   "id": "93269bd3",
   "metadata": {},
   "outputs": [
    {
     "name": "stdout",
     "output_type": "stream",
     "text": [
      "4 i+  5 j\n"
     ]
    }
   ],
   "source": [
    "num2=complex(4,5)\n",
    "num2.shownumber()"
   ]
  },
  {
   "cell_type": "code",
   "execution_count": 293,
   "id": "08648d63",
   "metadata": {},
   "outputs": [
    {
     "data": {
      "text/plain": [
       "1"
      ]
     },
     "execution_count": 293,
     "metadata": {},
     "output_type": "execute_result"
    }
   ],
   "source": [
    "num1.real"
   ]
  },
  {
   "cell_type": "code",
   "execution_count": 294,
   "id": "d4dfcba2",
   "metadata": {},
   "outputs": [
    {
     "data": {
      "text/plain": [
       "3"
      ]
     },
     "execution_count": 294,
     "metadata": {},
     "output_type": "execute_result"
    }
   ],
   "source": [
    "num1.img"
   ]
  },
  {
   "cell_type": "code",
   "execution_count": 295,
   "id": "d42212d2",
   "metadata": {},
   "outputs": [],
   "source": [
    "num3=num1.add(num2)"
   ]
  },
  {
   "cell_type": "code",
   "execution_count": 296,
   "id": "bfbb2179",
   "metadata": {},
   "outputs": [
    {
     "data": {
      "text/plain": [
       "<__main__.complex at 0x2f116d58670>"
      ]
     },
     "execution_count": 296,
     "metadata": {},
     "output_type": "execute_result"
    }
   ],
   "source": [
    "num3"
   ]
  },
  {
   "cell_type": "code",
   "execution_count": 297,
   "id": "cba6e7c4",
   "metadata": {},
   "outputs": [
    {
     "name": "stdout",
     "output_type": "stream",
     "text": [
      "<__main__.complex object at 0x000002F116D58670>\n"
     ]
    }
   ],
   "source": [
    "print(num3)"
   ]
  },
  {
   "cell_type": "code",
   "execution_count": 298,
   "id": "8fa8da36",
   "metadata": {},
   "outputs": [
    {
     "name": "stdout",
     "output_type": "stream",
     "text": [
      "5 i+  8 j\n"
     ]
    }
   ],
   "source": [
    "num3.shownumber()"
   ]
  },
  {
   "cell_type": "code",
   "execution_count": 304,
   "id": "77e96639",
   "metadata": {},
   "outputs": [],
   "source": [
    "# using dunder function\n",
    "class complex:\n",
    "        def __init__(self,real,img):\n",
    "            self.real=real\n",
    "            self.img=img\n",
    "            \n",
    "        def shownumber(self):\n",
    "            print(self.real,\"i+ \" ,self.img,\"j\")\n",
    "        \n",
    "        def __add__(self,num2):\n",
    "            newreal=self.real+num2.real\n",
    "            newimg=self.img+num2.img\n",
    "            return complex(newreal,newimg)\n",
    "        \n",
    "        def __sub__(self,num2):\n",
    "            newreal=self.real-um2.real\n",
    "            newimg=self.img-um2.img\n",
    "            return complex(newreal,newimg)\n",
    "        \n",
    "        "
   ]
  },
  {
   "cell_type": "code",
   "execution_count": 305,
   "id": "755d33b7",
   "metadata": {},
   "outputs": [
    {
     "ename": "TypeError",
     "evalue": "unsupported operand type(s) for -: 'complex' and 'complex'",
     "output_type": "error",
     "traceback": [
      "\u001b[1;31m---------------------------------------------------------------------------\u001b[0m",
      "\u001b[1;31mTypeError\u001b[0m                                 Traceback (most recent call last)",
      "Cell \u001b[1;32mIn[305], line 1\u001b[0m\n\u001b[1;32m----> 1\u001b[0m num3\u001b[38;5;241m=\u001b[39m\u001b[43mnum1\u001b[49m\u001b[43m \u001b[49m\u001b[38;5;241;43m-\u001b[39;49m\u001b[43m \u001b[49m\u001b[43mnum2\u001b[49m\n\u001b[0;32m      2\u001b[0m num3\u001b[38;5;241m.\u001b[39mshownumber()\n",
      "\u001b[1;31mTypeError\u001b[0m: unsupported operand type(s) for -: 'complex' and 'complex'"
     ]
    }
   ],
   "source": [
    "num3=num1 - num2\n",
    "num3.shownumber()"
   ]
  },
  {
   "cell_type": "code",
   "execution_count": 333,
   "id": "57fd4411",
   "metadata": {},
   "outputs": [],
   "source": [
    "class circle:\n",
    "    def __init__(self,radius):\n",
    "        self.radius=radius\n",
    "    \n",
    "    def area(self):\n",
    "        return 3.14*(self.radius**2)\n",
    "    \n",
    "    def perimeter(self):\n",
    "        return 2*3.14*self.radius\n",
    "        "
   ]
  },
  {
   "cell_type": "code",
   "execution_count": 334,
   "id": "a734a6d9",
   "metadata": {},
   "outputs": [],
   "source": [
    "c1=circle(5)"
   ]
  },
  {
   "cell_type": "code",
   "execution_count": 335,
   "id": "f1194309",
   "metadata": {},
   "outputs": [
    {
     "data": {
      "text/plain": [
       "78.5"
      ]
     },
     "execution_count": 335,
     "metadata": {},
     "output_type": "execute_result"
    }
   ],
   "source": [
    "c1.area()"
   ]
  },
  {
   "cell_type": "code",
   "execution_count": 336,
   "id": "3730c9b3",
   "metadata": {},
   "outputs": [
    {
     "name": "stdout",
     "output_type": "stream",
     "text": [
      "<bound method circle.area of <__main__.circle object at 0x000002F1170CFB50>>\n"
     ]
    }
   ],
   "source": [
    "print(c1.area)"
   ]
  },
  {
   "cell_type": "code",
   "execution_count": 337,
   "id": "7498429d",
   "metadata": {},
   "outputs": [
    {
     "data": {
      "text/plain": [
       "31.400000000000002"
      ]
     },
     "execution_count": 337,
     "metadata": {},
     "output_type": "execute_result"
    }
   ],
   "source": [
    "c1.perimeter()"
   ]
  },
  {
   "cell_type": "code",
   "execution_count": 364,
   "id": "b1c34ceb",
   "metadata": {},
   "outputs": [],
   "source": [
    "class employee:\n",
    "    def __init__(self,role,department,salary):\n",
    "        self.role=role\n",
    "        self.department=department\n",
    "        self.salary=salary\n",
    "        \n",
    "    def showdetails(self):\n",
    "        return self.role,self.department,self.salary\n",
    "\n",
    "    class engineer(employee):\n",
    "        def __init__(self,name,age):\n",
    "            self.name=name\n",
    "            self.age=age\n",
    "            super().__init__(\"ENGG\",\"IT\",50000)\n",
    "            return self.name,self.age\n",
    "        \n",
    "        \n",
    "        "
   ]
  },
  {
   "cell_type": "code",
   "execution_count": 365,
   "id": "adb3ccc1",
   "metadata": {},
   "outputs": [],
   "source": [
    "e1=employee(\"ENGG\",\"IT\",50000)"
   ]
  },
  {
   "cell_type": "code",
   "execution_count": 366,
   "id": "51bbbb7a",
   "metadata": {},
   "outputs": [
    {
     "data": {
      "text/plain": [
       "('ENGG', 'IT', 50000)"
      ]
     },
     "execution_count": 366,
     "metadata": {},
     "output_type": "execute_result"
    }
   ],
   "source": [
    "e1.showdetails()"
   ]
  },
  {
   "cell_type": "code",
   "execution_count": 369,
   "id": "3f373726",
   "metadata": {},
   "outputs": [
    {
     "ename": "NameError",
     "evalue": "name 'engineer' is not defined",
     "output_type": "error",
     "traceback": [
      "\u001b[1;31m---------------------------------------------------------------------------\u001b[0m",
      "\u001b[1;31mNameError\u001b[0m                                 Traceback (most recent call last)",
      "Cell \u001b[1;32mIn[369], line 1\u001b[0m\n\u001b[1;32m----> 1\u001b[0m engg1\u001b[38;5;241m=\u001b[39m\u001b[43mengineer\u001b[49m(\u001b[38;5;124m\"\u001b[39m\u001b[38;5;124makshu\u001b[39m\u001b[38;5;124m\"\u001b[39m,\u001b[38;5;241m18\u001b[39m)\n",
      "\u001b[1;31mNameError\u001b[0m: name 'engineer' is not defined"
     ]
    }
   ],
   "source": [
    "engg1=engineer(\"akshu\",18)"
   ]
  },
  {
   "cell_type": "code",
   "execution_count": 372,
   "id": "649b3de1",
   "metadata": {},
   "outputs": [],
   "source": [
    "class order:\n",
    "    def __init__(self,items,price):\n",
    "        self.items=items\n",
    "        self.price=price\n",
    "        \n",
    "    def __gt__(self,odr2):\n",
    "        return self.price>odr2.price\n",
    "        \n",
    "        \n",
    "    \n",
    "\n"
   ]
  },
  {
   "cell_type": "code",
   "execution_count": 373,
   "id": "4c87ea4b",
   "metadata": {},
   "outputs": [],
   "source": [
    "odr1=order(\"chips\",20)\n",
    "odr2=order(\"kurkure\",15)\n"
   ]
  },
  {
   "cell_type": "code",
   "execution_count": 374,
   "id": "ce615d45",
   "metadata": {},
   "outputs": [
    {
     "data": {
      "text/plain": [
       "True"
      ]
     },
     "execution_count": 374,
     "metadata": {},
     "output_type": "execute_result"
    }
   ],
   "source": [
    "odr1>odr2"
   ]
  },
  {
   "cell_type": "markdown",
   "id": "96c8bc0c",
   "metadata": {},
   "source": [
    "## decorators"
   ]
  },
  {
   "cell_type": "code",
   "execution_count": 19,
   "id": "8abcf651",
   "metadata": {},
   "outputs": [],
   "source": [
    "\n",
    "def deco(func):\n",
    "    def inner_function():\n",
    "        print(\"this is start of function\")\n",
    "        func()\n",
    "        print(\"this is end of function\")\n",
    "    return inner_function"
   ]
  },
  {
   "cell_type": "code",
   "execution_count": 20,
   "id": "7714952e",
   "metadata": {},
   "outputs": [],
   "source": [
    "@deco            #decorator\n",
    "def test():\n",
    "    print(\"akanksha\")"
   ]
  },
  {
   "cell_type": "code",
   "execution_count": 21,
   "id": "0a7b6a44",
   "metadata": {},
   "outputs": [
    {
     "name": "stdout",
     "output_type": "stream",
     "text": [
      "this is start of function\n",
      "akanksha\n",
      "this is end of function\n"
     ]
    }
   ],
   "source": [
    "test()"
   ]
  },
  {
   "cell_type": "code",
   "execution_count": 40,
   "id": "d9beae1e",
   "metadata": {},
   "outputs": [],
   "source": [
    "import time\n",
    "\n",
    "def timer(func):\n",
    "    def timer_test():\n",
    "        start=time.time()\n",
    "        print(start)\n",
    "        func()\n",
    "        end=time.time()\n",
    "        print(end)\n",
    "        print(end-start)\n",
    "    return timer_test\n",
    "    \n",
    "    "
   ]
  },
  {
   "cell_type": "code",
   "execution_count": 41,
   "id": "3613cdfc",
   "metadata": {},
   "outputs": [],
   "source": [
    "@timer\n",
    "def test1():\n",
    "    print(1+5)"
   ]
  },
  {
   "cell_type": "code",
   "execution_count": 42,
   "id": "5c580a35",
   "metadata": {},
   "outputs": [
    {
     "name": "stdout",
     "output_type": "stream",
     "text": [
      "1710773510.3494647\n",
      "6\n",
      "1710773510.3494647\n",
      "0.0\n"
     ]
    }
   ],
   "source": [
    "test1()"
   ]
  },
  {
   "cell_type": "code",
   "execution_count": 96,
   "id": "60bb2fd0",
   "metadata": {},
   "outputs": [],
   "source": [
    "@timer\n",
    "def test2():\n",
    "    for i in range(0,101):\n",
    "        print(i)"
   ]
  },
  {
   "cell_type": "code",
   "execution_count": 97,
   "id": "9cf42fc7",
   "metadata": {},
   "outputs": [
    {
     "name": "stdout",
     "output_type": "stream",
     "text": [
      "1710793694.5005715\n",
      "0\n",
      "1\n",
      "2\n",
      "3\n",
      "4\n",
      "5\n",
      "6\n",
      "7\n",
      "8\n",
      "9\n",
      "10\n",
      "11\n",
      "12\n",
      "13\n",
      "14\n",
      "15\n",
      "16\n",
      "17\n",
      "18\n",
      "19\n",
      "20\n",
      "21\n",
      "22\n",
      "23\n",
      "24\n",
      "25\n",
      "26\n",
      "27\n",
      "28\n",
      "29\n",
      "30\n",
      "31\n",
      "32\n",
      "33\n",
      "34\n",
      "35\n",
      "36\n",
      "37\n",
      "38\n",
      "39\n",
      "40\n",
      "41\n",
      "42\n",
      "43\n",
      "44\n",
      "45\n",
      "46\n",
      "47\n",
      "48\n",
      "49\n",
      "50\n",
      "51\n",
      "52\n",
      "53\n",
      "54\n",
      "55\n",
      "56\n",
      "57\n",
      "58\n",
      "59\n",
      "60\n",
      "61\n",
      "62\n",
      "63\n",
      "64\n",
      "65\n",
      "66\n",
      "67\n",
      "68\n",
      "69\n",
      "70\n",
      "71\n",
      "72\n",
      "73\n",
      "74\n",
      "75\n",
      "76\n",
      "77\n",
      "78\n",
      "79\n",
      "80\n",
      "81\n",
      "82\n",
      "83\n",
      "84\n",
      "85\n",
      "86\n",
      "87\n",
      "88\n",
      "89\n",
      "90\n",
      "91\n",
      "92\n",
      "93\n",
      "94\n",
      "95\n",
      "96\n",
      "97\n",
      "98\n",
      "99\n",
      "100\n",
      "1710793694.5005715\n",
      "0.0\n"
     ]
    }
   ],
   "source": [
    "test2()"
   ]
  },
  {
   "cell_type": "markdown",
   "id": "345ee24b",
   "metadata": {},
   "source": [
    "## class method"
   ]
  },
  {
   "cell_type": "code",
   "execution_count": 60,
   "id": "42806959",
   "metadata": {},
   "outputs": [],
   "source": [
    "class test11:\n",
    "    \n",
    "    def __init__(self,name,email):\n",
    "        self.name=name\n",
    "        self.email=email\n",
    "        \n",
    "    @classmethod\n",
    "    def details(cls,name,email):\n",
    "        return cls(name,email)\n",
    "    \n",
    "    def stu_details(self):\n",
    "        print(self.name,self.email)"
   ]
  },
  {
   "cell_type": "code",
   "execution_count": 61,
   "id": "4e7e694c",
   "metadata": {},
   "outputs": [],
   "source": [
    " #if we are using class method then we can directly access using class name of that particulalr class"
   ]
  },
  {
   "cell_type": "code",
   "execution_count": 62,
   "id": "3eaf7c7b",
   "metadata": {},
   "outputs": [],
   "source": [
    "aa=test11.details(\"gaurav\",\"gaurav@gmail.com\")"
   ]
  },
  {
   "cell_type": "code",
   "execution_count": 63,
   "id": "2669be53",
   "metadata": {},
   "outputs": [
    {
     "data": {
      "text/plain": [
       "'gaurav'"
      ]
     },
     "execution_count": 63,
     "metadata": {},
     "output_type": "execute_result"
    }
   ],
   "source": [
    "aa.name"
   ]
  },
  {
   "cell_type": "code",
   "execution_count": 64,
   "id": "03de3fee",
   "metadata": {},
   "outputs": [
    {
     "data": {
      "text/plain": [
       "'gaurav@gmail.com'"
      ]
     },
     "execution_count": 64,
     "metadata": {},
     "output_type": "execute_result"
    }
   ],
   "source": [
    "aa.email"
   ]
  },
  {
   "cell_type": "code",
   "execution_count": 66,
   "id": "ed4b9b97",
   "metadata": {},
   "outputs": [],
   "source": [
    "class test11:\n",
    "    \n",
    "    mob_no=9845678912   #class variable\n",
    "    \n",
    "    def __init__(self,name,email):\n",
    "        self.name=name\n",
    "        self.email=email\n",
    "        \n",
    "    @classmethod\n",
    "    def details(cls,name,email):\n",
    "        return cls(name,email)\n",
    "    \n",
    "    def stu_details(self):\n",
    "        print(self.name,self.email)"
   ]
  },
  {
   "cell_type": "code",
   "execution_count": 67,
   "id": "2f63f358",
   "metadata": {},
   "outputs": [
    {
     "data": {
      "text/plain": [
       "9845678912"
      ]
     },
     "execution_count": 67,
     "metadata": {},
     "output_type": "execute_result"
    }
   ],
   "source": [
    "test11.mob_no"
   ]
  },
  {
   "cell_type": "code",
   "execution_count": 77,
   "id": "f177cb48",
   "metadata": {},
   "outputs": [],
   "source": [
    " class test11:\n",
    "    \n",
    "    mob_no=9845678912   #class variable\n",
    "    \n",
    "    def __init__(self,name,email):\n",
    "        self.name=name\n",
    "        self.email=email\n",
    "        \n",
    "    @classmethod\n",
    "    def change_num(cls,mobile):  #to change mobile number without init method\n",
    "        test11.mob_no=mobile\n",
    "        \n",
    "    @classmethod\n",
    "    def details(cls,name,email):\n",
    "        return cls(name,email)\n",
    "    \n",
    "    def stu_details(self):\n",
    "        print(self.name,self.email,test11.mob_no)"
   ]
  },
  {
   "cell_type": "code",
   "execution_count": 78,
   "id": "ea8fa7d4",
   "metadata": {},
   "outputs": [
    {
     "data": {
      "text/plain": [
       "9845678912"
      ]
     },
     "execution_count": 78,
     "metadata": {},
     "output_type": "execute_result"
    }
   ],
   "source": [
    "test11.mob_no"
   ]
  },
  {
   "cell_type": "code",
   "execution_count": 79,
   "id": "a3e83ae9",
   "metadata": {},
   "outputs": [],
   "source": [
    "test11.change_num(59789541651)"
   ]
  },
  {
   "cell_type": "code",
   "execution_count": 80,
   "id": "63e59d50",
   "metadata": {},
   "outputs": [
    {
     "data": {
      "text/plain": [
       "59789541651"
      ]
     },
     "execution_count": 80,
     "metadata": {},
     "output_type": "execute_result"
    }
   ],
   "source": [
    "test11.mob_no"
   ]
  },
  {
   "cell_type": "code",
   "execution_count": 81,
   "id": "265e3f89",
   "metadata": {},
   "outputs": [],
   "source": [
    "ab=test11(\"mantu\",\"mantu@gmail.com\")"
   ]
  },
  {
   "cell_type": "code",
   "execution_count": 83,
   "id": "ee7f0f7f",
   "metadata": {},
   "outputs": [
    {
     "name": "stdout",
     "output_type": "stream",
     "text": [
      "mantu mantu@gmail.com 59789541651\n"
     ]
    }
   ],
   "source": [
    "ab.stu_details()"
   ]
  },
  {
   "cell_type": "code",
   "execution_count": 84,
   "id": "8c463c11",
   "metadata": {},
   "outputs": [],
   "source": [
    "##class method is used basically to overload the __init__ method"
   ]
  },
  {
   "cell_type": "code",
   "execution_count": 85,
   "id": "a1b73860",
   "metadata": {},
   "outputs": [],
   "source": [
    " class test11:\n",
    "    \n",
    "    mob_no=9845678912   #class variable\n",
    "    \n",
    "    def __init__(self,name,email):\n",
    "        self.name=name\n",
    "        self.email=email\n",
    "        \n",
    "    @classmethod\n",
    "    def change_num(cls,mobile):  #to change mobile number without init method\n",
    "        test11.mob_no=mobile\n",
    "        \n",
    "    @classmethod\n",
    "    def details(cls,name,email):\n",
    "        return cls(name,email)\n",
    "    \n",
    "    def stu_details(self):\n",
    "        print(self.name,self.email,test11.mob_no)"
   ]
  },
  {
   "cell_type": "code",
   "execution_count": 90,
   "id": "24fbb5be",
   "metadata": {},
   "outputs": [],
   "source": [
    "def course_details(cls,course_name):\n",
    "    print(\"course name is:\",course_name) \n",
    "\n",
    "    #this is external function which is attached with above class .so that we can access it using above class\n",
    "    "
   ]
  },
  {
   "cell_type": "code",
   "execution_count": 91,
   "id": "0ff2c1aa",
   "metadata": {},
   "outputs": [],
   "source": [
    "test11.course_details=classmethod(course_details)"
   ]
  },
  {
   "cell_type": "code",
   "execution_count": 92,
   "id": "11b6fcf7",
   "metadata": {},
   "outputs": [
    {
     "name": "stdout",
     "output_type": "stream",
     "text": [
      "course name is: data science masters\n"
     ]
    }
   ],
   "source": [
    "test11.course_details(\"data science masters\")"
   ]
  },
  {
   "cell_type": "code",
   "execution_count": 93,
   "id": "3161c8cf",
   "metadata": {},
   "outputs": [],
   "source": [
    "def mentor(cls,list_mentors):\n",
    "    print(list_mentors)"
   ]
  },
  {
   "cell_type": "code",
   "execution_count": 94,
   "id": "ce971a3a",
   "metadata": {},
   "outputs": [],
   "source": [
    "test11.mentor=classmethod(mentor)"
   ]
  },
  {
   "cell_type": "code",
   "execution_count": 95,
   "id": "f2aa0c8c",
   "metadata": {},
   "outputs": [
    {
     "name": "stdout",
     "output_type": "stream",
     "text": [
      "['aksha', 'gaurav']\n"
     ]
    }
   ],
   "source": [
    "test11.mentor(['aksha','gaurav'])"
   ]
  },
  {
   "cell_type": "code",
   "execution_count": 103,
   "id": "e2c9b13a",
   "metadata": {},
   "outputs": [
    {
     "ename": "AttributeError",
     "evalue": "change_num",
     "output_type": "error",
     "traceback": [
      "\u001b[1;31m---------------------------------------------------------------------------\u001b[0m",
      "\u001b[1;31mAttributeError\u001b[0m                            Traceback (most recent call last)",
      "Cell \u001b[1;32mIn[103], line 1\u001b[0m\n\u001b[1;32m----> 1\u001b[0m \u001b[38;5;28;01mdel\u001b[39;00m test11\u001b[38;5;241m.\u001b[39mchange_num   \n",
      "\u001b[1;31mAttributeError\u001b[0m: change_num"
     ]
    }
   ],
   "source": [
    "del test11.change_num   \n"
   ]
  },
  {
   "cell_type": "code",
   "execution_count": 104,
   "id": "263d88df",
   "metadata": {},
   "outputs": [
    {
     "ename": "SyntaxError",
     "evalue": "invalid syntax (3303763357.py, line 1)",
     "output_type": "error",
     "traceback": [
      "\u001b[1;36m  Cell \u001b[1;32mIn[104], line 1\u001b[1;36m\u001b[0m\n\u001b[1;33m    test11.  #now change now will not work\u001b[0m\n\u001b[1;37m             ^\u001b[0m\n\u001b[1;31mSyntaxError\u001b[0m\u001b[1;31m:\u001b[0m invalid syntax\n"
     ]
    }
   ],
   "source": [
    "test11.  #now change_num   will not work"
   ]
  },
  {
   "cell_type": "code",
   "execution_count": 106,
   "id": "0b33e6a0",
   "metadata": {},
   "outputs": [
    {
     "ename": "AttributeError",
     "evalue": "details",
     "output_type": "error",
     "traceback": [
      "\u001b[1;31m---------------------------------------------------------------------------\u001b[0m",
      "\u001b[1;31mAttributeError\u001b[0m                            Traceback (most recent call last)",
      "Cell \u001b[1;32mIn[106], line 1\u001b[0m\n\u001b[1;32m----> 1\u001b[0m \u001b[38;5;28;43mdelattr\u001b[39;49m\u001b[43m(\u001b[49m\u001b[43mtest11\u001b[49m\u001b[43m,\u001b[49m\u001b[38;5;124;43m\"\u001b[39;49m\u001b[38;5;124;43mdetails\u001b[39;49m\u001b[38;5;124;43m\"\u001b[39;49m\u001b[43m)\u001b[49m   \u001b[38;5;66;03m##to delete attribute which is not directly link to class method \u001b[39;00m\n",
      "\u001b[1;31mAttributeError\u001b[0m: details"
     ]
    }
   ],
   "source": [
    "delattr(test11,\"details\")   ##to delete attribute which is not directly link to class method "
   ]
  },
  {
   "cell_type": "code",
   "execution_count": null,
   "id": "90d33de8",
   "metadata": {},
   "outputs": [],
   "source": [
    "test11."
   ]
  },
  {
   "cell_type": "code",
   "execution_count": 107,
   "id": "a9a5b2a5",
   "metadata": {},
   "outputs": [],
   "source": [
    "##static method binds with class method"
   ]
  },
  {
   "cell_type": "markdown",
   "id": "67a3f961",
   "metadata": {},
   "source": [
    "## Magic/ Dunder function"
   ]
  },
  {
   "cell_type": "code",
   "execution_count": 1,
   "id": "3fa93d54",
   "metadata": {},
   "outputs": [
    {
     "data": {
      "text/plain": [
       "['__abs__',\n",
       " '__add__',\n",
       " '__and__',\n",
       " '__bool__',\n",
       " '__ceil__',\n",
       " '__class__',\n",
       " '__delattr__',\n",
       " '__dir__',\n",
       " '__divmod__',\n",
       " '__doc__',\n",
       " '__eq__',\n",
       " '__float__',\n",
       " '__floor__',\n",
       " '__floordiv__',\n",
       " '__format__',\n",
       " '__ge__',\n",
       " '__getattribute__',\n",
       " '__getnewargs__',\n",
       " '__gt__',\n",
       " '__hash__',\n",
       " '__index__',\n",
       " '__init__',\n",
       " '__init_subclass__',\n",
       " '__int__',\n",
       " '__invert__',\n",
       " '__le__',\n",
       " '__lshift__',\n",
       " '__lt__',\n",
       " '__mod__',\n",
       " '__mul__',\n",
       " '__ne__',\n",
       " '__neg__',\n",
       " '__new__',\n",
       " '__or__',\n",
       " '__pos__',\n",
       " '__pow__',\n",
       " '__radd__',\n",
       " '__rand__',\n",
       " '__rdivmod__',\n",
       " '__reduce__',\n",
       " '__reduce_ex__',\n",
       " '__repr__',\n",
       " '__rfloordiv__',\n",
       " '__rlshift__',\n",
       " '__rmod__',\n",
       " '__rmul__',\n",
       " '__ror__',\n",
       " '__round__',\n",
       " '__rpow__',\n",
       " '__rrshift__',\n",
       " '__rshift__',\n",
       " '__rsub__',\n",
       " '__rtruediv__',\n",
       " '__rxor__',\n",
       " '__setattr__',\n",
       " '__sizeof__',\n",
       " '__str__',\n",
       " '__sub__',\n",
       " '__subclasshook__',\n",
       " '__truediv__',\n",
       " '__trunc__',\n",
       " '__xor__',\n",
       " 'as_integer_ratio',\n",
       " 'bit_count',\n",
       " 'bit_length',\n",
       " 'conjugate',\n",
       " 'denominator',\n",
       " 'from_bytes',\n",
       " 'imag',\n",
       " 'numerator',\n",
       " 'real',\n",
       " 'to_bytes']"
      ]
     },
     "execution_count": 1,
     "metadata": {},
     "output_type": "execute_result"
    }
   ],
   "source": [
    "dir(int)"
   ]
  },
  {
   "cell_type": "code",
   "execution_count": 2,
   "id": "6c5f1274",
   "metadata": {},
   "outputs": [
    {
     "data": {
      "text/plain": [
       "['__add__',\n",
       " '__class__',\n",
       " '__contains__',\n",
       " '__delattr__',\n",
       " '__dir__',\n",
       " '__doc__',\n",
       " '__eq__',\n",
       " '__format__',\n",
       " '__ge__',\n",
       " '__getattribute__',\n",
       " '__getitem__',\n",
       " '__getnewargs__',\n",
       " '__gt__',\n",
       " '__hash__',\n",
       " '__init__',\n",
       " '__init_subclass__',\n",
       " '__iter__',\n",
       " '__le__',\n",
       " '__len__',\n",
       " '__lt__',\n",
       " '__mod__',\n",
       " '__mul__',\n",
       " '__ne__',\n",
       " '__new__',\n",
       " '__reduce__',\n",
       " '__reduce_ex__',\n",
       " '__repr__',\n",
       " '__rmod__',\n",
       " '__rmul__',\n",
       " '__setattr__',\n",
       " '__sizeof__',\n",
       " '__str__',\n",
       " '__subclasshook__',\n",
       " 'capitalize',\n",
       " 'casefold',\n",
       " 'center',\n",
       " 'count',\n",
       " 'encode',\n",
       " 'endswith',\n",
       " 'expandtabs',\n",
       " 'find',\n",
       " 'format',\n",
       " 'format_map',\n",
       " 'index',\n",
       " 'isalnum',\n",
       " 'isalpha',\n",
       " 'isascii',\n",
       " 'isdecimal',\n",
       " 'isdigit',\n",
       " 'isidentifier',\n",
       " 'islower',\n",
       " 'isnumeric',\n",
       " 'isprintable',\n",
       " 'isspace',\n",
       " 'istitle',\n",
       " 'isupper',\n",
       " 'join',\n",
       " 'ljust',\n",
       " 'lower',\n",
       " 'lstrip',\n",
       " 'maketrans',\n",
       " 'partition',\n",
       " 'removeprefix',\n",
       " 'removesuffix',\n",
       " 'replace',\n",
       " 'rfind',\n",
       " 'rindex',\n",
       " 'rjust',\n",
       " 'rpartition',\n",
       " 'rsplit',\n",
       " 'rstrip',\n",
       " 'split',\n",
       " 'splitlines',\n",
       " 'startswith',\n",
       " 'strip',\n",
       " 'swapcase',\n",
       " 'title',\n",
       " 'translate',\n",
       " 'upper',\n",
       " 'zfill']"
      ]
     },
     "execution_count": 2,
     "metadata": {},
     "output_type": "execute_result"
    }
   ],
   "source": [
    "dir(str)"
   ]
  },
  {
   "cell_type": "code",
   "execution_count": 3,
   "id": "fe58418f",
   "metadata": {},
   "outputs": [
    {
     "data": {
      "text/plain": [
       "['__add__',\n",
       " '__class__',\n",
       " '__contains__',\n",
       " '__delattr__',\n",
       " '__dir__',\n",
       " '__doc__',\n",
       " '__eq__',\n",
       " '__format__',\n",
       " '__ge__',\n",
       " '__getattribute__',\n",
       " '__getitem__',\n",
       " '__getnewargs__',\n",
       " '__gt__',\n",
       " '__hash__',\n",
       " '__init__',\n",
       " '__init_subclass__',\n",
       " '__iter__',\n",
       " '__le__',\n",
       " '__len__',\n",
       " '__lt__',\n",
       " '__mod__',\n",
       " '__mul__',\n",
       " '__ne__',\n",
       " '__new__',\n",
       " '__reduce__',\n",
       " '__reduce_ex__',\n",
       " '__repr__',\n",
       " '__rmod__',\n",
       " '__rmul__',\n",
       " '__setattr__',\n",
       " '__sizeof__',\n",
       " '__str__',\n",
       " '__subclasshook__',\n",
       " 'capitalize',\n",
       " 'casefold',\n",
       " 'center',\n",
       " 'count',\n",
       " 'encode',\n",
       " 'endswith',\n",
       " 'expandtabs',\n",
       " 'find',\n",
       " 'format',\n",
       " 'format_map',\n",
       " 'index',\n",
       " 'isalnum',\n",
       " 'isalpha',\n",
       " 'isascii',\n",
       " 'isdecimal',\n",
       " 'isdigit',\n",
       " 'isidentifier',\n",
       " 'islower',\n",
       " 'isnumeric',\n",
       " 'isprintable',\n",
       " 'isspace',\n",
       " 'istitle',\n",
       " 'isupper',\n",
       " 'join',\n",
       " 'ljust',\n",
       " 'lower',\n",
       " 'lstrip',\n",
       " 'maketrans',\n",
       " 'partition',\n",
       " 'removeprefix',\n",
       " 'removesuffix',\n",
       " 'replace',\n",
       " 'rfind',\n",
       " 'rindex',\n",
       " 'rjust',\n",
       " 'rpartition',\n",
       " 'rsplit',\n",
       " 'rstrip',\n",
       " 'split',\n",
       " 'splitlines',\n",
       " 'startswith',\n",
       " 'strip',\n",
       " 'swapcase',\n",
       " 'title',\n",
       " 'translate',\n",
       " 'upper',\n",
       " 'zfill']"
      ]
     },
     "execution_count": 3,
     "metadata": {},
     "output_type": "execute_result"
    }
   ],
   "source": [
    "dir(str)"
   ]
  },
  {
   "cell_type": "code",
   "execution_count": 4,
   "id": "820187e0",
   "metadata": {},
   "outputs": [],
   "source": [
    "a=100"
   ]
  },
  {
   "cell_type": "code",
   "execution_count": 5,
   "id": "f971aedb",
   "metadata": {},
   "outputs": [
    {
     "data": {
      "text/plain": [
       "105"
      ]
     },
     "execution_count": 5,
     "metadata": {},
     "output_type": "execute_result"
    }
   ],
   "source": [
    "a+5"
   ]
  },
  {
   "cell_type": "code",
   "execution_count": 6,
   "id": "f1a5c004",
   "metadata": {},
   "outputs": [],
   "source": [
    "#by using dunder function"
   ]
  },
  {
   "cell_type": "code",
   "execution_count": 8,
   "id": "67416bb2",
   "metadata": {},
   "outputs": [
    {
     "data": {
      "text/plain": [
       "105"
      ]
     },
     "execution_count": 8,
     "metadata": {},
     "output_type": "execute_result"
    }
   ],
   "source": [
    "a.__add__(5)"
   ]
  },
  {
   "cell_type": "code",
   "execution_count": 18,
   "id": "1c14604a",
   "metadata": {},
   "outputs": [],
   "source": [
    "class academy:\n",
    " \n",
    "    def __new__(cls):               #new is first magic function which is created before init\n",
    "        print(\"this is my new method\")# also it helps to create new instances\n",
    "    \n",
    "    \n",
    "    def __init__(self):  #this is dunder function:init\n",
    "        print(\"this is my init method\")\n",
    "        self.mob_no=7845985641\n",
    "        \n",
    "        \n",
    "        "
   ]
  },
  {
   "cell_type": "code",
   "execution_count": 19,
   "id": "d90789ff",
   "metadata": {},
   "outputs": [
    {
     "name": "stdout",
     "output_type": "stream",
     "text": [
      "this is my new method\n"
     ]
    }
   ],
   "source": [
    "ac=academy()"
   ]
  },
  {
   "cell_type": "code",
   "execution_count": 20,
   "id": "82ab7504",
   "metadata": {},
   "outputs": [
    {
     "ename": "AttributeError",
     "evalue": "'NoneType' object has no attribute 'mob_no'",
     "output_type": "error",
     "traceback": [
      "\u001b[1;31m---------------------------------------------------------------------------\u001b[0m",
      "\u001b[1;31mAttributeError\u001b[0m                            Traceback (most recent call last)",
      "Cell \u001b[1;32mIn[20], line 1\u001b[0m\n\u001b[1;32m----> 1\u001b[0m \u001b[43mac\u001b[49m\u001b[38;5;241;43m.\u001b[39;49m\u001b[43mmob_no\u001b[49m\n",
      "\u001b[1;31mAttributeError\u001b[0m: 'NoneType' object has no attribute 'mob_no'"
     ]
    }
   ],
   "source": [
    "ac.mob_no"
   ]
  },
  {
   "cell_type": "code",
   "execution_count": 21,
   "id": "ce02ed3e",
   "metadata": {},
   "outputs": [],
   "source": [
    "class academy:\n",
    "\n",
    "    def __init__(self):  \n",
    "        self.mob_no=7845985641\n",
    "        \n",
    "    def __str__(self):   #str is dunder function which basically return output in form of strings fro a particular function\n",
    "        return \"this is my magic call of str\" \n",
    "        \n",
    "        "
   ]
  },
  {
   "cell_type": "code",
   "execution_count": 22,
   "id": "b0f00c72",
   "metadata": {},
   "outputs": [],
   "source": [
    "ad=academy()"
   ]
  },
  {
   "cell_type": "code",
   "execution_count": 23,
   "id": "7ef0bc61",
   "metadata": {},
   "outputs": [
    {
     "data": {
      "text/plain": [
       "7845985641"
      ]
     },
     "execution_count": 23,
     "metadata": {},
     "output_type": "execute_result"
    }
   ],
   "source": [
    "ad.mob_no"
   ]
  },
  {
   "cell_type": "code",
   "execution_count": 24,
   "id": "d089798e",
   "metadata": {},
   "outputs": [
    {
     "data": {
      "text/plain": [
       "<__main__.academy at 0x1f45ec24c70>"
      ]
     },
     "execution_count": 24,
     "metadata": {},
     "output_type": "execute_result"
    }
   ],
   "source": [
    "ad"
   ]
  },
  {
   "cell_type": "code",
   "execution_count": 26,
   "id": "4e982f4c",
   "metadata": {},
   "outputs": [
    {
     "name": "stdout",
     "output_type": "stream",
     "text": [
      "this is my magic call of str\n"
     ]
    }
   ],
   "source": [
    "print(ad)"
   ]
  },
  {
   "cell_type": "markdown",
   "id": "e68a5a41",
   "metadata": {},
   "source": [
    "## Property decorators Getters,Setters and Deletes"
   ]
  },
  {
   "cell_type": "code",
   "execution_count": 30,
   "id": "3e7ad4f6",
   "metadata": {},
   "outputs": [],
   "source": [
    "class mtech:\n",
    "    def __init__(self,course_price,course_name):\n",
    "        self.__course_price=course_price\n",
    "        self.course_name=course_name"
   ]
  },
  {
   "cell_type": "code",
   "execution_count": 31,
   "id": "5793ac6a",
   "metadata": {},
   "outputs": [],
   "source": [
    "ab=mtech(9855,\"bioinfo\")"
   ]
  },
  {
   "cell_type": "code",
   "execution_count": 32,
   "id": "e6cdbe01",
   "metadata": {},
   "outputs": [
    {
     "data": {
      "text/plain": [
       "<__main__.mtech at 0x1f45ec24af0>"
      ]
     },
     "execution_count": 32,
     "metadata": {},
     "output_type": "execute_result"
    }
   ],
   "source": [
    "ab"
   ]
  },
  {
   "cell_type": "code",
   "execution_count": 33,
   "id": "e7f3969a",
   "metadata": {},
   "outputs": [
    {
     "ename": "AttributeError",
     "evalue": "'mtech' object has no attribute 'course_price'",
     "output_type": "error",
     "traceback": [
      "\u001b[1;31m---------------------------------------------------------------------------\u001b[0m",
      "\u001b[1;31mAttributeError\u001b[0m                            Traceback (most recent call last)",
      "Cell \u001b[1;32mIn[33], line 1\u001b[0m\n\u001b[1;32m----> 1\u001b[0m \u001b[43mab\u001b[49m\u001b[38;5;241;43m.\u001b[39;49m\u001b[43mcourse_price\u001b[49m\n",
      "\u001b[1;31mAttributeError\u001b[0m: 'mtech' object has no attribute 'course_price'"
     ]
    }
   ],
   "source": [
    "ab.course_price"
   ]
  },
  {
   "cell_type": "code",
   "execution_count": 34,
   "id": "f43fc83d",
   "metadata": {},
   "outputs": [
    {
     "data": {
      "text/plain": [
       "'bioinfo'"
      ]
     },
     "execution_count": 34,
     "metadata": {},
     "output_type": "execute_result"
    }
   ],
   "source": [
    "ab.course_name"
   ]
  },
  {
   "cell_type": "code",
   "execution_count": 36,
   "id": "4ea0acdb",
   "metadata": {},
   "outputs": [
    {
     "data": {
      "text/plain": [
       "9855"
      ]
     },
     "execution_count": 36,
     "metadata": {},
     "output_type": "execute_result"
    }
   ],
   "source": [
    "ab._mtech__course_price"
   ]
  },
  {
   "cell_type": "code",
   "execution_count": 19,
   "id": "422361a0",
   "metadata": {},
   "outputs": [],
   "source": [
    "class mtech:\n",
    "    def __init__(self,course_price,course_name):\n",
    "        self.__course_price=course_price\n",
    "        self.course_name=course_name\n",
    "    \n",
    "    @property        #property decorator will help you to access those attributes which were private\n",
    "    def course_price_access(self):\n",
    "            return  self.__course_price\n",
    "        \n",
    "    @course_price_access.setter  ##this setter will help you to modify the attibute\n",
    "    def course_price_set(self,price):\n",
    "        if price<=3500:\n",
    "            pass\n",
    "        else:\n",
    "            self.course.price=price\n",
    "            \n",
    "    @course_price_access.deleter ##tis decorator will help you to delete the attribute\n",
    "    def delete_course_price(self):\n",
    "        del self.__course_price\n",
    "    \n",
    "    "
   ]
  },
  {
   "cell_type": "code",
   "execution_count": 20,
   "id": "708468f8",
   "metadata": {},
   "outputs": [],
   "source": [
    "ab=mtech(2926,\"AI\")"
   ]
  },
  {
   "cell_type": "code",
   "execution_count": 21,
   "id": "35dd04b8",
   "metadata": {},
   "outputs": [
    {
     "data": {
      "text/plain": [
       "2926"
      ]
     },
     "execution_count": 21,
     "metadata": {},
     "output_type": "execute_result"
    }
   ],
   "source": [
    "ab.course_price_access\n"
   ]
  },
  {
   "cell_type": "code",
   "execution_count": 22,
   "id": "75248a95",
   "metadata": {},
   "outputs": [],
   "source": [
    "ab.course_price_set=3500"
   ]
  },
  {
   "cell_type": "code",
   "execution_count": 23,
   "id": "93783f36",
   "metadata": {},
   "outputs": [
    {
     "data": {
      "text/plain": [
       "2926"
      ]
     },
     "execution_count": 23,
     "metadata": {},
     "output_type": "execute_result"
    }
   ],
   "source": [
    "ab.course_price_access"
   ]
  },
  {
   "cell_type": "code",
   "execution_count": 24,
   "id": "75ab6095",
   "metadata": {},
   "outputs": [
    {
     "data": {
      "text/plain": [
       "<__main__.mtech at 0x287ccfb9e40>"
      ]
     },
     "execution_count": 24,
     "metadata": {},
     "output_type": "execute_result"
    }
   ],
   "source": [
    "ab"
   ]
  },
  {
   "cell_type": "code",
   "execution_count": 25,
   "id": "31fb0d3f",
   "metadata": {},
   "outputs": [
    {
     "data": {
      "text/plain": [
       "2926"
      ]
     },
     "execution_count": 25,
     "metadata": {},
     "output_type": "execute_result"
    }
   ],
   "source": [
    "ab.course_price_access"
   ]
  },
  {
   "cell_type": "code",
   "execution_count": 27,
   "id": "bf7f3a46",
   "metadata": {},
   "outputs": [],
   "source": [
    "del ab.delete_course_price"
   ]
  },
  {
   "cell_type": "code",
   "execution_count": 28,
   "id": "ea48b77b",
   "metadata": {},
   "outputs": [
    {
     "ename": "AttributeError",
     "evalue": "'mtech' object has no attribute '_mtech__course_price'",
     "output_type": "error",
     "traceback": [
      "\u001b[1;31m---------------------------------------------------------------------------\u001b[0m",
      "\u001b[1;31mAttributeError\u001b[0m                            Traceback (most recent call last)",
      "Cell \u001b[1;32mIn[28], line 1\u001b[0m\n\u001b[1;32m----> 1\u001b[0m \u001b[43mab\u001b[49m\u001b[38;5;241;43m.\u001b[39;49m\u001b[43mcourse_price_access\u001b[49m\n",
      "Cell \u001b[1;32mIn[19], line 8\u001b[0m, in \u001b[0;36mmtech.course_price_access\u001b[1;34m(self)\u001b[0m\n\u001b[0;32m      6\u001b[0m \u001b[38;5;129m@property\u001b[39m        \u001b[38;5;66;03m#property decorator will help you to access those attributes which were private\u001b[39;00m\n\u001b[0;32m      7\u001b[0m \u001b[38;5;28;01mdef\u001b[39;00m \u001b[38;5;21mcourse_price_access\u001b[39m(\u001b[38;5;28mself\u001b[39m):\n\u001b[1;32m----> 8\u001b[0m         \u001b[38;5;28;01mreturn\u001b[39;00m  \u001b[38;5;28;43mself\u001b[39;49m\u001b[38;5;241;43m.\u001b[39;49m\u001b[43m__course_price\u001b[49m\n",
      "\u001b[1;31mAttributeError\u001b[0m: 'mtech' object has no attribute '_mtech__course_price'"
     ]
    }
   ],
   "source": [
    "ab.course_price_access"
   ]
  },
  {
   "cell_type": "code",
   "execution_count": null,
   "id": "c492cd17",
   "metadata": {},
   "outputs": [],
   "source": []
  }
 ],
 "metadata": {
  "kernelspec": {
   "display_name": "Python 3 (ipykernel)",
   "language": "python",
   "name": "python3"
  },
  "language_info": {
   "codemirror_mode": {
    "name": "ipython",
    "version": 3
   },
   "file_extension": ".py",
   "mimetype": "text/x-python",
   "name": "python",
   "nbconvert_exporter": "python",
   "pygments_lexer": "ipython3",
   "version": "3.10.9"
  }
 },
 "nbformat": 4,
 "nbformat_minor": 5
}
