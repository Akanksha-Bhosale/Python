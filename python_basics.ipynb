{
 "cells": [
  {
   "cell_type": "markdown",
   "id": "efaa20d0",
   "metadata": {},
   "source": [
    "## Python basics"
   ]
  },
  {
   "cell_type": "code",
   "execution_count": 4,
   "id": "5b78646d",
   "metadata": {},
   "outputs": [],
   "source": [
    "##lists"
   ]
  },
  {
   "cell_type": "code",
   "execution_count": 5,
   "id": "37c97480",
   "metadata": {},
   "outputs": [],
   "source": [
    "l=[1,3,315.23,'AB',True]"
   ]
  },
  {
   "cell_type": "code",
   "execution_count": 6,
   "id": "84b2f7e8",
   "metadata": {},
   "outputs": [
    {
     "data": {
      "text/plain": [
       "[1, 3, 315.23, 'AB', True]"
      ]
     },
     "execution_count": 6,
     "metadata": {},
     "output_type": "execute_result"
    }
   ],
   "source": [
    "l"
   ]
  },
  {
   "cell_type": "code",
   "execution_count": 7,
   "id": "90081cfe",
   "metadata": {},
   "outputs": [
    {
     "name": "stdout",
     "output_type": "stream",
     "text": [
      "[1, 3, 315.23, 'AB', True]\n"
     ]
    }
   ],
   "source": [
    "print(l)"
   ]
  },
  {
   "cell_type": "code",
   "execution_count": 8,
   "id": "272473c1",
   "metadata": {},
   "outputs": [
    {
     "data": {
      "text/plain": [
       "'A'"
      ]
     },
     "execution_count": 8,
     "metadata": {},
     "output_type": "execute_result"
    }
   ],
   "source": [
    "l[3][0]"
   ]
  },
  {
   "cell_type": "code",
   "execution_count": 9,
   "id": "2a61e8d1",
   "metadata": {},
   "outputs": [
    {
     "data": {
      "text/plain": [
       "'Tr'"
      ]
     },
     "execution_count": 9,
     "metadata": {},
     "output_type": "execute_result"
    }
   ],
   "source": [
    "str(l[4])[0:2]"
   ]
  },
  {
   "cell_type": "code",
   "execution_count": 10,
   "id": "66f72033",
   "metadata": {},
   "outputs": [],
   "source": [
    "l.append(5)"
   ]
  },
  {
   "cell_type": "code",
   "execution_count": 11,
   "id": "b3b8e1e7",
   "metadata": {},
   "outputs": [
    {
     "data": {
      "text/plain": [
       "[1, 3, 315.23, 'AB', True, 5]"
      ]
     },
     "execution_count": 11,
     "metadata": {},
     "output_type": "execute_result"
    }
   ],
   "source": [
    "l"
   ]
  },
  {
   "cell_type": "code",
   "execution_count": 12,
   "id": "6c9889f0",
   "metadata": {},
   "outputs": [],
   "source": [
    "l.extend([3,4,5])"
   ]
  },
  {
   "cell_type": "code",
   "execution_count": 13,
   "id": "d6cdd3d4",
   "metadata": {},
   "outputs": [
    {
     "data": {
      "text/plain": [
       "[1, 3, 315.23, 'AB', True, 5, 3, 4, 5]"
      ]
     },
     "execution_count": 13,
     "metadata": {},
     "output_type": "execute_result"
    }
   ],
   "source": [
    "l"
   ]
  },
  {
   "cell_type": "code",
   "execution_count": 14,
   "id": "3a1d6fc9",
   "metadata": {},
   "outputs": [],
   "source": [
    "l.extend(\"akanksha\")"
   ]
  },
  {
   "cell_type": "code",
   "execution_count": 15,
   "id": "c38e1e6d",
   "metadata": {},
   "outputs": [
    {
     "data": {
      "text/plain": [
       "[1, 3, 315.23, 'AB', True, 5, 3, 4, 5, 'a', 'k', 'a', 'n', 'k', 's', 'h', 'a']"
      ]
     },
     "execution_count": 15,
     "metadata": {},
     "output_type": "execute_result"
    }
   ],
   "source": [
    "l"
   ]
  },
  {
   "cell_type": "code",
   "execution_count": 16,
   "id": "b0b43a5b",
   "metadata": {},
   "outputs": [],
   "source": [
    " l.insert(1,'Sudh')  "
   ]
  },
  {
   "cell_type": "code",
   "execution_count": 17,
   "id": "4c2059e2",
   "metadata": {},
   "outputs": [
    {
     "data": {
      "text/plain": [
       "[1,\n",
       " 'Sudh',\n",
       " 3,\n",
       " 315.23,\n",
       " 'AB',\n",
       " True,\n",
       " 5,\n",
       " 3,\n",
       " 4,\n",
       " 5,\n",
       " 'a',\n",
       " 'k',\n",
       " 'a',\n",
       " 'n',\n",
       " 'k',\n",
       " 's',\n",
       " 'h',\n",
       " 'a']"
      ]
     },
     "execution_count": 17,
     "metadata": {},
     "output_type": "execute_result"
    }
   ],
   "source": [
    "l"
   ]
  },
  {
   "cell_type": "code",
   "execution_count": 18,
   "id": "a298db78",
   "metadata": {},
   "outputs": [],
   "source": [
    " l.insert(-1,10)"
   ]
  },
  {
   "cell_type": "code",
   "execution_count": 19,
   "id": "b3fb2f21",
   "metadata": {},
   "outputs": [
    {
     "data": {
      "text/plain": [
       "[1,\n",
       " 'Sudh',\n",
       " 3,\n",
       " 315.23,\n",
       " 'AB',\n",
       " True,\n",
       " 5,\n",
       " 3,\n",
       " 4,\n",
       " 5,\n",
       " 'a',\n",
       " 'k',\n",
       " 'a',\n",
       " 'n',\n",
       " 'k',\n",
       " 's',\n",
       " 'h',\n",
       " 10,\n",
       " 'a']"
      ]
     },
     "execution_count": 19,
     "metadata": {},
     "output_type": "execute_result"
    }
   ],
   "source": [
    "l"
   ]
  },
  {
   "cell_type": "code",
   "execution_count": 20,
   "id": "55686e0c",
   "metadata": {},
   "outputs": [
    {
     "data": {
      "text/plain": [
       "'a'"
      ]
     },
     "execution_count": 20,
     "metadata": {},
     "output_type": "execute_result"
    }
   ],
   "source": [
    "l.pop()"
   ]
  },
  {
   "cell_type": "code",
   "execution_count": 21,
   "id": "9b6c902b",
   "metadata": {},
   "outputs": [
    {
     "data": {
      "text/plain": [
       "[1,\n",
       " 'Sudh',\n",
       " 3,\n",
       " 315.23,\n",
       " 'AB',\n",
       " True,\n",
       " 5,\n",
       " 3,\n",
       " 4,\n",
       " 5,\n",
       " 'a',\n",
       " 'k',\n",
       " 'a',\n",
       " 'n',\n",
       " 'k',\n",
       " 's',\n",
       " 'h',\n",
       " 10]"
      ]
     },
     "execution_count": 21,
     "metadata": {},
     "output_type": "execute_result"
    }
   ],
   "source": [
    "l"
   ]
  },
  {
   "cell_type": "code",
   "execution_count": 22,
   "id": "9be7e6de",
   "metadata": {},
   "outputs": [
    {
     "data": {
      "text/plain": [
       "315.23"
      ]
     },
     "execution_count": 22,
     "metadata": {},
     "output_type": "execute_result"
    }
   ],
   "source": [
    " l.pop(3)"
   ]
  },
  {
   "cell_type": "code",
   "execution_count": 23,
   "id": "e8bff2d8",
   "metadata": {},
   "outputs": [
    {
     "data": {
      "text/plain": [
       "[1, 'Sudh', 3, 'AB', True, 5, 3, 4, 5, 'a', 'k', 'a', 'n', 'k', 's', 'h', 10]"
      ]
     },
     "execution_count": 23,
     "metadata": {},
     "output_type": "execute_result"
    }
   ],
   "source": [
    "l"
   ]
  },
  {
   "cell_type": "code",
   "execution_count": 24,
   "id": "fe81d9ce",
   "metadata": {},
   "outputs": [],
   "source": [
    "l.append([2,3,4])"
   ]
  },
  {
   "cell_type": "code",
   "execution_count": 25,
   "id": "7565b59e",
   "metadata": {},
   "outputs": [
    {
     "data": {
      "text/plain": [
       "[1,\n",
       " 'Sudh',\n",
       " 3,\n",
       " 'AB',\n",
       " True,\n",
       " 5,\n",
       " 3,\n",
       " 4,\n",
       " 5,\n",
       " 'a',\n",
       " 'k',\n",
       " 'a',\n",
       " 'n',\n",
       " 'k',\n",
       " 's',\n",
       " 'h',\n",
       " 10,\n",
       " [2, 3, 4]]"
      ]
     },
     "execution_count": 25,
     "metadata": {},
     "output_type": "execute_result"
    }
   ],
   "source": [
    "l"
   ]
  },
  {
   "cell_type": "code",
   "execution_count": 26,
   "id": "a9208a38",
   "metadata": {},
   "outputs": [],
   "source": [
    "l[-1].remove(3)"
   ]
  },
  {
   "cell_type": "code",
   "execution_count": 27,
   "id": "6065ca41",
   "metadata": {},
   "outputs": [
    {
     "data": {
      "text/plain": [
       "[1,\n",
       " 'Sudh',\n",
       " 3,\n",
       " 'AB',\n",
       " True,\n",
       " 5,\n",
       " 3,\n",
       " 4,\n",
       " 5,\n",
       " 'a',\n",
       " 'k',\n",
       " 'a',\n",
       " 'n',\n",
       " 'k',\n",
       " 's',\n",
       " 'h',\n",
       " 10,\n",
       " [2, 4]]"
      ]
     },
     "execution_count": 27,
     "metadata": {},
     "output_type": "execute_result"
    }
   ],
   "source": [
    "l\n"
   ]
  },
  {
   "cell_type": "code",
   "execution_count": 28,
   "id": "04233072",
   "metadata": {},
   "outputs": [],
   "source": [
    "l.extend([5,6,7])"
   ]
  },
  {
   "cell_type": "code",
   "execution_count": 29,
   "id": "34d99362",
   "metadata": {},
   "outputs": [
    {
     "data": {
      "text/plain": [
       "[1,\n",
       " 'Sudh',\n",
       " 3,\n",
       " 'AB',\n",
       " True,\n",
       " 5,\n",
       " 3,\n",
       " 4,\n",
       " 5,\n",
       " 'a',\n",
       " 'k',\n",
       " 'a',\n",
       " 'n',\n",
       " 'k',\n",
       " 's',\n",
       " 'h',\n",
       " 10,\n",
       " [2, 4],\n",
       " 5,\n",
       " 6,\n",
       " 7]"
      ]
     },
     "execution_count": 29,
     "metadata": {},
     "output_type": "execute_result"
    }
   ],
   "source": [
    "l"
   ]
  },
  {
   "cell_type": "code",
   "execution_count": 30,
   "id": "9f517e0d",
   "metadata": {},
   "outputs": [
    {
     "data": {
      "text/plain": [
       "[7,\n",
       " 6,\n",
       " 5,\n",
       " [2, 4],\n",
       " 10,\n",
       " 'h',\n",
       " 's',\n",
       " 'k',\n",
       " 'n',\n",
       " 'a',\n",
       " 'k',\n",
       " 'a',\n",
       " 5,\n",
       " 4,\n",
       " 3,\n",
       " 5,\n",
       " True,\n",
       " 'AB',\n",
       " 3,\n",
       " 'Sudh',\n",
       " 1]"
      ]
     },
     "execution_count": 30,
     "metadata": {},
     "output_type": "execute_result"
    }
   ],
   "source": [
    "l[::-1]"
   ]
  },
  {
   "cell_type": "code",
   "execution_count": 31,
   "id": "89b3d897",
   "metadata": {},
   "outputs": [],
   "source": [
    "l.reverse()"
   ]
  },
  {
   "cell_type": "code",
   "execution_count": 32,
   "id": "32d40959",
   "metadata": {},
   "outputs": [
    {
     "data": {
      "text/plain": [
       "[7,\n",
       " 6,\n",
       " 5,\n",
       " [2, 4],\n",
       " 10,\n",
       " 'h',\n",
       " 's',\n",
       " 'k',\n",
       " 'n',\n",
       " 'a',\n",
       " 'k',\n",
       " 'a',\n",
       " 5,\n",
       " 4,\n",
       " 3,\n",
       " 5,\n",
       " True,\n",
       " 'AB',\n",
       " 3,\n",
       " 'Sudh',\n",
       " 1]"
      ]
     },
     "execution_count": 32,
     "metadata": {},
     "output_type": "execute_result"
    }
   ],
   "source": [
    "l"
   ]
  },
  {
   "cell_type": "code",
   "execution_count": 33,
   "id": "3a149868",
   "metadata": {},
   "outputs": [],
   "source": [
    "ll=[2,3,4,1,5,7,2,3,45,4,323]   "
   ]
  },
  {
   "cell_type": "code",
   "execution_count": 34,
   "id": "989dbcde",
   "metadata": {},
   "outputs": [],
   "source": [
    "ll.sort(reverse=True)"
   ]
  },
  {
   "cell_type": "code",
   "execution_count": 35,
   "id": "ce3298fc",
   "metadata": {},
   "outputs": [
    {
     "data": {
      "text/plain": [
       "[323, 45, 7, 5, 4, 4, 3, 3, 2, 2, 1]"
      ]
     },
     "execution_count": 35,
     "metadata": {},
     "output_type": "execute_result"
    }
   ],
   "source": [
    "ll"
   ]
  },
  {
   "cell_type": "code",
   "execution_count": 36,
   "id": "18ee6367",
   "metadata": {},
   "outputs": [
    {
     "data": {
      "text/plain": [
       "2"
      ]
     },
     "execution_count": 36,
     "metadata": {},
     "output_type": "execute_result"
    }
   ],
   "source": [
    "ll.count(4)"
   ]
  },
  {
   "cell_type": "code",
   "execution_count": 37,
   "id": "a8bf37aa",
   "metadata": {},
   "outputs": [
    {
     "data": {
      "text/plain": [
       "0"
      ]
     },
     "execution_count": 37,
     "metadata": {},
     "output_type": "execute_result"
    }
   ],
   "source": [
    "ll.count(234)"
   ]
  },
  {
   "cell_type": "code",
   "execution_count": 38,
   "id": "b1e549f5",
   "metadata": {},
   "outputs": [
    {
     "data": {
      "text/plain": [
       "[323, 45, 7, 5, 4, 4, 3, 3, 2, 2, 1]"
      ]
     },
     "execution_count": 38,
     "metadata": {},
     "output_type": "execute_result"
    }
   ],
   "source": [
    "ll"
   ]
  },
  {
   "cell_type": "code",
   "execution_count": 39,
   "id": "04e43b02",
   "metadata": {},
   "outputs": [],
   "source": [
    "ll[0]=324"
   ]
  },
  {
   "cell_type": "code",
   "execution_count": 40,
   "id": "00b9bbd4",
   "metadata": {},
   "outputs": [
    {
     "data": {
      "text/plain": [
       "[324, 45, 7, 5, 4, 4, 3, 3, 2, 2, 1]"
      ]
     },
     "execution_count": 40,
     "metadata": {},
     "output_type": "execute_result"
    }
   ],
   "source": [
    "ll"
   ]
  },
  {
   "cell_type": "code",
   "execution_count": 41,
   "id": "4a991cab",
   "metadata": {},
   "outputs": [
    {
     "data": {
      "text/plain": [
       "[7,\n",
       " 6,\n",
       " 5,\n",
       " [2, 4],\n",
       " 10,\n",
       " 'h',\n",
       " 's',\n",
       " 'k',\n",
       " 'n',\n",
       " 'a',\n",
       " 'k',\n",
       " 'a',\n",
       " 5,\n",
       " 4,\n",
       " 3,\n",
       " 5,\n",
       " True,\n",
       " 'AB',\n",
       " 3,\n",
       " 'Sudh',\n",
       " 1]"
      ]
     },
     "execution_count": 41,
     "metadata": {},
     "output_type": "execute_result"
    }
   ],
   "source": [
    "l\n"
   ]
  },
  {
   "cell_type": "code",
   "execution_count": 44,
   "id": "9a768b51",
   "metadata": {},
   "outputs": [
    {
     "data": {
      "text/plain": [
       "'Audh'"
      ]
     },
     "execution_count": 44,
     "metadata": {},
     "output_type": "execute_result"
    }
   ],
   "source": [
    "l[-2].replace('S','A')"
   ]
  },
  {
   "cell_type": "code",
   "execution_count": 45,
   "id": "b68d25fe",
   "metadata": {},
   "outputs": [],
   "source": [
    "##tuple"
   ]
  },
  {
   "cell_type": "code",
   "execution_count": 2,
   "id": "497f7d54",
   "metadata": {},
   "outputs": [],
   "source": [
    "t=(1,2,3,3.45,True,\"Akshu\",5+90j)"
   ]
  },
  {
   "cell_type": "code",
   "execution_count": 3,
   "id": "8cd89401",
   "metadata": {},
   "outputs": [
    {
     "data": {
      "text/plain": [
       "(1, 2, 3, 3.45, True, 'Akshu', (5+90j))"
      ]
     },
     "execution_count": 3,
     "metadata": {},
     "output_type": "execute_result"
    }
   ],
   "source": [
    "t"
   ]
  },
  {
   "cell_type": "code",
   "execution_count": 4,
   "id": "bea10e2d",
   "metadata": {},
   "outputs": [
    {
     "data": {
      "text/plain": [
       "tuple"
      ]
     },
     "execution_count": 4,
     "metadata": {},
     "output_type": "execute_result"
    }
   ],
   "source": [
    "type(t)"
   ]
  },
  {
   "cell_type": "code",
   "execution_count": 5,
   "id": "af5d3ec4",
   "metadata": {},
   "outputs": [
    {
     "data": {
      "text/plain": [
       "7"
      ]
     },
     "execution_count": 5,
     "metadata": {},
     "output_type": "execute_result"
    }
   ],
   "source": [
    "len(t)"
   ]
  },
  {
   "cell_type": "code",
   "execution_count": 6,
   "id": "d9ed2228",
   "metadata": {},
   "outputs": [
    {
     "data": {
      "text/plain": [
       "True"
      ]
     },
     "execution_count": 6,
     "metadata": {},
     "output_type": "execute_result"
    }
   ],
   "source": [
    "t[4]"
   ]
  },
  {
   "cell_type": "code",
   "execution_count": 7,
   "id": "5899f418",
   "metadata": {},
   "outputs": [
    {
     "data": {
      "text/plain": [
       "((5+90j), 'Akshu', True, 3.45, 3, 2, 1)"
      ]
     },
     "execution_count": 7,
     "metadata": {},
     "output_type": "execute_result"
    }
   ],
   "source": [
    "t[::-1] "
   ]
  },
  {
   "cell_type": "code",
   "execution_count": 8,
   "id": "6fb418de",
   "metadata": {},
   "outputs": [
    {
     "data": {
      "text/plain": [
       "(1, 2, 3, 3.45, True, 'Akshu', (5+90j))"
      ]
     },
     "execution_count": 8,
     "metadata": {},
     "output_type": "execute_result"
    }
   ],
   "source": [
    "t"
   ]
  },
  {
   "cell_type": "code",
   "execution_count": 9,
   "id": "3b3674e9",
   "metadata": {},
   "outputs": [
    {
     "ename": "TypeError",
     "evalue": "'tuple' object does not support item assignment",
     "output_type": "error",
     "traceback": [
      "\u001b[1;31m---------------------------------------------------------------------------\u001b[0m",
      "\u001b[1;31mTypeError\u001b[0m                                 Traceback (most recent call last)",
      "Cell \u001b[1;32mIn[9], line 1\u001b[0m\n\u001b[1;32m----> 1\u001b[0m \u001b[43mt\u001b[49m\u001b[43m[\u001b[49m\u001b[38;5;241;43m0\u001b[39;49m\u001b[43m]\u001b[49m\u001b[38;5;241m=\u001b[39m\u001b[38;5;241m10\u001b[39m\n",
      "\u001b[1;31mTypeError\u001b[0m: 'tuple' object does not support item assignment"
     ]
    }
   ],
   "source": [
    "t[0]=10"
   ]
  },
  {
   "cell_type": "code",
   "execution_count": 10,
   "id": "e4efc729",
   "metadata": {},
   "outputs": [
    {
     "data": {
      "text/plain": [
       "((5+90j), 'Akshu', True, 3.45, 3, 2, 1)"
      ]
     },
     "execution_count": 10,
     "metadata": {},
     "output_type": "execute_result"
    }
   ],
   "source": [
    "t[::-1]"
   ]
  },
  {
   "cell_type": "code",
   "execution_count": 15,
   "id": "a86e3ef5",
   "metadata": {},
   "outputs": [
    {
     "data": {
      "text/plain": [
       "2"
      ]
     },
     "execution_count": 15,
     "metadata": {},
     "output_type": "execute_result"
    }
   ],
   "source": [
    " t.count(1)"
   ]
  },
  {
   "cell_type": "code",
   "execution_count": 17,
   "id": "e39c2a08",
   "metadata": {},
   "outputs": [
    {
     "data": {
      "text/plain": [
       "1"
      ]
     },
     "execution_count": 17,
     "metadata": {},
     "output_type": "execute_result"
    }
   ],
   "source": [
    "t.index(2)"
   ]
  },
  {
   "cell_type": "code",
   "execution_count": 20,
   "id": "b737cc5a",
   "metadata": {},
   "outputs": [],
   "source": [
    "##dictionary\n",
    "s1={}"
   ]
  },
  {
   "cell_type": "code",
   "execution_count": 21,
   "id": "3a5b7090",
   "metadata": {},
   "outputs": [
    {
     "data": {
      "text/plain": [
       "dict"
      ]
     },
     "execution_count": 21,
     "metadata": {},
     "output_type": "execute_result"
    }
   ],
   "source": [
    "type(s1)"
   ]
  },
  {
   "cell_type": "code",
   "execution_count": 1,
   "id": "2321afdb",
   "metadata": {},
   "outputs": [],
   "source": [
    "##set\n",
    "s2={23,12,55,21,\"akanksha\",5+3423j}"
   ]
  },
  {
   "cell_type": "code",
   "execution_count": 23,
   "id": "b097b159",
   "metadata": {},
   "outputs": [
    {
     "data": {
      "text/plain": [
       "set"
      ]
     },
     "execution_count": 23,
     "metadata": {},
     "output_type": "execute_result"
    }
   ],
   "source": [
    "type(s2)"
   ]
  },
  {
   "cell_type": "code",
   "execution_count": 24,
   "id": "9286314a",
   "metadata": {},
   "outputs": [],
   "source": [
    "s2={23,12,55,23,\"akanksha\",5+3423j}"
   ]
  },
  {
   "cell_type": "code",
   "execution_count": 25,
   "id": "2d355610",
   "metadata": {},
   "outputs": [
    {
     "data": {
      "text/plain": [
       "{(5+3423j), 12, 23, 55, 'akanksha'}"
      ]
     },
     "execution_count": 25,
     "metadata": {},
     "output_type": "execute_result"
    }
   ],
   "source": [
    "s2"
   ]
  },
  {
   "cell_type": "code",
   "execution_count": 26,
   "id": "01436b04",
   "metadata": {},
   "outputs": [],
   "source": [
    "s3={1,2,3,4,1,2,3,3,2,1,2,3,4,2,2,4,4,6,0,0,5,3,3,3,4,4,5,5,5,4,3,3,3,3}"
   ]
  },
  {
   "cell_type": "code",
   "execution_count": 27,
   "id": "b9b28839",
   "metadata": {},
   "outputs": [
    {
     "data": {
      "text/plain": [
       "{0, 1, 2, 3, 4, 5, 6}"
      ]
     },
     "execution_count": 27,
     "metadata": {},
     "output_type": "execute_result"
    }
   ],
   "source": [
    "s3"
   ]
  },
  {
   "cell_type": "code",
   "execution_count": 28,
   "id": "0524b82d",
   "metadata": {},
   "outputs": [],
   "source": [
    "s3.add(7)"
   ]
  },
  {
   "cell_type": "code",
   "execution_count": 29,
   "id": "ca203b24",
   "metadata": {},
   "outputs": [
    {
     "data": {
      "text/plain": [
       "{0, 1, 2, 3, 4, 5, 6, 7}"
      ]
     },
     "execution_count": 29,
     "metadata": {},
     "output_type": "execute_result"
    }
   ],
   "source": [
    "s3"
   ]
  },
  {
   "cell_type": "code",
   "execution_count": 30,
   "id": "e09211b9",
   "metadata": {},
   "outputs": [
    {
     "ename": "TypeError",
     "evalue": "'set' object is not subscriptable",
     "output_type": "error",
     "traceback": [
      "\u001b[1;31m---------------------------------------------------------------------------\u001b[0m",
      "\u001b[1;31mTypeError\u001b[0m                                 Traceback (most recent call last)",
      "Cell \u001b[1;32mIn[30], line 1\u001b[0m\n\u001b[1;32m----> 1\u001b[0m \u001b[43ms3\u001b[49m\u001b[43m[\u001b[49m\u001b[38;5;241;43m0\u001b[39;49m\u001b[43m]\u001b[49m\n",
      "\u001b[1;31mTypeError\u001b[0m: 'set' object is not subscriptable"
     ]
    }
   ],
   "source": [
    "s3[0]"
   ]
  },
  {
   "cell_type": "code",
   "execution_count": 31,
   "id": "c4f66e1a",
   "metadata": {},
   "outputs": [
    {
     "ename": "TypeError",
     "evalue": "'set' object does not support item assignment",
     "output_type": "error",
     "traceback": [
      "\u001b[1;31m---------------------------------------------------------------------------\u001b[0m",
      "\u001b[1;31mTypeError\u001b[0m                                 Traceback (most recent call last)",
      "Cell \u001b[1;32mIn[31], line 1\u001b[0m\n\u001b[1;32m----> 1\u001b[0m \u001b[43ms3\u001b[49m\u001b[43m[\u001b[49m\u001b[38;5;241;43m0\u001b[39;49m\u001b[43m]\u001b[49m\u001b[38;5;241m=\u001b[39m\u001b[38;5;241m12\u001b[39m\n",
      "\u001b[1;31mTypeError\u001b[0m: 'set' object does not support item assignment"
     ]
    }
   ],
   "source": [
    "s3[0]=12"
   ]
  },
  {
   "cell_type": "code",
   "execution_count": 32,
   "id": "e8c38c57",
   "metadata": {},
   "outputs": [],
   "source": [
    "##Dictionary"
   ]
  },
  {
   "cell_type": "code",
   "execution_count": 46,
   "id": "be15c839",
   "metadata": {},
   "outputs": [],
   "source": [
    "d= { 'key': \"sudh\"}"
   ]
  },
  {
   "cell_type": "code",
   "execution_count": 67,
   "id": "82d041b6",
   "metadata": {},
   "outputs": [],
   "source": [
    "d1={'name': \"akanksha\", \"age\":23, \"marks\":100, True:86595849, \"name\":\"vaishu\"}"
   ]
  },
  {
   "cell_type": "code",
   "execution_count": 68,
   "id": "e9128ad6",
   "metadata": {},
   "outputs": [
    {
     "data": {
      "text/plain": [
       "{'name': 'vaishu', 'age': 23, 'marks': 100, True: 86595849}"
      ]
     },
     "execution_count": 68,
     "metadata": {},
     "output_type": "execute_result"
    }
   ],
   "source": [
    "d1"
   ]
  },
  {
   "cell_type": "code",
   "execution_count": 70,
   "id": "e1b4ac47",
   "metadata": {
    "scrolled": true
   },
   "outputs": [
    {
     "data": {
      "text/plain": [
       "'vaishu'"
      ]
     },
     "execution_count": 70,
     "metadata": {},
     "output_type": "execute_result"
    }
   ],
   "source": [
    "d1['name'] \n",
    "##use key for indexing"
   ]
  },
  {
   "cell_type": "code",
   "execution_count": 71,
   "id": "49b17e7a",
   "metadata": {},
   "outputs": [],
   "source": [
    "##dictionary should always contains unique values .....in above example we have used name twice as keys,so recent or lastly stored value will overwrite the first value."
   ]
  },
  {
   "cell_type": "code",
   "execution_count": 73,
   "id": "4de5900b",
   "metadata": {},
   "outputs": [],
   "source": [
    " d5={'name': [\"akshu\",\"vaishu\",\"samu\"],'age':[23,19,13],'marks':[19,18,17]}"
   ]
  },
  {
   "cell_type": "code",
   "execution_count": 74,
   "id": "c971515c",
   "metadata": {},
   "outputs": [
    {
     "data": {
      "text/plain": [
       "{'name': ['akshu', 'vaishu', 'samu'],\n",
       " 'age': [23, 19, 13],\n",
       " 'marks': [19, 18, 17]}"
      ]
     },
     "execution_count": 74,
     "metadata": {},
     "output_type": "execute_result"
    }
   ],
   "source": [
    "d5"
   ]
  },
  {
   "cell_type": "code",
   "execution_count": 75,
   "id": "2def1281",
   "metadata": {},
   "outputs": [
    {
     "data": {
      "text/plain": [
       "['akshu', 'vaishu', 'samu']"
      ]
     },
     "execution_count": 75,
     "metadata": {},
     "output_type": "execute_result"
    }
   ],
   "source": [
    "d5['name']"
   ]
  },
  {
   "cell_type": "code",
   "execution_count": 76,
   "id": "8c608b27",
   "metadata": {},
   "outputs": [
    {
     "data": {
      "text/plain": [
       "'samu'"
      ]
     },
     "execution_count": 76,
     "metadata": {},
     "output_type": "execute_result"
    }
   ],
   "source": [
    "d5['name'][2]"
   ]
  },
  {
   "cell_type": "code",
   "execution_count": 77,
   "id": "411895d0",
   "metadata": {},
   "outputs": [],
   "source": [
    "## in dictionary we can also create list as above....also we can create sets also"
   ]
  },
  {
   "cell_type": "code",
   "execution_count": 82,
   "id": "87420862",
   "metadata": {},
   "outputs": [],
   "source": [
    "d10={'name': [\"akshu\",\"vaishu\",\"samu\"],'age':[23,19,13],'marks':[19,18,17],'s1':{1,2,23,3,3,3,3,3,3,2,4,5,23,23,98}}"
   ]
  },
  {
   "cell_type": "code",
   "execution_count": 83,
   "id": "bd8c7d12",
   "metadata": {},
   "outputs": [
    {
     "data": {
      "text/plain": [
       "{'name': ['akshu', 'vaishu', 'samu'],\n",
       " 'age': [23, 19, 13],\n",
       " 'marks': [19, 18, 17],\n",
       " 's1': {1, 2, 3, 4, 5, 23, 98}}"
      ]
     },
     "execution_count": 83,
     "metadata": {},
     "output_type": "execute_result"
    }
   ],
   "source": [
    "d10"
   ]
  },
  {
   "cell_type": "code",
   "execution_count": 84,
   "id": "78d6677d",
   "metadata": {},
   "outputs": [],
   "source": [
    "#we can create dictionary inside dictionary ....also sets,tuples,lists and what not"
   ]
  },
  {
   "cell_type": "code",
   "execution_count": 85,
   "id": "72984f5c",
   "metadata": {},
   "outputs": [],
   "source": [
    "#in already built dictionary we can create another keys with values"
   ]
  },
  {
   "cell_type": "code",
   "execution_count": 87,
   "id": "37ca46cc",
   "metadata": {},
   "outputs": [],
   "source": [
    "d10['mentor']=['sudh','krish','anu','renu']"
   ]
  },
  {
   "cell_type": "code",
   "execution_count": 88,
   "id": "b020abbe",
   "metadata": {},
   "outputs": [
    {
     "data": {
      "text/plain": [
       "{'name': ['akshu', 'vaishu', 'samu'],\n",
       " 'age': [23, 19, 13],\n",
       " 'marks': [19, 18, 17],\n",
       " 's1': {1, 2, 3, 4, 5, 23, 98},\n",
       " 'mentor': ['sudh', 'krish', 'anu', 'renu']}"
      ]
     },
     "execution_count": 88,
     "metadata": {},
     "output_type": "execute_result"
    }
   ],
   "source": [
    "d10"
   ]
  },
  {
   "cell_type": "code",
   "execution_count": 89,
   "id": "e6c1fe65",
   "metadata": {},
   "outputs": [],
   "source": [
    "#to deletete any key"
   ]
  },
  {
   "cell_type": "code",
   "execution_count": 90,
   "id": "033b3225",
   "metadata": {},
   "outputs": [],
   "source": [
    " del d10['s1']"
   ]
  },
  {
   "cell_type": "code",
   "execution_count": 91,
   "id": "6bed2562",
   "metadata": {},
   "outputs": [
    {
     "data": {
      "text/plain": [
       "{'name': ['akshu', 'vaishu', 'samu'],\n",
       " 'age': [23, 19, 13],\n",
       " 'marks': [19, 18, 17],\n",
       " 'mentor': ['sudh', 'krish', 'anu', 'renu']}"
      ]
     },
     "execution_count": 91,
     "metadata": {},
     "output_type": "execute_result"
    }
   ],
   "source": [
    "d10"
   ]
  },
  {
   "cell_type": "code",
   "execution_count": 92,
   "id": "497e4606",
   "metadata": {},
   "outputs": [
    {
     "data": {
      "text/plain": [
       "dict_keys(['name', 'age', 'marks', 'mentor'])"
      ]
     },
     "execution_count": 92,
     "metadata": {},
     "output_type": "execute_result"
    }
   ],
   "source": [
    "d10.keys()"
   ]
  },
  {
   "cell_type": "code",
   "execution_count": 93,
   "id": "96ec65df",
   "metadata": {},
   "outputs": [
    {
     "data": {
      "text/plain": [
       "['name', 'age', 'marks', 'mentor']"
      ]
     },
     "execution_count": 93,
     "metadata": {},
     "output_type": "execute_result"
    }
   ],
   "source": [
    "list(d10.keys())"
   ]
  },
  {
   "cell_type": "code",
   "execution_count": 94,
   "id": "1e437781",
   "metadata": {},
   "outputs": [
    {
     "data": {
      "text/plain": [
       "dict_values([['akshu', 'vaishu', 'samu'], [23, 19, 13], [19, 18, 17], ['sudh', 'krish', 'anu', 'renu']])"
      ]
     },
     "execution_count": 94,
     "metadata": {},
     "output_type": "execute_result"
    }
   ],
   "source": [
    "d10.values()"
   ]
  },
  {
   "cell_type": "code",
   "execution_count": 95,
   "id": "d5ed95b9",
   "metadata": {},
   "outputs": [
    {
     "data": {
      "text/plain": [
       "[['akshu', 'vaishu', 'samu'],\n",
       " [23, 19, 13],\n",
       " [19, 18, 17],\n",
       " ['sudh', 'krish', 'anu', 'renu']]"
      ]
     },
     "execution_count": 95,
     "metadata": {},
     "output_type": "execute_result"
    }
   ],
   "source": [
    "list(d10.values())"
   ]
  },
  {
   "cell_type": "code",
   "execution_count": 96,
   "id": "3fcdd8b8",
   "metadata": {},
   "outputs": [
    {
     "data": {
      "text/plain": [
       "dict_items([('name', ['akshu', 'vaishu', 'samu']), ('age', [23, 19, 13]), ('marks', [19, 18, 17]), ('mentor', ['sudh', 'krish', 'anu', 'renu'])])"
      ]
     },
     "execution_count": 96,
     "metadata": {},
     "output_type": "execute_result"
    }
   ],
   "source": [
    "d10.items()"
   ]
  },
  {
   "cell_type": "code",
   "execution_count": 97,
   "id": "cb173659",
   "metadata": {},
   "outputs": [
    {
     "data": {
      "text/plain": [
       "[('name', ['akshu', 'vaishu', 'samu']),\n",
       " ('age', [23, 19, 13]),\n",
       " ('marks', [19, 18, 17]),\n",
       " ('mentor', ['sudh', 'krish', 'anu', 'renu'])]"
      ]
     },
     "execution_count": 97,
     "metadata": {},
     "output_type": "execute_result"
    }
   ],
   "source": [
    "list(d10.items())"
   ]
  },
  {
   "cell_type": "code",
   "execution_count": 98,
   "id": "0f9607ef",
   "metadata": {},
   "outputs": [
    {
     "data": {
      "text/plain": [
       "['akshu', 'vaishu', 'samu']"
      ]
     },
     "execution_count": 98,
     "metadata": {},
     "output_type": "execute_result"
    }
   ],
   "source": [
    "d10.pop('name')"
   ]
  },
  {
   "cell_type": "code",
   "execution_count": 99,
   "id": "fdb8bd7b",
   "metadata": {},
   "outputs": [
    {
     "data": {
      "text/plain": [
       "{'age': [23, 19, 13],\n",
       " 'marks': [19, 18, 17],\n",
       " 'mentor': ['sudh', 'krish', 'anu', 'renu']}"
      ]
     },
     "execution_count": 99,
     "metadata": {},
     "output_type": "execute_result"
    }
   ],
   "source": [
    "d10"
   ]
  },
  {
   "cell_type": "code",
   "execution_count": 32,
   "id": "0c41d931",
   "metadata": {},
   "outputs": [],
   "source": [
    "# list=[]\n",
    "# tuples=()\n",
    "# set={} with flat element set\n",
    "# dictionary={} with key value pairs"
   ]
  },
  {
   "cell_type": "markdown",
   "id": "2aa594a6",
   "metadata": {},
   "source": [
    "## if else"
   ]
  },
  {
   "cell_type": "code",
   "execution_count": 103,
   "id": "80fcbca0",
   "metadata": {},
   "outputs": [
    {
     "name": "stdout",
     "output_type": "stream",
     "text": [
      "you will be part of D batch\n"
     ]
    }
   ],
   "source": [
    "#we will decide what is marks\n",
    "marks=23\n",
    "if marks>=80:\n",
    "    print(\"you will be a part of A batch\")\n",
    "elif marks>=60 and marks<80:\n",
    "    print(\"you will be a part of B batch\")\n",
    "elif marks>=40 and marks<60:\n",
    "    print(\"you will bw part of C batch\")\n",
    "else :\n",
    "    print(\"you will be part of D batch\")"
   ]
  },
  {
   "cell_type": "code",
   "execution_count": 109,
   "id": "0e4c4bb6",
   "metadata": {},
   "outputs": [
    {
     "name": "stdout",
     "output_type": "stream",
     "text": [
      "enter your marks48\n",
      "you will bw part of C batch\n"
     ]
    }
   ],
   "source": [
    "##we will take input from user\n",
    "marks= int(input(\"enter your marks\" ))\n",
    "if marks>=80:\n",
    "    print(\"you will be a part of A batch\")\n",
    "elif marks>=60 and marks<80:\n",
    "    print(\"you will be a part of B batch\")\n",
    "elif marks>=40 and marks<60:\n",
    "    print(\"you will bw part of C batch\")\n",
    "else :\n",
    "    print(\"you will be part of D batch\")"
   ]
  },
  {
   "cell_type": "code",
   "execution_count": 114,
   "id": "730c558c",
   "metadata": {},
   "outputs": [
    {
     "name": "stdout",
     "output_type": "stream",
     "text": [
      "enter the price of product 7998\n",
      "no we dont need that\n"
     ]
    }
   ],
   "source": [
    "price=int(input(\"enter the price of product \" ))\n",
    "if price<=1000:\n",
    "        print(\"lets purchase\")\n",
    "else:\n",
    "        print(\"no we dont need that\")"
   ]
  },
  {
   "cell_type": "code",
   "execution_count": 126,
   "id": "3d886f00",
   "metadata": {},
   "outputs": [
    {
     "name": "stdout",
     "output_type": "stream",
     "text": [
      "enter the price of product 1555\n",
      "lets purchase\n",
      "its ok\n"
     ]
    }
   ],
   "source": [
    "price=int(input(\"enter the price of product \" ))\n",
    "if price>1000:\n",
    "    print(\"lets purchase\")\n",
    "    if price>5000 :\n",
    "        print(\"this is too much\")\n",
    "    elif price<2000:\n",
    "        print(\"its ok\")"
   ]
  },
  {
   "cell_type": "markdown",
   "id": "9b5deda9",
   "metadata": {},
   "source": [
    "## loop"
   ]
  },
  {
   "cell_type": "markdown",
   "id": "15146124",
   "metadata": {},
   "source": [
    "## for loop"
   ]
  },
  {
   "cell_type": "code",
   "execution_count": 1,
   "id": "70e0d04b",
   "metadata": {},
   "outputs": [],
   "source": [
    "l=[1,2,3,45,4,3,6,7,8]"
   ]
  },
  {
   "cell_type": "code",
   "execution_count": 2,
   "id": "c646cd8e",
   "metadata": {},
   "outputs": [
    {
     "data": {
      "text/plain": [
       "[1, 2, 3, 45, 4, 3, 6, 7, 8]"
      ]
     },
     "execution_count": 2,
     "metadata": {},
     "output_type": "execute_result"
    }
   ],
   "source": [
    "l"
   ]
  },
  {
   "cell_type": "code",
   "execution_count": 3,
   "id": "9aadb7cb",
   "metadata": {},
   "outputs": [
    {
     "name": "stdout",
     "output_type": "stream",
     "text": [
      "1\n",
      "2\n",
      "3\n",
      "45\n",
      "4\n",
      "3\n",
      "6\n",
      "7\n",
      "8\n"
     ]
    }
   ],
   "source": [
    "for i in l:\n",
    "    print(i)"
   ]
  },
  {
   "cell_type": "code",
   "execution_count": 8,
   "id": "59d2ffe6",
   "metadata": {},
   "outputs": [
    {
     "name": "stdout",
     "output_type": "stream",
     "text": [
      "2\n",
      "3\n",
      "4\n",
      "46\n",
      "5\n",
      "4\n",
      "7\n",
      "8\n",
      "9\n"
     ]
    }
   ],
   "source": [
    "l1=[]\n",
    "for i in l:\n",
    "    print(i+1)\n",
    "    l1.append(i+1)"
   ]
  },
  {
   "cell_type": "code",
   "execution_count": 9,
   "id": "12e0f1e1",
   "metadata": {},
   "outputs": [
    {
     "data": {
      "text/plain": [
       "[2, 3, 4, 46, 5, 4, 7, 8, 9]"
      ]
     },
     "execution_count": 9,
     "metadata": {},
     "output_type": "execute_result"
    }
   ],
   "source": [
    "l1"
   ]
  },
  {
   "cell_type": "code",
   "execution_count": 10,
   "id": "31b7be57",
   "metadata": {},
   "outputs": [],
   "source": [
    "l=[\"sudh\",\"kumar\",\"pwskills\",\"course\"]"
   ]
  },
  {
   "cell_type": "code",
   "execution_count": 11,
   "id": "0ac2f7b8",
   "metadata": {},
   "outputs": [
    {
     "data": {
      "text/plain": [
       "['sudh', 'kumar', 'pwskills', 'course']"
      ]
     },
     "execution_count": 11,
     "metadata": {},
     "output_type": "execute_result"
    }
   ],
   "source": [
    "l"
   ]
  },
  {
   "cell_type": "code",
   "execution_count": 16,
   "id": "9bf25c09",
   "metadata": {},
   "outputs": [
    {
     "name": "stdout",
     "output_type": "stream",
     "text": [
      "SUDH\n",
      "KUMAR\n",
      "PWSKILLS\n",
      "COURSE\n"
     ]
    }
   ],
   "source": [
    "l2=[]\n",
    "for i in l:\n",
    "    print(i.upper())\n",
    "    l2.append(i.upper())"
   ]
  },
  {
   "cell_type": "code",
   "execution_count": 17,
   "id": "5c03184c",
   "metadata": {},
   "outputs": [
    {
     "data": {
      "text/plain": [
       "['SUDH', 'KUMAR', 'PWSKILLS', 'COURSE']"
      ]
     },
     "execution_count": 17,
     "metadata": {},
     "output_type": "execute_result"
    }
   ],
   "source": [
    "l2"
   ]
  },
  {
   "cell_type": "code",
   "execution_count": 18,
   "id": "a9e3ccd6",
   "metadata": {},
   "outputs": [],
   "source": [
    "l5=[\"akshu\",\"samu\",\"vaishu\",\"anu\"]"
   ]
  },
  {
   "cell_type": "code",
   "execution_count": 19,
   "id": "662021c8",
   "metadata": {},
   "outputs": [
    {
     "data": {
      "text/plain": [
       "['akshu', 'samu', 'vaishu', 'anu']"
      ]
     },
     "execution_count": 19,
     "metadata": {},
     "output_type": "execute_result"
    }
   ],
   "source": [
    "l5"
   ]
  },
  {
   "cell_type": "code",
   "execution_count": 21,
   "id": "924ebe9b",
   "metadata": {},
   "outputs": [
    {
     "name": "stdout",
     "output_type": "stream",
     "text": [
      "AKSHU\n",
      "SAMU\n",
      "VAISHU\n",
      "ANU\n"
     ]
    }
   ],
   "source": [
    "l6=[]\n",
    "for j in l5:\n",
    "    print(j.upper())\n",
    "    l6.append(j.upper())"
   ]
  },
  {
   "cell_type": "code",
   "execution_count": 22,
   "id": "5c6bc19e",
   "metadata": {},
   "outputs": [
    {
     "data": {
      "text/plain": [
       "['AKSHU', 'SAMU', 'VAISHU', 'ANU']"
      ]
     },
     "execution_count": 22,
     "metadata": {},
     "output_type": "execute_result"
    }
   ],
   "source": [
    "l6"
   ]
  },
  {
   "cell_type": "code",
   "execution_count": 23,
   "id": "3710dd89",
   "metadata": {},
   "outputs": [],
   "source": [
    "l=[1,2,3,4,4,67,\"such\",\"Akshu\",  798.98,324,\"abc\"]"
   ]
  },
  {
   "cell_type": "code",
   "execution_count": 24,
   "id": "c0ff1f5f",
   "metadata": {},
   "outputs": [
    {
     "data": {
      "text/plain": [
       "[1, 2, 3, 4, 4, 67, 'such', 798.98, 324, 'abc']"
      ]
     },
     "execution_count": 24,
     "metadata": {},
     "output_type": "execute_result"
    }
   ],
   "source": [
    "l"
   ]
  },
  {
   "cell_type": "code",
   "execution_count": 25,
   "id": "7f74d38e",
   "metadata": {},
   "outputs": [
    {
     "data": {
      "text/plain": [
       "[1, 2, 3, 4, 4, 67, 'such', 798.98, 324, 'abc']"
      ]
     },
     "execution_count": 25,
     "metadata": {},
     "output_type": "execute_result"
    }
   ],
   "source": [
    "l\n"
   ]
  },
  {
   "cell_type": "code",
   "execution_count": 28,
   "id": "2ae44ba9",
   "metadata": {},
   "outputs": [],
   "source": [
    "l_num=[]\n",
    "l_str=[]\n",
    "for i in l:\n",
    "    if type(i)==int or type(i)==float:\n",
    "        (l_num.append(i))\n",
    "    else :\n",
    "        (l_str.append(i))\n",
    "        "
   ]
  },
  {
   "cell_type": "code",
   "execution_count": 29,
   "id": "84f6623c",
   "metadata": {},
   "outputs": [
    {
     "data": {
      "text/plain": [
       "[1, 2, 3, 4, 4, 67, 798.98, 324]"
      ]
     },
     "execution_count": 29,
     "metadata": {},
     "output_type": "execute_result"
    }
   ],
   "source": [
    "l_num"
   ]
  },
  {
   "cell_type": "code",
   "execution_count": 33,
   "id": "184e6d0f",
   "metadata": {},
   "outputs": [
    {
     "data": {
      "text/plain": [
       "['such', 'abc']"
      ]
     },
     "execution_count": 33,
     "metadata": {},
     "output_type": "execute_result"
    }
   ],
   "source": [
    "l_str"
   ]
  },
  {
   "cell_type": "code",
   "execution_count": 1,
   "id": "3b2caff3",
   "metadata": {},
   "outputs": [
    {
     "name": "stdout",
     "output_type": "stream",
     "text": [
      "a\n",
      "k\n",
      "a\n",
      "n\n",
      "k\n",
      "s\n",
      "h\n",
      "a\n"
     ]
    }
   ],
   "source": [
    " name= \"akanksha\"\n",
    "name2=[]\n",
    "for i in name:\n",
    "        print(i)\n",
    "        name2.append(i.upper())\n",
    "        "
   ]
  },
  {
   "cell_type": "code",
   "execution_count": 37,
   "id": "9bb3b90b",
   "metadata": {},
   "outputs": [
    {
     "data": {
      "text/plain": [
       "['A', 'K', 'A', 'N', 'K', 'S', 'H', 'A']"
      ]
     },
     "execution_count": 37,
     "metadata": {},
     "output_type": "execute_result"
    }
   ],
   "source": [
    "name2"
   ]
  },
  {
   "cell_type": "code",
   "execution_count": 2,
   "id": "4d090adb",
   "metadata": {},
   "outputs": [],
   "source": [
    "l=[1,2,3,4,5]"
   ]
  },
  {
   "cell_type": "code",
   "execution_count": 3,
   "id": "35058ccc",
   "metadata": {},
   "outputs": [
    {
     "data": {
      "text/plain": [
       "[1, 2, 3, 4, 5]"
      ]
     },
     "execution_count": 3,
     "metadata": {},
     "output_type": "execute_result"
    }
   ],
   "source": [
    "l"
   ]
  },
  {
   "cell_type": "code",
   "execution_count": 9,
   "id": "48555387",
   "metadata": {},
   "outputs": [
    {
     "name": "stdout",
     "output_type": "stream",
     "text": [
      "4 <class 'int'>\n",
      "5 <class 'int'>\n",
      "6 <class 'int'>\n",
      "7 <class 'int'>\n",
      "8 <class 'int'>\n"
     ]
    }
   ],
   "source": [
    "l1=[]\n",
    "for i in l:\n",
    "    print(i+3,type(i))\n",
    "    l1.append(i+3)"
   ]
  },
  {
   "cell_type": "code",
   "execution_count": 8,
   "id": "e2b61c48",
   "metadata": {},
   "outputs": [
    {
     "data": {
      "text/plain": [
       "[4, 5, 6, 7, 8]"
      ]
     },
     "execution_count": 8,
     "metadata": {},
     "output_type": "execute_result"
    }
   ],
   "source": [
    "l1"
   ]
  },
  {
   "cell_type": "markdown",
   "id": "f2789b89",
   "metadata": {},
   "source": [
    "## for else loop"
   ]
  },
  {
   "cell_type": "code",
   "execution_count": 10,
   "id": "3529fd7b",
   "metadata": {},
   "outputs": [],
   "source": [
    "l=[1,2,3,4,5]\n"
   ]
  },
  {
   "cell_type": "code",
   "execution_count": 11,
   "id": "394c4c24",
   "metadata": {},
   "outputs": [
    {
     "data": {
      "text/plain": [
       "[1, 2, 3, 4, 5]"
      ]
     },
     "execution_count": 11,
     "metadata": {},
     "output_type": "execute_result"
    }
   ],
   "source": [
    "l\n"
   ]
  },
  {
   "cell_type": "code",
   "execution_count": 13,
   "id": "3031ac88",
   "metadata": {},
   "outputs": [
    {
     "name": "stdout",
     "output_type": "stream",
     "text": [
      "1\n",
      "2\n",
      "3\n",
      "4\n",
      "5\n",
      "if for loop is able to complete itself then only else will execute\n"
     ]
    }
   ],
   "source": [
    "for i in l:\n",
    "    print(i)\n",
    "else:\n",
    "    print(\"if for loop is able to complete itself then only else will execute\")"
   ]
  },
  {
   "cell_type": "code",
   "execution_count": 18,
   "id": "97cae8d9",
   "metadata": {},
   "outputs": [],
   "source": [
    "l=[\"akshu\",\"bhosale\",\"vaishu\",\"samu\"]"
   ]
  },
  {
   "cell_type": "code",
   "execution_count": 19,
   "id": "8809b548",
   "metadata": {},
   "outputs": [
    {
     "name": "stdout",
     "output_type": "stream",
     "text": [
      "akshu\n"
     ]
    }
   ],
   "source": [
    "for i in l:\n",
    "    if i==\"bhosale\":\n",
    "        break\n",
    "    print(i)"
   ]
  },
  {
   "cell_type": "code",
   "execution_count": 20,
   "id": "b9a45b2e",
   "metadata": {},
   "outputs": [],
   "source": [
    "l=[\"akshu\",\"bhosale\",\"vaishu\",\"samu\"]"
   ]
  },
  {
   "cell_type": "code",
   "execution_count": 21,
   "id": "c8da5199",
   "metadata": {},
   "outputs": [
    {
     "name": "stdout",
     "output_type": "stream",
     "text": [
      "akshu\n"
     ]
    }
   ],
   "source": [
    "for i in l:\n",
    "    if i==\"bhosale\":\n",
    "        break\n",
    "    print(i)\n",
    "else:\n",
    "    print(\"execute this if for loop is able to complete ifself\")"
   ]
  },
  {
   "cell_type": "code",
   "execution_count": 22,
   "id": "7387fb57",
   "metadata": {},
   "outputs": [
    {
     "data": {
      "text/plain": [
       "['akshu', 'bhosale', 'vaishu', 'samu']"
      ]
     },
     "execution_count": 22,
     "metadata": {},
     "output_type": "execute_result"
    }
   ],
   "source": [
    "l"
   ]
  },
  {
   "cell_type": "code",
   "execution_count": null,
   "id": "ac7ddab6",
   "metadata": {},
   "outputs": [],
   "source": [
    "for i in l:\n",
    "    if i==\"samu\":\n",
    "        break\n",
    "    print(i)\n",
    "else:\n",
    "    print(\"execute this if for loop is able to complete itself\")"
   ]
  },
  {
   "cell_type": "code",
   "execution_count": 28,
   "id": "c2dafc0d",
   "metadata": {},
   "outputs": [],
   "source": [
    "## using continue"
   ]
  },
  {
   "cell_type": "code",
   "execution_count": 30,
   "id": "3cacb064",
   "metadata": {},
   "outputs": [
    {
     "data": {
      "text/plain": [
       "['akshu', 'bhosale', 'vaishu', 'samu']"
      ]
     },
     "execution_count": 30,
     "metadata": {},
     "output_type": "execute_result"
    }
   ],
   "source": [
    "l"
   ]
  },
  {
   "cell_type": "code",
   "execution_count": 32,
   "id": "2bcf5aa8",
   "metadata": {},
   "outputs": [
    {
     "name": "stdout",
     "output_type": "stream",
     "text": [
      "akshu\n",
      "vaishu\n",
      "samu\n",
      "print everything\n"
     ]
    }
   ],
   "source": [
    "for i in l:\n",
    "    if i==\"bhosale\":\n",
    "        continue\n",
    "    print(i)\n",
    "else:\n",
    "        print(\"print everything\")"
   ]
  },
  {
   "cell_type": "code",
   "execution_count": 33,
   "id": "81365599",
   "metadata": {},
   "outputs": [
    {
     "data": {
      "text/plain": [
       "range(0, 10)"
      ]
     },
     "execution_count": 33,
     "metadata": {},
     "output_type": "execute_result"
    }
   ],
   "source": [
    " range(10)"
   ]
  },
  {
   "cell_type": "code",
   "execution_count": 36,
   "id": "045f810c",
   "metadata": {},
   "outputs": [
    {
     "data": {
      "text/plain": [
       "[0, 1, 2, 3, 4, 5, 6, 7, 8, 9]"
      ]
     },
     "execution_count": 36,
     "metadata": {},
     "output_type": "execute_result"
    }
   ],
   "source": [
    "list(range(10))"
   ]
  },
  {
   "cell_type": "code",
   "execution_count": 38,
   "id": "12aa5bea",
   "metadata": {},
   "outputs": [
    {
     "data": {
      "text/plain": [
       "[0, 2, 4, 6, 8]"
      ]
     },
     "execution_count": 38,
     "metadata": {},
     "output_type": "execute_result"
    }
   ],
   "source": [
    "list(range(0,10,2))\n",
    "\n",
    "\n",
    "\n",
    "\n",
    "\n"
   ]
  },
  {
   "cell_type": "code",
   "execution_count": 39,
   "id": "97283e91",
   "metadata": {},
   "outputs": [
    {
     "data": {
      "text/plain": [
       "[-10, -9, -8, -7, -6, -5, -4, -3, -2, -1]"
      ]
     },
     "execution_count": 39,
     "metadata": {},
     "output_type": "execute_result"
    }
   ],
   "source": [
    "list(range(-10,0))"
   ]
  },
  {
   "cell_type": "code",
   "execution_count": 40,
   "id": "f66e8496",
   "metadata": {},
   "outputs": [
    {
     "data": {
      "text/plain": [
       "['akshu', 'bhosale', 'vaishu', 'samu']"
      ]
     },
     "execution_count": 40,
     "metadata": {},
     "output_type": "execute_result"
    }
   ],
   "source": [
    " l"
   ]
  },
  {
   "cell_type": "code",
   "execution_count": 41,
   "id": "06c01c6a",
   "metadata": {},
   "outputs": [
    {
     "data": {
      "text/plain": [
       "4"
      ]
     },
     "execution_count": 41,
     "metadata": {},
     "output_type": "execute_result"
    }
   ],
   "source": [
    "len(l)"
   ]
  },
  {
   "cell_type": "code",
   "execution_count": 44,
   "id": "1a49252a",
   "metadata": {},
   "outputs": [
    {
     "data": {
      "text/plain": [
       "[0, 1, 2, 3]"
      ]
     },
     "execution_count": 44,
     "metadata": {},
     "output_type": "execute_result"
    }
   ],
   "source": [
    "list(range(len(l)))"
   ]
  },
  {
   "cell_type": "code",
   "execution_count": 48,
   "id": "92625f31",
   "metadata": {},
   "outputs": [
    {
     "name": "stdout",
     "output_type": "stream",
     "text": [
      "akshu\n",
      "bhosale\n",
      "vaishu\n",
      "samu\n"
     ]
    }
   ],
   "source": [
    "for i in range(len(l)):\n",
    "    print(l[i])"
   ]
  },
  {
   "cell_type": "code",
   "execution_count": 49,
   "id": "06638ae4",
   "metadata": {},
   "outputs": [
    {
     "data": {
      "text/plain": [
       "[3, 2, 1, 0]"
      ]
     },
     "execution_count": 49,
     "metadata": {},
     "output_type": "execute_result"
    }
   ],
   "source": [
    "\n",
    "        list(range(len(l)-1,-1,-1))"
   ]
  },
  {
   "cell_type": "code",
   "execution_count": 51,
   "id": "449cbb77",
   "metadata": {},
   "outputs": [
    {
     "name": "stdout",
     "output_type": "stream",
     "text": [
      "samu\n",
      "vaishu\n",
      "bhosale\n",
      "akshu\n"
     ]
    }
   ],
   "source": [
    "for i in range(len(l)-1,-1,-1):\n",
    "    print(l[i])"
   ]
  },
  {
   "cell_type": "code",
   "execution_count": 52,
   "id": "044e7c68",
   "metadata": {},
   "outputs": [],
   "source": [
    "lst=[12,3,4,7,98,47,489,45,47,456,12,19,48,4659,55484]"
   ]
  },
  {
   "cell_type": "code",
   "execution_count": 53,
   "id": "acfc16cb",
   "metadata": {},
   "outputs": [
    {
     "data": {
      "text/plain": [
       "[12, 3, 4, 7, 98, 47, 489, 45, 47, 456, 12, 19, 48, 4659, 55484]"
      ]
     },
     "execution_count": 53,
     "metadata": {},
     "output_type": "execute_result"
    }
   ],
   "source": [
    "lst"
   ]
  },
  {
   "cell_type": "code",
   "execution_count": 57,
   "id": "03f199fd",
   "metadata": {},
   "outputs": [
    {
     "data": {
      "text/plain": [
       "15"
      ]
     },
     "execution_count": 57,
     "metadata": {},
     "output_type": "execute_result"
    }
   ],
   "source": [
    "len(lst)"
   ]
  },
  {
   "cell_type": "code",
   "execution_count": 58,
   "id": "61441738",
   "metadata": {},
   "outputs": [],
   "source": [
    "##to generate indexes we use range function"
   ]
  },
  {
   "cell_type": "code",
   "execution_count": 65,
   "id": "9e3942aa",
   "metadata": {},
   "outputs": [
    {
     "data": {
      "text/plain": [
       "[0, 1, 2, 3, 4, 5, 6, 7, 8, 9, 10, 11, 12, 13, 14]"
      ]
     },
     "execution_count": 65,
     "metadata": {},
     "output_type": "execute_result"
    }
   ],
   "source": [
    "list(range(len(lst)))"
   ]
  },
  {
   "cell_type": "code",
   "execution_count": 66,
   "id": "2f538542",
   "metadata": {},
   "outputs": [
    {
     "data": {
      "text/plain": [
       "[0, 2, 4, 6, 8, 10, 12, 14]"
      ]
     },
     "execution_count": 66,
     "metadata": {},
     "output_type": "execute_result"
    }
   ],
   "source": [
    "list(range(0,len(lst),2))\n"
   ]
  },
  {
   "cell_type": "code",
   "execution_count": 67,
   "id": "da1690f8",
   "metadata": {},
   "outputs": [
    {
     "data": {
      "text/plain": [
       "[12, 3, 4, 7, 98, 47, 489, 45, 47, 456, 12, 19, 48, 4659, 55484]"
      ]
     },
     "execution_count": 67,
     "metadata": {},
     "output_type": "execute_result"
    }
   ],
   "source": [
    "lst"
   ]
  },
  {
   "cell_type": "code",
   "execution_count": 68,
   "id": "149513f6",
   "metadata": {},
   "outputs": [
    {
     "name": "stdout",
     "output_type": "stream",
     "text": [
      "12\n",
      "4\n",
      "98\n",
      "489\n",
      "47\n",
      "12\n",
      "48\n",
      "55484\n"
     ]
    }
   ],
   "source": [
    "for i in range(0,len(lst),2):\n",
    "    print(lst[i])"
   ]
  },
  {
   "cell_type": "code",
   "execution_count": 69,
   "id": "08ab672a",
   "metadata": {},
   "outputs": [
    {
     "data": {
      "text/plain": [
       "['akshu', 'bhosale', 'vaishu', 'samu']"
      ]
     },
     "execution_count": 69,
     "metadata": {},
     "output_type": "execute_result"
    }
   ],
   "source": [
    "l"
   ]
  },
  {
   "cell_type": "code",
   "execution_count": 70,
   "id": "7b2e2fc5",
   "metadata": {},
   "outputs": [
    {
     "data": {
      "text/plain": [
       "[12, 3, 4, 7, 98, 47, 489, 45, 47, 456, 12, 19, 48, 4659, 55484]"
      ]
     },
     "execution_count": 70,
     "metadata": {},
     "output_type": "execute_result"
    }
   ],
   "source": [
    "lst"
   ]
  },
  {
   "cell_type": "code",
   "execution_count": 71,
   "id": "54e1b7d9",
   "metadata": {},
   "outputs": [
    {
     "data": {
      "text/plain": [
       "61430"
      ]
     },
     "execution_count": 71,
     "metadata": {},
     "output_type": "execute_result"
    }
   ],
   "source": [
    "sum(lst)"
   ]
  },
  {
   "cell_type": "code",
   "execution_count": 78,
   "id": "211979a2",
   "metadata": {},
   "outputs": [
    {
     "data": {
      "text/plain": [
       "61430"
      ]
     },
     "execution_count": 78,
     "metadata": {},
     "output_type": "execute_result"
    }
   ],
   "source": [
    "sum=0\n",
    "for i in lst:\n",
    "    sum=sum+i\n",
    "sum"
   ]
  },
  {
   "cell_type": "code",
   "execution_count": 79,
   "id": "bf7e495c",
   "metadata": {},
   "outputs": [],
   "source": [
    "t=(1,2,3,4,5) \n",
    "##using tuple"
   ]
  },
  {
   "cell_type": "code",
   "execution_count": 80,
   "id": "9315c7f6",
   "metadata": {},
   "outputs": [
    {
     "name": "stdout",
     "output_type": "stream",
     "text": [
      "1\n",
      "2\n",
      "3\n",
      "4\n",
      "5\n"
     ]
    }
   ],
   "source": [
    "for i in t:\n",
    "    print(i)"
   ]
  },
  {
   "cell_type": "code",
   "execution_count": 81,
   "id": "db7b1d53",
   "metadata": {},
   "outputs": [],
   "source": [
    "st={1,2,3,4,5,\"aB\",\"SUSH\"}"
   ]
  },
  {
   "cell_type": "code",
   "execution_count": 83,
   "id": "d2062fc2",
   "metadata": {},
   "outputs": [
    {
     "name": "stdout",
     "output_type": "stream",
     "text": [
      "SUSH\n",
      "1\n",
      "2\n",
      "3\n",
      "4\n",
      "5\n",
      "aB\n"
     ]
    }
   ],
   "source": [
    "for i in st:\n",
    "    print(i)\n",
    "    ##using for sets \n",
    "    "
   ]
  },
  {
   "cell_type": "code",
   "execution_count": 87,
   "id": "2ca202ed",
   "metadata": {},
   "outputs": [
    {
     "name": "stdout",
     "output_type": "stream",
     "text": [
      "a\n",
      "k\n",
      "a\n",
      "n\n",
      "k\n",
      "s\n",
      "h\n",
      "a\n"
     ]
    }
   ],
   "source": [
    "name=\"akanksha\"\n",
    "for i in name:\n",
    "    print(i)"
   ]
  },
  {
   "cell_type": "code",
   "execution_count": 89,
   "id": "6dd9d6fb",
   "metadata": {},
   "outputs": [
    {
     "data": {
      "text/plain": [
       "[0, 2, 4, 6]"
      ]
     },
     "execution_count": 89,
     "metadata": {},
     "output_type": "execute_result"
    }
   ],
   "source": [
    "list(range(0,len(name),2))"
   ]
  },
  {
   "cell_type": "code",
   "execution_count": 90,
   "id": "a2550107",
   "metadata": {},
   "outputs": [
    {
     "name": "stdout",
     "output_type": "stream",
     "text": [
      "a\n",
      "a\n",
      "k\n",
      "h\n"
     ]
    }
   ],
   "source": [
    "for i in range(0,len(name),2):\n",
    "    print(name[i])"
   ]
  },
  {
   "cell_type": "code",
   "execution_count": 91,
   "id": "668dae60",
   "metadata": {},
   "outputs": [],
   "source": [
    "##using dictionary\n",
    "dict={\"name\":\"akshu\",\"class\":\"data science\",\"topics\":[\"python\",\"r\",\"Stat\",\"ml\",\"dl\"]}"
   ]
  },
  {
   "cell_type": "code",
   "execution_count": 92,
   "id": "bf077594",
   "metadata": {},
   "outputs": [
    {
     "data": {
      "text/plain": [
       "{'name': 'akshu',\n",
       " 'class': 'data science',\n",
       " 'topics': ['python', 'r', 'Stat', 'ml', 'dl']}"
      ]
     },
     "execution_count": 92,
     "metadata": {},
     "output_type": "execute_result"
    }
   ],
   "source": [
    "dict"
   ]
  },
  {
   "cell_type": "code",
   "execution_count": 93,
   "id": "51f85c2e",
   "metadata": {},
   "outputs": [
    {
     "data": {
      "text/plain": [
       "dict_keys(['name', 'class', 'topics'])"
      ]
     },
     "execution_count": 93,
     "metadata": {},
     "output_type": "execute_result"
    }
   ],
   "source": [
    "dict.keys()"
   ]
  },
  {
   "cell_type": "code",
   "execution_count": 94,
   "id": "ca44f787",
   "metadata": {},
   "outputs": [
    {
     "data": {
      "text/plain": [
       "dict_values(['akshu', 'data science', ['python', 'r', 'Stat', 'ml', 'dl']])"
      ]
     },
     "execution_count": 94,
     "metadata": {},
     "output_type": "execute_result"
    }
   ],
   "source": [
    "dict.values()"
   ]
  },
  {
   "cell_type": "code",
   "execution_count": 95,
   "id": "2c01e7ed",
   "metadata": {},
   "outputs": [
    {
     "data": {
      "text/plain": [
       "dict_items([('name', 'akshu'), ('class', 'data science'), ('topics', ['python', 'r', 'Stat', 'ml', 'dl'])])"
      ]
     },
     "execution_count": 95,
     "metadata": {},
     "output_type": "execute_result"
    }
   ],
   "source": [
    "dict.items()"
   ]
  },
  {
   "cell_type": "code",
   "execution_count": 96,
   "id": "d239f94f",
   "metadata": {},
   "outputs": [
    {
     "name": "stdout",
     "output_type": "stream",
     "text": [
      "name\n",
      "class\n",
      "topics\n"
     ]
    }
   ],
   "source": [
    "for i in dict:\n",
    "    print(i)"
   ]
  },
  {
   "cell_type": "code",
   "execution_count": 97,
   "id": "97215658",
   "metadata": {},
   "outputs": [
    {
     "name": "stdout",
     "output_type": "stream",
     "text": [
      "akshu\n",
      "data science\n",
      "['python', 'r', 'Stat', 'ml', 'dl']\n"
     ]
    }
   ],
   "source": [
    "for i in dict.values():\n",
    "    print(i)"
   ]
  },
  {
   "cell_type": "code",
   "execution_count": 100,
   "id": "c9778761",
   "metadata": {
    "scrolled": true
   },
   "outputs": [
    {
     "name": "stdout",
     "output_type": "stream",
     "text": [
      "('name', 'akshu')\n",
      "('class', 'data science')\n",
      "('topics', ['python', 'r', 'Stat', 'ml', 'dl'])\n"
     ]
    }
   ],
   "source": [
    "for i in dict.items():\n",
    "    print(i)"
   ]
  },
  {
   "cell_type": "markdown",
   "id": "ef68decf",
   "metadata": {},
   "source": [
    " ## While loop"
   ]
  },
  {
   "cell_type": "code",
   "execution_count": 3,
   "id": "53e790a9",
   "metadata": {},
   "outputs": [
    {
     "name": "stdout",
     "output_type": "stream",
     "text": [
      "1\n",
      "2\n",
      "3\n",
      "4\n",
      "5\n",
      "6\n",
      "7\n",
      "8\n",
      "9\n",
      "10\n"
     ]
    }
   ],
   "source": [
    "a=1\n",
    "while a<=10:\n",
    "    print(a)\n",
    "    a=a+1"
   ]
  },
  {
   "cell_type": "code",
   "execution_count": 4,
   "id": "0a14da71",
   "metadata": {},
   "outputs": [],
   "source": [
    "## sum up the number till some point"
   ]
  },
  {
   "cell_type": "code",
   "execution_count": 7,
   "id": "956ee38a",
   "metadata": {},
   "outputs": [
    {
     "name": "stdout",
     "output_type": "stream",
     "text": [
      "enter your number5\n"
     ]
    },
    {
     "data": {
      "text/plain": [
       "15"
      ]
     },
     "execution_count": 7,
     "metadata": {},
     "output_type": "execute_result"
    }
   ],
   "source": [
    "num=int(input(\"enter your number\"))\n",
    "sum=0\n",
    "start=1\n",
    "while start<=num:\n",
    "    sum=sum+start\n",
    "    start=start+1\n",
    "sum"
   ]
  },
  {
   "cell_type": "code",
   "execution_count": 8,
   "id": "32f6e9af",
   "metadata": {},
   "outputs": [],
   "source": [
    "## factorial "
   ]
  },
  {
   "cell_type": "code",
   "execution_count": 9,
   "id": "0892979e",
   "metadata": {},
   "outputs": [
    {
     "name": "stdout",
     "output_type": "stream",
     "text": [
      "enter your number5\n"
     ]
    },
    {
     "data": {
      "text/plain": [
       "120"
      ]
     },
     "execution_count": 9,
     "metadata": {},
     "output_type": "execute_result"
    }
   ],
   "source": [
    "number=int(input(\"enter your number\"))\n",
    "factorial=1\n",
    "while number>0:\n",
    "    factorial=factorial*number\n",
    "    number=number-1\n",
    "factorial"
   ]
  },
  {
   "cell_type": "code",
   "execution_count": 11,
   "id": "c57cc4df",
   "metadata": {},
   "outputs": [],
   "source": [
    "##finonacci series"
   ]
  },
  {
   "cell_type": "code",
   "execution_count": 12,
   "id": "9b0b32c9",
   "metadata": {},
   "outputs": [],
   "source": [
    "##series states that,the next number should be summation of previous two numbers\n",
    "0+1+1+2+3+5==if taking first 5 series addition we will get 3."
   ]
  },
  {
   "cell_type": "code",
   "execution_count": 21,
   "id": "2838b643",
   "metadata": {},
   "outputs": [
    {
     "name": "stdout",
     "output_type": "stream",
     "text": [
      "enter your number5\n",
      "0\n",
      "1\n",
      "1\n",
      "2\n",
      "3\n"
     ]
    }
   ],
   "source": [
    "number=int(input(\"enter your number\"))\n",
    "a,b=0,1\n",
    "counter=0\n",
    "while counter<number:\n",
    "        print(a)\n",
    "        c=a+b\n",
    "        a=b\n",
    "        b=c\n",
    "        counter=counter+1\n",
    "        "
   ]
  },
  {
   "cell_type": "code",
   "execution_count": 22,
   "id": "559271bc",
   "metadata": {},
   "outputs": [],
   "source": [
    "##finonacci series with for loop"
   ]
  },
  {
   "cell_type": "code",
   "execution_count": 25,
   "id": "d1afe5cf",
   "metadata": {},
   "outputs": [
    {
     "name": "stdout",
     "output_type": "stream",
     "text": [
      "0\n",
      "1\n",
      "1\n",
      "2\n",
      "3\n",
      "5\n",
      "8\n",
      "13\n",
      "21\n",
      "34\n"
     ]
    }
   ],
   "source": [
    "a,b=0,1\n",
    "for i in range(10):\n",
    "    print(a)\n",
    "    c=a+b\n",
    "    a=b\n",
    "    b=c\n",
    "    "
   ]
  },
  {
   "cell_type": "code",
   "execution_count": 26,
   "id": "b2ad7fb3",
   "metadata": {},
   "outputs": [
    {
     "name": "stdout",
     "output_type": "stream",
     "text": [
      "a\n",
      "k\n",
      "a\n",
      "n\n",
      "k\n",
      "s\n",
      "h\n",
      "a\n"
     ]
    }
   ],
   "source": [
    "name=\"akanksha\"\n",
    "for a in name:\n",
    "    print(a)"
   ]
  },
  {
   "cell_type": "code",
   "execution_count": 27,
   "id": "97a4720c",
   "metadata": {},
   "outputs": [
    {
     "data": {
      "text/plain": [
       "'ahsknaka'"
      ]
     },
     "execution_count": 27,
     "metadata": {},
     "output_type": "execute_result"
    }
   ],
   "source": [
    "name=\"akanksha\"\n",
    "name[::-1]\n"
   ]
  },
  {
   "cell_type": "code",
   "execution_count": 28,
   "id": "7df72b7a",
   "metadata": {},
   "outputs": [],
   "source": [
    "##by using while loop"
   ]
  },
  {
   "cell_type": "code",
   "execution_count": 34,
   "id": "db2b6ac4",
   "metadata": {},
   "outputs": [
    {
     "name": "stdout",
     "output_type": "stream",
     "text": [
      "ahsknakA\n"
     ]
    }
   ],
   "source": [
    "name=\"Akanksha\"\n",
    "reverse=\"\"\n",
    "length=len(name)\n",
    "while length>0:\n",
    "    reverse=reverse+name[length-1]\n",
    "    length=length-1\n",
    "print(reverse)\n",
    "    "
   ]
  },
  {
   "cell_type": "code",
   "execution_count": 35,
   "id": "d48f4751",
   "metadata": {},
   "outputs": [],
   "source": [
    "##print table of numbers"
   ]
  },
  {
   "cell_type": "code",
   "execution_count": 36,
   "id": "c5f93bd4",
   "metadata": {},
   "outputs": [
    {
     "name": "stdout",
     "output_type": "stream",
     "text": [
      "enter your number5\n",
      "5\n",
      "10\n",
      "15\n",
      "20\n",
      "25\n",
      "30\n",
      "35\n",
      "40\n",
      "45\n",
      "50\n"
     ]
    }
   ],
   "source": [
    "number=int(input(\"enter your number\"))\n",
    "i=1\n",
    "while i<=10:\n",
    "    result=number*i\n",
    "    print(result)\n",
    "    i=i+1"
   ]
  },
  {
   "cell_type": "code",
   "execution_count": 39,
   "id": "390faa59",
   "metadata": {},
   "outputs": [
    {
     "name": "stdout",
     "output_type": "stream",
     "text": [
      "enter the number  21\n",
      "21\n",
      "42\n",
      "63\n",
      "84\n",
      "105\n",
      "126\n",
      "147\n",
      "168\n",
      "189\n",
      "210\n",
      "231\n",
      "252\n",
      "273\n",
      "294\n",
      "315\n",
      "336\n",
      "357\n",
      "378\n",
      "399\n",
      "420\n"
     ]
    }
   ],
   "source": [
    "num=int(input(\"enter the number  \"))\n",
    "a=1\n",
    "while a<=20:\n",
    "    res=a*num\n",
    "    a=a+1\n",
    "    print(res)"
   ]
  },
  {
   "cell_type": "code",
   "execution_count": 64,
   "id": "fb95bb1e",
   "metadata": {},
   "outputs": [
    {
     "name": "stdout",
     "output_type": "stream",
     "text": [
      "enter your number: 5\n",
      "5\n",
      "10\n",
      "15\n",
      "20\n",
      "25\n",
      "30\n",
      "35\n",
      "40\n",
      "45\n",
      "50\n"
     ]
    }
   ],
   "source": [
    "num=int(input(\"enter your number: \"))\n",
    "a=1\n",
    "for a in range(1,11):\n",
    "    result=num*a\n",
    "    print(result)\n",
    "    a=a+1\n",
    "  "
   ]
  },
  {
   "cell_type": "code",
   "execution_count": 66,
   "id": "4fd0dfb1",
   "metadata": {},
   "outputs": [],
   "source": [
    "## while else loop"
   ]
  },
  {
   "cell_type": "code",
   "execution_count": 68,
   "id": "6acb8553",
   "metadata": {},
   "outputs": [
    {
     "name": "stdout",
     "output_type": "stream",
     "text": [
      "1\n",
      "2\n",
      "3\n",
      "4\n",
      "5\n",
      "6\n",
      "7\n",
      "8\n",
      "9\n",
      "this will execute definitely\n"
     ]
    }
   ],
   "source": [
    "n=5\n",
    "i=1\n",
    "while i<10:\n",
    "    print(i)\n",
    "    i=i+1\n",
    "else:\n",
    "    print(\"this will execute definitely\")"
   ]
  },
  {
   "cell_type": "code",
   "execution_count": null,
   "id": "aadc5245",
   "metadata": {},
   "outputs": [],
   "source": [
    "n=5\n",
    "i=1\n",
    "while i<10:\n",
    "    print(i)\n",
    "    if i ==5:\n",
    "        break\n",
    "    i=i+1\n",
    "else:\n",
    "    (\"this will not execute if breaks\")"
   ]
  },
  {
   "cell_type": "markdown",
   "id": "bf00d0ea",
   "metadata": {},
   "source": [
    "\n",
    "## Comprehension "
   ]
  },
  {
   "cell_type": "code",
   "execution_count": 80,
   "id": "da236380",
   "metadata": {},
   "outputs": [],
   "source": [
    "#by using for loop\n",
    "l=[8,4,13,12,1]\n",
    "l1=[]\n",
    "for i in l:\n",
    "    l1.append(i**2)"
   ]
  },
  {
   "cell_type": "code",
   "execution_count": 81,
   "id": "94ff5447",
   "metadata": {},
   "outputs": [
    {
     "data": {
      "text/plain": [
       "[64, 16, 169, 144, 1]"
      ]
     },
     "execution_count": 81,
     "metadata": {},
     "output_type": "execute_result"
    }
   ],
   "source": [
    "l1"
   ]
  },
  {
   "cell_type": "code",
   "execution_count": 82,
   "id": "b4b82443",
   "metadata": {},
   "outputs": [
    {
     "data": {
      "text/plain": [
       "[64, 16, 169, 144, 1]"
      ]
     },
     "execution_count": 82,
     "metadata": {},
     "output_type": "execute_result"
    }
   ],
   "source": [
    "[i**2 for i in l]"
   ]
  },
  {
   "cell_type": "code",
   "execution_count": 85,
   "id": "9a6f709f",
   "metadata": {},
   "outputs": [
    {
     "data": {
      "text/plain": [
       "[8, 4, 12]"
      ]
     },
     "execution_count": 85,
     "metadata": {},
     "output_type": "execute_result"
    }
   ],
   "source": [
    "[i for i in l if i%2==0]"
   ]
  },
  {
   "cell_type": "code",
   "execution_count": 91,
   "id": "f095c7f3",
   "metadata": {},
   "outputs": [
    {
     "data": {
      "text/plain": [
       "['AKSHU', 'VAISHU', 'SAMU', 'ANU']"
      ]
     },
     "execution_count": 91,
     "metadata": {},
     "output_type": "execute_result"
    }
   ],
   "source": [
    "l1=['akshu','vaishu','samu','anu']\n",
    "[i.upper() for i in l1]"
   ]
  },
  {
   "cell_type": "code",
   "execution_count": 92,
   "id": "882a28de",
   "metadata": {},
   "outputs": [],
   "source": [
    "##for tuples"
   ]
  },
  {
   "cell_type": "code",
   "execution_count": 3,
   "id": "e9839852",
   "metadata": {},
   "outputs": [
    {
     "ename": "NameError",
     "evalue": "name 'l' is not defined",
     "output_type": "error",
     "traceback": [
      "\u001b[1;31m---------------------------------------------------------------------------\u001b[0m",
      "\u001b[1;31mNameError\u001b[0m                                 Traceback (most recent call last)",
      "Cell \u001b[1;32mIn[3], line 1\u001b[0m\n\u001b[1;32m----> 1\u001b[0m \u001b[43ml\u001b[49m\n",
      "\u001b[1;31mNameError\u001b[0m: name 'l' is not defined"
     ]
    }
   ],
   "source": [
    "l"
   ]
  },
  {
   "cell_type": "code",
   "execution_count": 4,
   "id": "c3d30cc8",
   "metadata": {},
   "outputs": [
    {
     "ename": "NameError",
     "evalue": "name 'l' is not defined",
     "output_type": "error",
     "traceback": [
      "\u001b[1;31m---------------------------------------------------------------------------\u001b[0m",
      "\u001b[1;31mNameError\u001b[0m                                 Traceback (most recent call last)",
      "Cell \u001b[1;32mIn[4], line 1\u001b[0m\n\u001b[1;32m----> 1\u001b[0m [i\u001b[38;5;241m*\u001b[39m\u001b[38;5;241m*\u001b[39m\u001b[38;5;241m2\u001b[39m \u001b[38;5;28;01mfor\u001b[39;00m i \u001b[38;5;129;01min\u001b[39;00m \u001b[43ml\u001b[49m]\n",
      "\u001b[1;31mNameError\u001b[0m: name 'l' is not defined"
     ]
    }
   ],
   "source": [
    "[i**2 for i in l]"
   ]
  },
  {
   "cell_type": "code",
   "execution_count": 5,
   "id": "4c174e99",
   "metadata": {},
   "outputs": [
    {
     "ename": "NameError",
     "evalue": "name 'l' is not defined",
     "output_type": "error",
     "traceback": [
      "\u001b[1;31m---------------------------------------------------------------------------\u001b[0m",
      "\u001b[1;31mNameError\u001b[0m                                 Traceback (most recent call last)",
      "Cell \u001b[1;32mIn[5], line 1\u001b[0m\n\u001b[1;32m----> 1\u001b[0m \u001b[38;5;28mlist\u001b[39m(i\u001b[38;5;241m*\u001b[39m\u001b[38;5;241m*\u001b[39m\u001b[38;5;241m2\u001b[39m \u001b[38;5;28;01mfor\u001b[39;00m i \u001b[38;5;129;01min\u001b[39;00m \u001b[43ml\u001b[49m)\n",
      "\u001b[1;31mNameError\u001b[0m: name 'l' is not defined"
     ]
    }
   ],
   "source": [
    "list(i**2 for i in l)"
   ]
  },
  {
   "cell_type": "markdown",
   "id": "c222ba90",
   "metadata": {},
   "source": [
    "## function"
   ]
  },
  {
   "cell_type": "code",
   "execution_count": 6,
   "id": "05203bc6",
   "metadata": {},
   "outputs": [],
   "source": [
    "##function always starts from def keyword.def=definition"
   ]
  },
  {
   "cell_type": "code",
   "execution_count": 11,
   "id": "a6e200b8",
   "metadata": {},
   "outputs": [],
   "source": [
    "def test():\n",
    "    pass"
   ]
  },
  {
   "cell_type": "code",
   "execution_count": 12,
   "id": "8c85b485",
   "metadata": {},
   "outputs": [],
   "source": [
    "def test1():\n",
    "    print(\"this is my first function\")\n",
    "##print gives always return nonetype"
   ]
  },
  {
   "cell_type": "code",
   "execution_count": 13,
   "id": "6ee1a82a",
   "metadata": {},
   "outputs": [
    {
     "name": "stdout",
     "output_type": "stream",
     "text": [
      "this is my first function\n"
     ]
    }
   ],
   "source": [
    "test1() "
   ]
  },
  {
   "cell_type": "code",
   "execution_count": 18,
   "id": "ae5d865d",
   "metadata": {},
   "outputs": [
    {
     "name": "stdout",
     "output_type": "stream",
     "text": [
      "this is my first function\n"
     ]
    },
    {
     "ename": "TypeError",
     "evalue": "unsupported operand type(s) for +: 'NoneType' and 'str'",
     "output_type": "error",
     "traceback": [
      "\u001b[1;31m---------------------------------------------------------------------------\u001b[0m",
      "\u001b[1;31mTypeError\u001b[0m                                 Traceback (most recent call last)",
      "Cell \u001b[1;32mIn[18], line 1\u001b[0m\n\u001b[1;32m----> 1\u001b[0m \u001b[43mtest1\u001b[49m\u001b[43m(\u001b[49m\u001b[43m)\u001b[49m\u001b[38;5;241;43m+\u001b[39;49m\u001b[38;5;124;43m\"\u001b[39;49m\u001b[38;5;124;43makanksha\u001b[39;49m\u001b[38;5;124;43m\"\u001b[39;49m\n",
      "\u001b[1;31mTypeError\u001b[0m: unsupported operand type(s) for +: 'NoneType' and 'str'"
     ]
    }
   ],
   "source": [
    "test1()+\"akanksha\""
   ]
  },
  {
   "cell_type": "code",
   "execution_count": 25,
   "id": "e16a6916",
   "metadata": {},
   "outputs": [],
   "source": [
    "def test2():\n",
    "    return (\"this is my first return: \")\n",
    "#return will always give whatever the datatype we provided "
   ]
  },
  {
   "cell_type": "code",
   "execution_count": 26,
   "id": "d0d9faba",
   "metadata": {},
   "outputs": [
    {
     "data": {
      "text/plain": [
       "'this is my first return: '"
      ]
     },
     "execution_count": 26,
     "metadata": {},
     "output_type": "execute_result"
    }
   ],
   "source": [
    "test2()"
   ]
  },
  {
   "cell_type": "code",
   "execution_count": 27,
   "id": "9fa860bc",
   "metadata": {},
   "outputs": [
    {
     "data": {
      "text/plain": [
       "'this is my first return: akanksha '"
      ]
     },
     "execution_count": 27,
     "metadata": {},
     "output_type": "execute_result"
    }
   ],
   "source": [
    " test2() +  \"akanksha \""
   ]
  },
  {
   "cell_type": "code",
   "execution_count": 28,
   "id": "613d760b",
   "metadata": {},
   "outputs": [],
   "source": [
    "##multiple return"
   ]
  },
  {
   "cell_type": "code",
   "execution_count": 1,
   "id": "190601be",
   "metadata": {},
   "outputs": [],
   "source": [
    "def test3():\n",
    "    return (\"akanksha\", 33, 90.657,[4,8,9,2,89] )"
   ]
  },
  {
   "cell_type": "code",
   "execution_count": 2,
   "id": "74db74b9",
   "metadata": {},
   "outputs": [
    {
     "data": {
      "text/plain": [
       "('akanksha', 33, 90.657, [4, 8, 9, 2, 89])"
      ]
     },
     "execution_count": 2,
     "metadata": {},
     "output_type": "execute_result"
    }
   ],
   "source": [
    "test3()"
   ]
  },
  {
   "cell_type": "code",
   "execution_count": 3,
   "id": "44777f3a",
   "metadata": {},
   "outputs": [
    {
     "data": {
      "text/plain": [
       "tuple"
      ]
     },
     "execution_count": 3,
     "metadata": {},
     "output_type": "execute_result"
    }
   ],
   "source": [
    "type(test3())"
   ]
  },
  {
   "cell_type": "code",
   "execution_count": 43,
   "id": "0efa44ad",
   "metadata": {},
   "outputs": [],
   "source": [
    "a,b,c,d = test3()"
   ]
  },
  {
   "cell_type": "code",
   "execution_count": 44,
   "id": "3fdceae7",
   "metadata": {},
   "outputs": [
    {
     "data": {
      "text/plain": [
       "'akanksha'"
      ]
     },
     "execution_count": 44,
     "metadata": {},
     "output_type": "execute_result"
    }
   ],
   "source": [
    "a"
   ]
  },
  {
   "cell_type": "code",
   "execution_count": 45,
   "id": "eef70a89",
   "metadata": {},
   "outputs": [
    {
     "data": {
      "text/plain": [
       "33"
      ]
     },
     "execution_count": 45,
     "metadata": {},
     "output_type": "execute_result"
    }
   ],
   "source": [
    "b"
   ]
  },
  {
   "cell_type": "code",
   "execution_count": 48,
   "id": "84d9058f",
   "metadata": {},
   "outputs": [
    {
     "data": {
      "text/plain": [
       "90.657"
      ]
     },
     "execution_count": 48,
     "metadata": {},
     "output_type": "execute_result"
    }
   ],
   "source": [
    "c"
   ]
  },
  {
   "cell_type": "code",
   "execution_count": 49,
   "id": "2af61e9f",
   "metadata": {},
   "outputs": [
    {
     "data": {
      "text/plain": [
       "[4, 8, 9, 2, 89]"
      ]
     },
     "execution_count": 49,
     "metadata": {},
     "output_type": "execute_result"
    }
   ],
   "source": [
    "d"
   ]
  },
  {
   "cell_type": "code",
   "execution_count": 50,
   "id": "70f82c05",
   "metadata": {},
   "outputs": [],
   "source": [
    "def test4():\n",
    "    a=56+48/7\n",
    "    return a"
   ]
  },
  {
   "cell_type": "code",
   "execution_count": 51,
   "id": "4074984c",
   "metadata": {},
   "outputs": [
    {
     "data": {
      "text/plain": [
       "62.857142857142854"
      ]
     },
     "execution_count": 51,
     "metadata": {},
     "output_type": "execute_result"
    }
   ],
   "source": [
    "test4()"
   ]
  },
  {
   "cell_type": "code",
   "execution_count": 52,
   "id": "8b54ba69",
   "metadata": {
    "scrolled": true
   },
   "outputs": [
    {
     "data": {
      "text/plain": [
       "20.952380952380953"
      ]
     },
     "execution_count": 52,
     "metadata": {},
     "output_type": "execute_result"
    }
   ],
   "source": [
    "test4()/3"
   ]
  },
  {
   "cell_type": "code",
   "execution_count": 53,
   "id": "46e3f1db",
   "metadata": {},
   "outputs": [
    {
     "data": {
      "text/plain": [
       "851.8571428571429"
      ]
     },
     "execution_count": 53,
     "metadata": {},
     "output_type": "execute_result"
    }
   ],
   "source": [
    "test4()+789"
   ]
  },
  {
   "cell_type": "code",
   "execution_count": 60,
   "id": "d239d023",
   "metadata": {},
   "outputs": [],
   "source": [
    "def test5(a,b,c):\n",
    "    d=a+b/c\n",
    "    return d"
   ]
  },
  {
   "cell_type": "code",
   "execution_count": 84,
   "id": "13232416",
   "metadata": {},
   "outputs": [
    {
     "data": {
      "text/plain": [
       "91.6470588235294"
      ]
     },
     "execution_count": 84,
     "metadata": {},
     "output_type": "execute_result"
    }
   ],
   "source": [
    "test5(89,45,17)"
   ]
  },
  {
   "cell_type": "code",
   "execution_count": 71,
   "id": "d9225153",
   "metadata": {},
   "outputs": [],
   "source": [
    "def test6(a,b):\n",
    "    return a+b"
   ]
  },
  {
   "cell_type": "code",
   "execution_count": 63,
   "id": "d9283732",
   "metadata": {},
   "outputs": [
    {
     "data": {
      "text/plain": [
       "78990809"
      ]
     },
     "execution_count": 63,
     "metadata": {},
     "output_type": "execute_result"
    }
   ],
   "source": [
    "test6(45664,78945145)"
   ]
  },
  {
   "cell_type": "code",
   "execution_count": 65,
   "id": "daedf6d7",
   "metadata": {},
   "outputs": [
    {
     "data": {
      "text/plain": [
       "'sudh56'"
      ]
     },
     "execution_count": 65,
     "metadata": {},
     "output_type": "execute_result"
    }
   ],
   "source": [
    "test6(\"sudh\",\"56\")"
   ]
  },
  {
   "cell_type": "code",
   "execution_count": 68,
   "id": "e2688efd",
   "metadata": {},
   "outputs": [
    {
     "data": {
      "text/plain": [
       "'akanksha bhosale'"
      ]
     },
     "execution_count": 68,
     "metadata": {},
     "output_type": "execute_result"
    }
   ],
   "source": [
    "test6(\"akanksha \",\"bhosale\")"
   ]
  },
  {
   "cell_type": "code",
   "execution_count": 74,
   "id": "ee82acd9",
   "metadata": {},
   "outputs": [
    {
     "data": {
      "text/plain": [
       "[1,\n",
       " 2,\n",
       " 3,\n",
       " 4,\n",
       " 5,\n",
       " 6,\n",
       " 7,\n",
       " 'sudh',\n",
       " 9,\n",
       " 8,\n",
       " 7,\n",
       " 4,\n",
       " 5,\n",
       " 6,\n",
       " 4,\n",
       " 8,\n",
       " 9,\n",
       " 1,\n",
       " 2,\n",
       " 3,\n",
       " 0,\n",
       " 1,\n",
       " 5,\n",
       " 1,\n",
       " 4,\n",
       " 48,\n",
       " 9,\n",
       " 15,\n",
       " 0]"
      ]
     },
     "execution_count": 74,
     "metadata": {},
     "output_type": "execute_result"
    }
   ],
   "source": [
    "test6([1,2,3,4,5,6,7,\"sudh\"], [9,8,7,4,5,6,4,8,9,1,2,3,0,1,5,1,4,48,9,15,0])"
   ]
  },
  {
   "cell_type": "code",
   "execution_count": 88,
   "id": "19e13810",
   "metadata": {},
   "outputs": [
    {
     "data": {
      "text/plain": [
       "[1, 8, 74, 5, 12, 12, 1, 'ab', [8, 9, 4, 5, 4, 7], 45, 98, 74, 5]"
      ]
     },
     "execution_count": 88,
     "metadata": {},
     "output_type": "execute_result"
    }
   ],
   "source": [
    "test6([1,8,74,5,12,12,1,\"ab\",[8,9,4,5,4,7]],[45,98,74,5])"
   ]
  },
  {
   "cell_type": "code",
   "execution_count": 115,
   "id": "52fd5eb8",
   "metadata": {},
   "outputs": [],
   "source": [
    "l=[1,8,74,5,12,12,1,\"ab\",[8,9,4,5,4,7]]"
   ]
  },
  {
   "cell_type": "code",
   "execution_count": 129,
   "id": "9b7aa481",
   "metadata": {},
   "outputs": [
    {
     "data": {
      "text/plain": [
       "[1, 8, 74, 5, 12, 12, 1, 'ab', [8, 9, 4, 5, 4, 7]]"
      ]
     },
     "execution_count": 129,
     "metadata": {},
     "output_type": "execute_result"
    }
   ],
   "source": [
    "l"
   ]
  },
  {
   "cell_type": "code",
   "execution_count": 135,
   "id": "9b35d824",
   "metadata": {},
   "outputs": [],
   "source": [
    "\n",
    "def test7(l): \n",
    "    lst=[]\n",
    "    for i in l:\n",
    "        if type(i)==int or type(i)==float:\n",
    "            lst.append(i)\n",
    "    return lst\n",
    "               \n",
    "                         \n",
    "        \n",
    "\n",
    "            "
   ]
  },
  {
   "cell_type": "code",
   "execution_count": 136,
   "id": "8c3ee395",
   "metadata": {},
   "outputs": [
    {
     "data": {
      "text/plain": [
       "[1, 8, 74, 5, 12, 12, 1]"
      ]
     },
     "execution_count": 136,
     "metadata": {},
     "output_type": "execute_result"
    }
   ],
   "source": [
    "test7(l)"
   ]
  },
  {
   "cell_type": "code",
   "execution_count": 137,
   "id": "4901f417",
   "metadata": {},
   "outputs": [
    {
     "data": {
      "text/plain": [
       "[1, 8, 74, 5, 12, 12, 1, 'ab', [8, 9, 4, 5, 4, 7]]"
      ]
     },
     "execution_count": 137,
     "metadata": {},
     "output_type": "execute_result"
    }
   ],
   "source": [
    "l"
   ]
  },
  {
   "cell_type": "code",
   "execution_count": 145,
   "id": "380ce149",
   "metadata": {},
   "outputs": [],
   "source": [
    "def test8(a):\n",
    "    l=[]\n",
    "    for i in a:\n",
    "        if type(i)==list:\n",
    "            for j in i:\n",
    "                l.append(j)\n",
    "        else:\n",
    "            if type(i)==int or type(i)==float:\n",
    "                l.append(i)\n",
    "    return l"
   ]
  },
  {
   "cell_type": "code",
   "execution_count": 146,
   "id": "443d825e",
   "metadata": {},
   "outputs": [
    {
     "data": {
      "text/plain": [
       "[1, 8, 74, 5, 12, 12, 1, 8, 9, 4, 5, 4, 7]"
      ]
     },
     "execution_count": 146,
     "metadata": {},
     "output_type": "execute_result"
    }
   ],
   "source": [
    "test8(l)"
   ]
  },
  {
   "cell_type": "code",
   "execution_count": 148,
   "id": "6231e7f3",
   "metadata": {},
   "outputs": [],
   "source": [
    "def test8(a):\n",
    "    \"\"\"this is my function to extract num data from list\"\"\"  ## this is known as doc-string\n",
    "    l=[]\n",
    "    for i in a:\n",
    "        if type(i)==list:\n",
    "            for j in i:\n",
    "                l.append(j)\n",
    "        else:\n",
    "            if type(i)==int or type(i)==float:\n",
    "                l.append(i)\n",
    "    return l"
   ]
  },
  {
   "cell_type": "code",
   "execution_count": 151,
   "id": "f70b7a98",
   "metadata": {},
   "outputs": [
    {
     "data": {
      "text/plain": [
       "[1, 8, 74, 5, 12, 12, 1, 8, 9, 4, 5, 4, 7]"
      ]
     },
     "execution_count": 151,
     "metadata": {},
     "output_type": "execute_result"
    }
   ],
   "source": [
    "test8(l)"
   ]
  },
  {
   "cell_type": "code",
   "execution_count": 153,
   "id": "da6caf13",
   "metadata": {},
   "outputs": [],
   "source": [
    "def test11(*args):\n",
    "    return args"
   ]
  },
  {
   "cell_type": "code",
   "execution_count": 154,
   "id": "06fdf4cb",
   "metadata": {},
   "outputs": [
    {
     "data": {
      "text/plain": [
       "tuple"
      ]
     },
     "execution_count": 154,
     "metadata": {},
     "output_type": "execute_result"
    }
   ],
   "source": [
    "type(test11())"
   ]
  },
  {
   "cell_type": "code",
   "execution_count": 155,
   "id": "3aaedaa7",
   "metadata": {},
   "outputs": [
    {
     "data": {
      "text/plain": [
       "(1, 2, 3)"
      ]
     },
     "execution_count": 155,
     "metadata": {},
     "output_type": "execute_result"
    }
   ],
   "source": [
    "test11(1,2,3 )"
   ]
  },
  {
   "cell_type": "code",
   "execution_count": 157,
   "id": "30eee917",
   "metadata": {},
   "outputs": [
    {
     "data": {
      "text/plain": [
       "(1, 2, 3, 'ab', [1, 2, 3, 4])"
      ]
     },
     "execution_count": 157,
     "metadata": {},
     "output_type": "execute_result"
    }
   ],
   "source": [
    "test11(1,2,3,\"ab\",[1,2,3,4])"
   ]
  },
  {
   "cell_type": "code",
   "execution_count": 158,
   "id": "dd78175e",
   "metadata": {},
   "outputs": [],
   "source": [
    "##it is not necessary that you have to write args only ...we can write anything(for example my name also)with * symbol it means n number of arguments the function can store in form of tuples"
   ]
  },
  {
   "cell_type": "code",
   "execution_count": 159,
   "id": "3a8c6fa2",
   "metadata": {},
   "outputs": [],
   "source": [
    "def test11(*akanksha):\n",
    "    return akanksha"
   ]
  },
  {
   "cell_type": "code",
   "execution_count": 160,
   "id": "9368c547",
   "metadata": {},
   "outputs": [
    {
     "data": {
      "text/plain": [
       "<function __main__.test11(*akanksha)>"
      ]
     },
     "execution_count": 160,
     "metadata": {},
     "output_type": "execute_result"
    }
   ],
   "source": [
    "test11"
   ]
  },
  {
   "cell_type": "code",
   "execution_count": 161,
   "id": "715fcf6e",
   "metadata": {},
   "outputs": [
    {
     "data": {
      "text/plain": [
       "(12, 3, 4, 'aa', 'vd', 'sm')"
      ]
     },
     "execution_count": 161,
     "metadata": {},
     "output_type": "execute_result"
    }
   ],
   "source": [
    "test11(12,3,4,'aa','vd','sm')"
   ]
  },
  {
   "cell_type": "code",
   "execution_count": 163,
   "id": "c47444a3",
   "metadata": {},
   "outputs": [],
   "source": [
    "def test12(*args,a):\n",
    "    return args,a"
   ]
  },
  {
   "cell_type": "code",
   "execution_count": 165,
   "id": "0ad8aa32",
   "metadata": {},
   "outputs": [
    {
     "data": {
      "text/plain": [
       "((1, 2, 34, 4.5, 11), (73636, 15965626))"
      ]
     },
     "execution_count": 165,
     "metadata": {},
     "output_type": "execute_result"
    }
   ],
   "source": [
    "test12(1,2,34,4.5,11,a=(73636,15965626))"
   ]
  },
  {
   "cell_type": "code",
   "execution_count": 178,
   "id": "5a5fdd43",
   "metadata": {},
   "outputs": [],
   "source": [
    "def test13(c,d,a=12,b=567):\n",
    "    return(a,b,c,d)\n",
    "    "
   ]
  },
  {
   "cell_type": "code",
   "execution_count": 179,
   "id": "d060556e",
   "metadata": {},
   "outputs": [
    {
     "data": {
      "text/plain": [
       "(12, 567, 97441, 26587)"
      ]
     },
     "execution_count": 179,
     "metadata": {},
     "output_type": "execute_result"
    }
   ],
   "source": [
    "test13(97441,26587)"
   ]
  },
  {
   "cell_type": "code",
   "execution_count": 180,
   "id": "de8d26d5",
   "metadata": {},
   "outputs": [
    {
     "data": {
      "text/plain": [
       "(2343, 567, 2, 3)"
      ]
     },
     "execution_count": 180,
     "metadata": {},
     "output_type": "execute_result"
    }
   ],
   "source": [
    "test13(2,3,a=2343)"
   ]
  },
  {
   "cell_type": "code",
   "execution_count": 181,
   "id": "c72f39ad",
   "metadata": {},
   "outputs": [],
   "source": [
    "def test15(**args):\n",
    "    return args"
   ]
  },
  {
   "cell_type": "code",
   "execution_count": 182,
   "id": "07ccb79c",
   "metadata": {},
   "outputs": [
    {
     "data": {
      "text/plain": [
       "{}"
      ]
     },
     "execution_count": 182,
     "metadata": {},
     "output_type": "execute_result"
    }
   ],
   "source": [
    "test15()"
   ]
  },
  {
   "cell_type": "code",
   "execution_count": 183,
   "id": "eef904a8",
   "metadata": {},
   "outputs": [
    {
     "data": {
      "text/plain": [
       "dict"
      ]
     },
     "execution_count": 183,
     "metadata": {},
     "output_type": "execute_result"
    }
   ],
   "source": [
    "type(test15()) "
   ]
  },
  {
   "cell_type": "code",
   "execution_count": 185,
   "id": "3138c450",
   "metadata": {},
   "outputs": [
    {
     "data": {
      "text/plain": [
       "{'a': [1, 2, 3, 4], 'b': 'sudh', 'c': 56.87}"
      ]
     },
     "execution_count": 185,
     "metadata": {},
     "output_type": "execute_result"
    }
   ],
   "source": [
    "test15(a=[1,2,3,4],b=\"sudh\",c=56.87)"
   ]
  },
  {
   "cell_type": "markdown",
   "id": "edec0e16",
   "metadata": {},
   "source": [
    "## Generator function\n"
   ]
  },
  {
   "cell_type": "code",
   "execution_count": 2,
   "id": "dd69b8f7",
   "metadata": {},
   "outputs": [
    {
     "name": "stdout",
     "output_type": "stream",
     "text": [
      "0\n",
      "1\n",
      "2\n",
      "3\n",
      "4\n",
      "5\n",
      "6\n",
      "7\n",
      "8\n",
      "9\n"
     ]
    }
   ],
   "source": [
    "for i in range(10):\n",
    "    print(i)"
   ]
  },
  {
   "cell_type": "code",
   "execution_count": 3,
   "id": "fcafb4fa",
   "metadata": {},
   "outputs": [
    {
     "data": {
      "text/plain": [
       "range(0, 10)"
      ]
     },
     "execution_count": 3,
     "metadata": {},
     "output_type": "execute_result"
    }
   ],
   "source": [
    "range(0,10)"
   ]
  },
  {
   "cell_type": "code",
   "execution_count": 5,
   "id": "7de6d2a5",
   "metadata": {},
   "outputs": [],
   "source": [
    "a=list[(range(0,10))]"
   ]
  },
  {
   "cell_type": "code",
   "execution_count": 6,
   "id": "37a1cd0f",
   "metadata": {},
   "outputs": [
    {
     "data": {
      "text/plain": [
       "list[range(0, 10)]"
      ]
     },
     "execution_count": 6,
     "metadata": {},
     "output_type": "execute_result"
    }
   ],
   "source": [
    "a"
   ]
  },
  {
   "cell_type": "code",
   "execution_count": 9,
   "id": "3e5d5559",
   "metadata": {},
   "outputs": [],
   "source": [
    "def test_fib(n):\n",
    "    a,b=0,1\n",
    "    for i in range(n):\n",
    "        yield a\n",
    "        a,b=b,a+b"
   ]
  },
  {
   "cell_type": "code",
   "execution_count": 10,
   "id": "a9be35a6",
   "metadata": {},
   "outputs": [
    {
     "data": {
      "text/plain": [
       "<generator object test_fib at 0x000002663524E2D0>"
      ]
     },
     "execution_count": 10,
     "metadata": {},
     "output_type": "execute_result"
    }
   ],
   "source": [
    "test_fib(10)"
   ]
  },
  {
   "cell_type": "code",
   "execution_count": 11,
   "id": "5f2303fe",
   "metadata": {},
   "outputs": [
    {
     "name": "stdout",
     "output_type": "stream",
     "text": [
      "0\n",
      "1\n",
      "1\n",
      "2\n",
      "3\n",
      "5\n",
      "8\n",
      "13\n",
      "21\n",
      "34\n"
     ]
    }
   ],
   "source": [
    " for i in test_fib(10):\n",
    "        print(i)"
   ]
  },
  {
   "cell_type": "code",
   "execution_count": 13,
   "id": "8c66b2ca",
   "metadata": {},
   "outputs": [],
   "source": [
    "def test_fib1():\n",
    "    a,b=0,1\n",
    "    while True:\n",
    "        yield a\n",
    "        a,b=b,a+b"
   ]
  },
  {
   "cell_type": "code",
   "execution_count": 14,
   "id": "58f34360",
   "metadata": {},
   "outputs": [
    {
     "data": {
      "text/plain": [
       "<generator object test_fib1 at 0x000002663524F140>"
      ]
     },
     "execution_count": 14,
     "metadata": {},
     "output_type": "execute_result"
    }
   ],
   "source": [
    "test_fib1()"
   ]
  },
  {
   "cell_type": "code",
   "execution_count": 15,
   "id": "1919da8d",
   "metadata": {},
   "outputs": [],
   "source": [
    "fib=test_fib1()\n",
    "    "
   ]
  },
  {
   "cell_type": "code",
   "execution_count": 17,
   "id": "19ee1ecd",
   "metadata": {},
   "outputs": [
    {
     "name": "stdout",
     "output_type": "stream",
     "text": [
      "0\n",
      "1\n",
      "1\n",
      "2\n",
      "3\n",
      "5\n",
      "8\n",
      "13\n",
      "21\n",
      "34\n"
     ]
    }
   ],
   "source": [
    "for i in range(10):\n",
    "    print(next(fib))"
   ]
  },
  {
   "cell_type": "code",
   "execution_count": 18,
   "id": "c70cc635",
   "metadata": {},
   "outputs": [],
   "source": [
    "s=\"sudh\""
   ]
  },
  {
   "cell_type": "code",
   "execution_count": 19,
   "id": "8bfb6a61",
   "metadata": {},
   "outputs": [
    {
     "name": "stdout",
     "output_type": "stream",
     "text": [
      "s\n",
      "u\n",
      "d\n",
      "h\n"
     ]
    }
   ],
   "source": [
    "for i in s:\n",
    "    print(i)"
   ]
  },
  {
   "cell_type": "code",
   "execution_count": 21,
   "id": "16376d1e",
   "metadata": {},
   "outputs": [
    {
     "ename": "TypeError",
     "evalue": "'str' object is not an iterator",
     "output_type": "error",
     "traceback": [
      "\u001b[1;31m---------------------------------------------------------------------------\u001b[0m",
      "\u001b[1;31mTypeError\u001b[0m                                 Traceback (most recent call last)",
      "Cell \u001b[1;32mIn[21], line 1\u001b[0m\n\u001b[1;32m----> 1\u001b[0m \u001b[38;5;28;43mnext\u001b[39;49m\u001b[43m(\u001b[49m\u001b[43ms\u001b[49m\u001b[43m)\u001b[49m\n",
      "\u001b[1;31mTypeError\u001b[0m: 'str' object is not an iterator"
     ]
    }
   ],
   "source": [
    "next(s)"
   ]
  },
  {
   "cell_type": "code",
   "execution_count": 28,
   "id": "17e74b0b",
   "metadata": {},
   "outputs": [
    {
     "data": {
      "text/plain": [
       "str_iterator"
      ]
     },
     "execution_count": 28,
     "metadata": {},
     "output_type": "execute_result"
    }
   ],
   "source": [
    "s1=iter(s)\n",
    "type(s1)"
   ]
  },
  {
   "cell_type": "code",
   "execution_count": 23,
   "id": "0d5a2a0c",
   "metadata": {},
   "outputs": [
    {
     "data": {
      "text/plain": [
       "'s'"
      ]
     },
     "execution_count": 23,
     "metadata": {},
     "output_type": "execute_result"
    }
   ],
   "source": [
    "next(s1)"
   ]
  },
  {
   "cell_type": "code",
   "execution_count": 24,
   "id": "a36ceecb",
   "metadata": {},
   "outputs": [
    {
     "data": {
      "text/plain": [
       "'u'"
      ]
     },
     "execution_count": 24,
     "metadata": {},
     "output_type": "execute_result"
    }
   ],
   "source": [
    "\n",
    "next(s1)"
   ]
  },
  {
   "cell_type": "code",
   "execution_count": 25,
   "id": "de17e31b",
   "metadata": {},
   "outputs": [
    {
     "data": {
      "text/plain": [
       "'d'"
      ]
     },
     "execution_count": 25,
     "metadata": {},
     "output_type": "execute_result"
    }
   ],
   "source": [
    "next(s1)"
   ]
  },
  {
   "cell_type": "code",
   "execution_count": 26,
   "id": "0ac3e312",
   "metadata": {},
   "outputs": [
    {
     "data": {
      "text/plain": [
       "'h'"
      ]
     },
     "execution_count": 26,
     "metadata": {},
     "output_type": "execute_result"
    }
   ],
   "source": [
    "next(s1)"
   ]
  },
  {
   "cell_type": "code",
   "execution_count": 29,
   "id": "1dcf76a2",
   "metadata": {},
   "outputs": [
    {
     "ename": "TypeError",
     "evalue": "'int' object is not an iterator",
     "output_type": "error",
     "traceback": [
      "\u001b[1;31m---------------------------------------------------------------------------\u001b[0m",
      "\u001b[1;31mTypeError\u001b[0m                                 Traceback (most recent call last)",
      "Cell \u001b[1;32mIn[29], line 1\u001b[0m\n\u001b[1;32m----> 1\u001b[0m \u001b[38;5;28;43mnext\u001b[39;49m\u001b[43m(\u001b[49m\u001b[38;5;241;43m45\u001b[39;49m\u001b[43m)\u001b[49m\n",
      "\u001b[1;31mTypeError\u001b[0m: 'int' object is not an iterator"
     ]
    }
   ],
   "source": [
    "next(45)"
   ]
  },
  {
   "cell_type": "code",
   "execution_count": 30,
   "id": "8b4527ff",
   "metadata": {},
   "outputs": [],
   "source": [
    "def count_test(n):\n",
    "    count=1\n",
    "    while count<=n:\n",
    "        yield count\n",
    "        count=count+1"
   ]
  },
  {
   "cell_type": "code",
   "execution_count": 31,
   "id": "75fdadb4",
   "metadata": {},
   "outputs": [
    {
     "data": {
      "text/plain": [
       "<generator object count_test at 0x0000026636559460>"
      ]
     },
     "execution_count": 31,
     "metadata": {},
     "output_type": "execute_result"
    }
   ],
   "source": [
    "count_test(5)"
   ]
  },
  {
   "cell_type": "code",
   "execution_count": 33,
   "id": "4aa4a647",
   "metadata": {},
   "outputs": [],
   "source": [
    "c=count_test(5)"
   ]
  },
  {
   "cell_type": "code",
   "execution_count": 34,
   "id": "438db766",
   "metadata": {},
   "outputs": [
    {
     "name": "stdout",
     "output_type": "stream",
     "text": [
      "1\n",
      "2\n",
      "3\n",
      "4\n",
      "5\n"
     ]
    }
   ],
   "source": [
    "for i in c:\n",
    "    print(i)"
   ]
  },
  {
   "cell_type": "code",
   "execution_count": 36,
   "id": "2e63a64a",
   "metadata": {},
   "outputs": [
    {
     "data": {
      "text/plain": [
       "generator"
      ]
     },
     "execution_count": 36,
     "metadata": {},
     "output_type": "execute_result"
    }
   ],
   "source": [
    "type(c)"
   ]
  },
  {
   "cell_type": "markdown",
   "id": "4aa583ca",
   "metadata": {},
   "source": [
    "## lambda function"
   ]
  },
  {
   "cell_type": "code",
   "execution_count": 2,
   "id": "5bf27734",
   "metadata": {},
   "outputs": [],
   "source": [
    " ##by using simple function"
   ]
  },
  {
   "cell_type": "code",
   "execution_count": 4,
   "id": "ba9ebfe4",
   "metadata": {},
   "outputs": [],
   "source": [
    "n=3\n",
    "p=2\n",
    "\n",
    "def test(n,p):\n",
    "    return n**p"
   ]
  },
  {
   "cell_type": "code",
   "execution_count": 5,
   "id": "6ec215b8",
   "metadata": {},
   "outputs": [
    {
     "data": {
      "text/plain": [
       "25"
      ]
     },
     "execution_count": 5,
     "metadata": {},
     "output_type": "execute_result"
    }
   ],
   "source": [
    "test(5,2)"
   ]
  },
  {
   "cell_type": "code",
   "execution_count": 6,
   "id": "890320d1",
   "metadata": {},
   "outputs": [],
   "source": [
    "##using lambda function:"
   ]
  },
  {
   "cell_type": "code",
   "execution_count": 8,
   "id": "59f5a21e",
   "metadata": {},
   "outputs": [
    {
     "data": {
      "text/plain": [
       "function"
      ]
     },
     "execution_count": 8,
     "metadata": {},
     "output_type": "execute_result"
    }
   ],
   "source": [
    "type(lambda n,p:n**p)"
   ]
  },
  {
   "cell_type": "code",
   "execution_count": 10,
   "id": "6291e5f2",
   "metadata": {},
   "outputs": [],
   "source": [
    "a=lambda n,p:n**p"
   ]
  },
  {
   "cell_type": "code",
   "execution_count": 11,
   "id": "128d1072",
   "metadata": {},
   "outputs": [
    {
     "data": {
      "text/plain": [
       "25"
      ]
     },
     "execution_count": 11,
     "metadata": {},
     "output_type": "execute_result"
    }
   ],
   "source": [
    "a(5,2)"
   ]
  },
  {
   "cell_type": "code",
   "execution_count": 12,
   "id": "b9295c4d",
   "metadata": {},
   "outputs": [],
   "source": [
    "add=lambda x,y:x+y"
   ]
  },
  {
   "cell_type": "code",
   "execution_count": 13,
   "id": "ea563cbe",
   "metadata": {},
   "outputs": [
    {
     "data": {
      "text/plain": [
       "1452176398"
      ]
     },
     "execution_count": 13,
     "metadata": {},
     "output_type": "execute_result"
    }
   ],
   "source": [
    "add(897446,1451278952)"
   ]
  },
  {
   "cell_type": "code",
   "execution_count": 14,
   "id": "ebfb61d8",
   "metadata": {},
   "outputs": [],
   "source": [
    " ##to convert celsius to ferenite"
   ]
  },
  {
   "cell_type": "code",
   "execution_count": 15,
   "id": "b6fcaeef",
   "metadata": {},
   "outputs": [],
   "source": [
    "cel_to_fer=lambda c:(9/5)*c + 32"
   ]
  },
  {
   "cell_type": "code",
   "execution_count": 16,
   "id": "1d0fa098",
   "metadata": {},
   "outputs": [
    {
     "data": {
      "text/plain": [
       "59.0"
      ]
     },
     "execution_count": 16,
     "metadata": {},
     "output_type": "execute_result"
    }
   ],
   "source": [
    "cel_to_fer(15)"
   ]
  },
  {
   "cell_type": "code",
   "execution_count": 18,
   "id": "c9fb4bab",
   "metadata": {},
   "outputs": [],
   "source": [
    "find_max=lambda x,y: x if x>y else y"
   ]
  },
  {
   "cell_type": "code",
   "execution_count": 19,
   "id": "2dcda2dc",
   "metadata": {},
   "outputs": [
    {
     "data": {
      "text/plain": [
       "98"
      ]
     },
     "execution_count": 19,
     "metadata": {},
     "output_type": "execute_result"
    }
   ],
   "source": [
    "find_max(98,78)"
   ]
  },
  {
   "cell_type": "code",
   "execution_count": 20,
   "id": "a89d5fcf",
   "metadata": {},
   "outputs": [],
   "source": [
    "s=\"akanksha\""
   ]
  },
  {
   "cell_type": "code",
   "execution_count": 23,
   "id": "b3e381b2",
   "metadata": {},
   "outputs": [],
   "source": [
    "find_length=lambda s: len(s)"
   ]
  },
  {
   "cell_type": "code",
   "execution_count": 24,
   "id": "6d617e44",
   "metadata": {},
   "outputs": [
    {
     "data": {
      "text/plain": [
       "8"
      ]
     },
     "execution_count": 24,
     "metadata": {},
     "output_type": "execute_result"
    }
   ],
   "source": [
    "find_length(s)"
   ]
  },
  {
   "cell_type": "code",
   "execution_count": 25,
   "id": "f14936f9",
   "metadata": {},
   "outputs": [],
   "source": [
    "def name(s):\n",
    "    return len(s)"
   ]
  },
  {
   "cell_type": "code",
   "execution_count": 26,
   "id": "75672dd9",
   "metadata": {},
   "outputs": [
    {
     "data": {
      "text/plain": [
       "8"
      ]
     },
     "execution_count": 26,
     "metadata": {},
     "output_type": "execute_result"
    }
   ],
   "source": [
    "name(\"akanksha\")"
   ]
  },
  {
   "cell_type": "markdown",
   "id": "00bf243f",
   "metadata": {},
   "source": [
    "## Map,Reduce and Filter function"
   ]
  },
  {
   "cell_type": "code",
   "execution_count": 1,
   "id": "f22e6a5e",
   "metadata": {},
   "outputs": [],
   "source": [
    "l=[1,2,3,4,5]"
   ]
  },
  {
   "cell_type": "code",
   "execution_count": 4,
   "id": "5a60a3e8",
   "metadata": {},
   "outputs": [],
   "source": [
    "l1=[]\n",
    "for i in l:\n",
    "    l1.append(i**2)\n",
    "    "
   ]
  },
  {
   "cell_type": "code",
   "execution_count": 5,
   "id": "96ef1b52",
   "metadata": {},
   "outputs": [
    {
     "data": {
      "text/plain": [
       "[1, 4, 9, 16, 25]"
      ]
     },
     "execution_count": 5,
     "metadata": {},
     "output_type": "execute_result"
    }
   ],
   "source": [
    "l1"
   ]
  },
  {
   "cell_type": "code",
   "execution_count": 15,
   "id": "ec759f29",
   "metadata": {},
   "outputs": [],
   "source": [
    "def test(l):\n",
    "    l2=[]\n",
    "    for i in l:\n",
    "        l2.append(i**2)\n",
    "    return l2"
   ]
  },
  {
   "cell_type": "code",
   "execution_count": 13,
   "id": "5812274f",
   "metadata": {},
   "outputs": [
    {
     "data": {
      "text/plain": [
       "[1, 4, 9, 16, 25]"
      ]
     },
     "execution_count": 13,
     "metadata": {},
     "output_type": "execute_result"
    }
   ],
   "source": [
    "test(l)"
   ]
  },
  {
   "cell_type": "code",
   "execution_count": 32,
   "id": "40f29a44",
   "metadata": {},
   "outputs": [],
   "source": [
    "def sq(x):\n",
    "    return x**2"
   ]
  },
  {
   "cell_type": "code",
   "execution_count": 33,
   "id": "b571958c",
   "metadata": {},
   "outputs": [
    {
     "data": {
      "text/plain": [
       "225"
      ]
     },
     "execution_count": 33,
     "metadata": {},
     "output_type": "execute_result"
    }
   ],
   "source": [
    "sq(15)"
   ]
  },
  {
   "cell_type": "code",
   "execution_count": 37,
   "id": "4a2015ef",
   "metadata": {},
   "outputs": [
    {
     "data": {
      "text/plain": [
       "[1, 4, 9, 16, 25]"
      ]
     },
     "execution_count": 37,
     "metadata": {},
     "output_type": "execute_result"
    }
   ],
   "source": [
    "list(map(sq,l))"
   ]
  },
  {
   "cell_type": "code",
   "execution_count": 39,
   "id": "ba002ba2",
   "metadata": {},
   "outputs": [
    {
     "data": {
      "text/plain": [
       "[7, 9, 11, 13, 15]"
      ]
     },
     "execution_count": 39,
     "metadata": {},
     "output_type": "execute_result"
    }
   ],
   "source": [
    "l1=[1,2,3,4,5]\n",
    "l2=[6,7,8,9,10]\n",
    "list(map(lambda x,y:x+y,l1,l2))"
   ]
  },
  {
   "cell_type": "code",
   "execution_count": 41,
   "id": "3b05ea54",
   "metadata": {},
   "outputs": [
    {
     "data": {
      "text/plain": [
       "['A', 'K', 'A', 'N', 'K', 'S', 'H', 'A']"
      ]
     },
     "execution_count": 41,
     "metadata": {},
     "output_type": "execute_result"
    }
   ],
   "source": [
    "s=\"akanksha\"\n",
    "list(map(lambda s:s.upper(),s))"
   ]
  },
  {
   "cell_type": "code",
   "execution_count": 42,
   "id": "653cae7a",
   "metadata": {},
   "outputs": [],
   "source": [
    "## use reduce function"
   ]
  },
  {
   "cell_type": "code",
   "execution_count": 43,
   "id": "a02e2638",
   "metadata": {},
   "outputs": [],
   "source": [
    "## first we need to call the reduce function"
   ]
  },
  {
   "cell_type": "code",
   "execution_count": 44,
   "id": "a02b63a4",
   "metadata": {},
   "outputs": [],
   "source": [
    "from functools import reduce"
   ]
  },
  {
   "cell_type": "code",
   "execution_count": 45,
   "id": "b14f9199",
   "metadata": {},
   "outputs": [],
   "source": [
    "l=[1,2,3,4,5]"
   ]
  },
  {
   "cell_type": "code",
   "execution_count": 46,
   "id": "09aa606a",
   "metadata": {},
   "outputs": [
    {
     "data": {
      "text/plain": [
       "15"
      ]
     },
     "execution_count": 46,
     "metadata": {},
     "output_type": "execute_result"
    }
   ],
   "source": [
    "reduce(lambda x,y:x+y,l )"
   ]
  },
  {
   "cell_type": "code",
   "execution_count": 47,
   "id": "356e61dd",
   "metadata": {},
   "outputs": [
    {
     "data": {
      "text/plain": [
       "1"
      ]
     },
     "execution_count": 47,
     "metadata": {},
     "output_type": "execute_result"
    }
   ],
   "source": [
    "reduce(lambda x,y:x+y,[1])"
   ]
  },
  {
   "cell_type": "code",
   "execution_count": 48,
   "id": "4ecb7c32",
   "metadata": {},
   "outputs": [
    {
     "data": {
      "text/plain": [
       "5"
      ]
     },
     "execution_count": 48,
     "metadata": {},
     "output_type": "execute_result"
    }
   ],
   "source": [
    "reduce(lambda x,y: x if x>y else y,l)"
   ]
  },
  {
   "cell_type": "code",
   "execution_count": 49,
   "id": "b309ec7d",
   "metadata": {},
   "outputs": [],
   "source": [
    "## filter function"
   ]
  },
  {
   "cell_type": "code",
   "execution_count": 50,
   "id": "9e07954a",
   "metadata": {},
   "outputs": [
    {
     "data": {
      "text/plain": [
       "[1, 2, 3, 4, 5]"
      ]
     },
     "execution_count": 50,
     "metadata": {},
     "output_type": "execute_result"
    }
   ],
   "source": [
    "l"
   ]
  },
  {
   "cell_type": "code",
   "execution_count": 53,
   "id": "78841248",
   "metadata": {},
   "outputs": [
    {
     "data": {
      "text/plain": [
       "[2, 4]"
      ]
     },
     "execution_count": 53,
     "metadata": {},
     "output_type": "execute_result"
    }
   ],
   "source": [
    "list(filter(lambda x: x%2==0,l ))"
   ]
  },
  {
   "cell_type": "code",
   "execution_count": 54,
   "id": "c7ee9b87",
   "metadata": {},
   "outputs": [
    {
     "data": {
      "text/plain": [
       "[1, 3, 5]"
      ]
     },
     "execution_count": 54,
     "metadata": {},
     "output_type": "execute_result"
    }
   ],
   "source": [
    "list(filter (lambda x:x%2 !=0,l))"
   ]
  },
  {
   "cell_type": "code",
   "execution_count": 55,
   "id": "9f8e47a2",
   "metadata": {},
   "outputs": [],
   "source": [
    "l1=[2,1,6,-4,2,-1,-4,-8]"
   ]
  },
  {
   "cell_type": "code",
   "execution_count": 57,
   "id": "e3cf3d89",
   "metadata": {},
   "outputs": [
    {
     "data": {
      "text/plain": [
       "[-4, -1, -4, -8]"
      ]
     },
     "execution_count": 57,
     "metadata": {},
     "output_type": "execute_result"
    }
   ],
   "source": [
    "list(filter(lambda x: x<0,l1))"
   ]
  },
  {
   "cell_type": "code",
   "execution_count": 58,
   "id": "656059c5",
   "metadata": {},
   "outputs": [],
   "source": [
    "l2=[\"akshu\",\"vaishu\",\"samu\",\"aanu\"]"
   ]
  },
  {
   "cell_type": "code",
   "execution_count": 60,
   "id": "dadc2e08",
   "metadata": {},
   "outputs": [
    {
     "data": {
      "text/plain": [
       "['akshu', 'samu', 'aanu']"
      ]
     },
     "execution_count": 60,
     "metadata": {},
     "output_type": "execute_result"
    }
   ],
   "source": [
    "list(filter(lambda x: len(x)<6,l2))"
   ]
  },
  {
   "cell_type": "code",
   "execution_count": null,
   "id": "f2b76665",
   "metadata": {},
   "outputs": [],
   "source": []
  }
 ],
 "metadata": {
  "kernelspec": {
   "display_name": "Python 3 (ipykernel)",
   "language": "python",
   "name": "python3"
  },
  "language_info": {
   "codemirror_mode": {
    "name": "ipython",
    "version": 3
   },
   "file_extension": ".py",
   "mimetype": "text/x-python",
   "name": "python",
   "nbconvert_exporter": "python",
   "pygments_lexer": "ipython3",
   "version": "3.10.9"
  }
 },
 "nbformat": 4,
 "nbformat_minor": 5
}
