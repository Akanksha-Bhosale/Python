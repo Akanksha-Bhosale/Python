{
 "cells": [
  {
   "cell_type": "markdown",
   "id": "3ed0cbef",
   "metadata": {},
   "source": [
    "## OBJECT ORIENTED PROGRAMMING SYSTEM (OOPS)"
   ]
  },
  {
   "cell_type": "code",
   "execution_count": 1,
   "id": "bc9dfba8",
   "metadata": {},
   "outputs": [],
   "source": [
    "a=1"
   ]
  },
  {
   "cell_type": "code",
   "execution_count": 6,
   "id": "13f22f53",
   "metadata": {},
   "outputs": [
    {
     "name": "stdout",
     "output_type": "stream",
     "text": [
      "<class 'int'>\n"
     ]
    }
   ],
   "source": [
    "print(type(a))"
   ]
  },
  {
   "cell_type": "code",
   "execution_count": 3,
   "id": "27a256d3",
   "metadata": {},
   "outputs": [],
   "source": [
    "b=\"akanksha\""
   ]
  },
  {
   "cell_type": "code",
   "execution_count": 5,
   "id": "c4f9ec25",
   "metadata": {},
   "outputs": [
    {
     "name": "stdout",
     "output_type": "stream",
     "text": [
      "<class 'str'>\n"
     ]
    }
   ],
   "source": [
    "print(type(b))"
   ]
  },
  {
   "cell_type": "code",
   "execution_count": 8,
   "id": "4538d5b5",
   "metadata": {},
   "outputs": [],
   "source": [
    "## class is the classification of real world entity\n",
    "# it classifies the real world entities"
   ]
  },
  {
   "cell_type": "code",
   "execution_count": 9,
   "id": "072f285a",
   "metadata": {},
   "outputs": [],
   "source": [
    "# a or b in above example is the variable or instance or object of class interger or string respectively"
   ]
  },
  {
   "cell_type": "code",
   "execution_count": 10,
   "id": "9e23cd4a",
   "metadata": {},
   "outputs": [],
   "source": [
    "class test:\n",
    "    pass"
   ]
  },
  {
   "cell_type": "code",
   "execution_count": 12,
   "id": "a36baf54",
   "metadata": {},
   "outputs": [],
   "source": [
    "a=test()"
   ]
  },
  {
   "cell_type": "code",
   "execution_count": 13,
   "id": "ba0653ab",
   "metadata": {},
   "outputs": [
    {
     "data": {
      "text/plain": [
       "__main__.test"
      ]
     },
     "execution_count": 13,
     "metadata": {},
     "output_type": "execute_result"
    }
   ],
   "source": [
    "type(a)"
   ]
  },
  {
   "cell_type": "code",
   "execution_count": 14,
   "id": "76d02836",
   "metadata": {},
   "outputs": [
    {
     "name": "stdout",
     "output_type": "stream",
     "text": [
      "<class '__main__.test'>\n"
     ]
    }
   ],
   "source": [
    "print(type(a))"
   ]
  },
  {
   "cell_type": "code",
   "execution_count": 31,
   "id": "e97b805b",
   "metadata": {},
   "outputs": [],
   "source": [
    "class newclass():\n",
    "    def welcome_msg(self):\n",
    "        print(\"welcome to goa\")\n",
    "\n",
    "##we can use word print or return\n",
    "        "
   ]
  },
  {
   "cell_type": "code",
   "execution_count": 32,
   "id": "fd622db9",
   "metadata": {},
   "outputs": [],
   "source": [
    "ab=newclass()"
   ]
  },
  {
   "cell_type": "code",
   "execution_count": 33,
   "id": "bb01c65b",
   "metadata": {},
   "outputs": [
    {
     "name": "stdout",
     "output_type": "stream",
     "text": [
      "<class '__main__.newclass'>\n"
     ]
    }
   ],
   "source": [
    "print(type(ab))"
   ]
  },
  {
   "cell_type": "code",
   "execution_count": 34,
   "id": "1a799432",
   "metadata": {},
   "outputs": [
    {
     "name": "stdout",
     "output_type": "stream",
     "text": [
      "welcome to goa\n"
     ]
    }
   ],
   "source": [
    "ab.welcome_msg()"
   ]
  },
  {
   "cell_type": "code",
   "execution_count": 35,
   "id": "2ef16693",
   "metadata": {},
   "outputs": [],
   "source": [
    "vb=newclass()"
   ]
  },
  {
   "cell_type": "code",
   "execution_count": 36,
   "id": "f781f488",
   "metadata": {},
   "outputs": [
    {
     "name": "stdout",
     "output_type": "stream",
     "text": [
      "<class '__main__.newclass'>\n"
     ]
    }
   ],
   "source": [
    "print(type(vb))"
   ]
  },
  {
   "cell_type": "code",
   "execution_count": 37,
   "id": "5a41e85d",
   "metadata": {},
   "outputs": [
    {
     "name": "stdout",
     "output_type": "stream",
     "text": [
      "welcome to goa\n"
     ]
    }
   ],
   "source": [
    "vb.welcome_msg()"
   ]
  },
  {
   "cell_type": "code",
   "execution_count": 39,
   "id": "8e0d2415",
   "metadata": {},
   "outputs": [],
   "source": [
    "##we can change and define different objects for a particular class"
   ]
  },
  {
   "cell_type": "code",
   "execution_count": 41,
   "id": "993bb56f",
   "metadata": {},
   "outputs": [],
   "source": [
    "class pwskills():\n",
    "    \n",
    "    def __init__(self,phone_no,email_id,roll_no):\n",
    "        self.phone_no=phone_no\n",
    "        self.email_id=email_id\n",
    "        self.roll_no=roll_no\n",
    "\n",
    "    def return_all_details(self):\n",
    "        return self.phone_no,self.email_id,self.roll_no"
   ]
  },
  {
   "cell_type": "code",
   "execution_count": 45,
   "id": "7cedbebd",
   "metadata": {},
   "outputs": [],
   "source": [
    "akanksha=pwskills(59856268955, \"hcudfhifj@grhu\", 101)"
   ]
  },
  {
   "cell_type": "code",
   "execution_count": 46,
   "id": "c6338034",
   "metadata": {},
   "outputs": [
    {
     "data": {
      "text/plain": [
       "(59856268955, 'hcudfhifj@grhu', 101)"
      ]
     },
     "execution_count": 46,
     "metadata": {},
     "output_type": "execute_result"
    }
   ],
   "source": [
    "akanksha.return_all_details()"
   ]
  },
  {
   "cell_type": "code",
   "execution_count": 47,
   "id": "cb66854c",
   "metadata": {},
   "outputs": [
    {
     "data": {
      "text/plain": [
       "59856268955"
      ]
     },
     "execution_count": 47,
     "metadata": {},
     "output_type": "execute_result"
    }
   ],
   "source": [
    "akanksha.phone_no"
   ]
  },
  {
   "cell_type": "code",
   "execution_count": 48,
   "id": "5180475d",
   "metadata": {},
   "outputs": [
    {
     "data": {
      "text/plain": [
       "'hcudfhifj@grhu'"
      ]
     },
     "execution_count": 48,
     "metadata": {},
     "output_type": "execute_result"
    }
   ],
   "source": [
    "akanksha.email_id"
   ]
  },
  {
   "cell_type": "code",
   "execution_count": 49,
   "id": "20a42c82",
   "metadata": {},
   "outputs": [
    {
     "data": {
      "text/plain": [
       "101"
      ]
     },
     "execution_count": 49,
     "metadata": {},
     "output_type": "execute_result"
    }
   ],
   "source": [
    "akanksha.roll_no"
   ]
  },
  {
   "cell_type": "code",
   "execution_count": 53,
   "id": "f1f39757",
   "metadata": {},
   "outputs": [],
   "source": [
    "vaishnavi=pwskills(102,495496856565,\"vadgeybh@neurywjxn\")"
   ]
  },
  {
   "cell_type": "code",
   "execution_count": 55,
   "id": "62142b2f",
   "metadata": {},
   "outputs": [
    {
     "data": {
      "text/plain": [
       "(102, 495496856565, 'vadgeybh@neurywjxn')"
      ]
     },
     "execution_count": 55,
     "metadata": {},
     "output_type": "execute_result"
    }
   ],
   "source": [
    "vaishnavi.return_all_details()"
   ]
  },
  {
   "cell_type": "code",
   "execution_count": 56,
   "id": "b1339bec",
   "metadata": {},
   "outputs": [
    {
     "data": {
      "text/plain": [
       "'vadgeybh@neurywjxn'"
      ]
     },
     "execution_count": 56,
     "metadata": {},
     "output_type": "execute_result"
    }
   ],
   "source": [
    "vaishnavi.roll_no"
   ]
  },
  {
   "cell_type": "code",
   "execution_count": 58,
   "id": "e0bc2ae2",
   "metadata": {},
   "outputs": [],
   "source": [
    "class pwskills1():\n",
    "    \n",
    "    def __init__(akshu,phone_no,email_id,roll_no):\n",
    "        akshu.phone_no=phone_no\n",
    "        akshu.email_id=email_id\n",
    "        akshu.roll_no=roll_no\n",
    "\n",
    "    def return_all_details(akshu):\n",
    "        return akshu.phone_no,akshu.email_id,akshu.roll_no"
   ]
  },
  {
   "cell_type": "code",
   "execution_count": 59,
   "id": "3b391b37",
   "metadata": {},
   "outputs": [],
   "source": [
    "samu=pwskills1(102,\"hwhs@fnbehhsu\",487458795)"
   ]
  },
  {
   "cell_type": "code",
   "execution_count": 60,
   "id": "57cc92ba",
   "metadata": {},
   "outputs": [
    {
     "data": {
      "text/plain": [
       "(102, 'hwhs@fnbehhsu', 487458795)"
      ]
     },
     "execution_count": 60,
     "metadata": {},
     "output_type": "execute_result"
    }
   ],
   "source": [
    "samu.return_all_details()"
   ]
  },
  {
   "cell_type": "markdown",
   "id": "3849b7e2",
   "metadata": {},
   "source": [
    "## POLYMORPHISM"
   ]
  },
  {
   "cell_type": "code",
   "execution_count": 61,
   "id": "36fe2fb0",
   "metadata": {},
   "outputs": [],
   "source": [
    "def cls(a,b):\n",
    "    return a+b\n",
    "    "
   ]
  },
  {
   "cell_type": "code",
   "execution_count": 62,
   "id": "b69975f4",
   "metadata": {},
   "outputs": [
    {
     "data": {
      "text/plain": [
       "9939"
      ]
     },
     "execution_count": 62,
     "metadata": {},
     "output_type": "execute_result"
    }
   ],
   "source": [
    "cls(7987,1952)"
   ]
  },
  {
   "cell_type": "code",
   "execution_count": 66,
   "id": "e164f039",
   "metadata": {},
   "outputs": [
    {
     "data": {
      "text/plain": [
       "'akshu  vaishu'"
      ]
     },
     "execution_count": 66,
     "metadata": {},
     "output_type": "execute_result"
    }
   ],
   "source": [
    "cls(\"akshu  \" , \"vaishu\")"
   ]
  },
  {
   "cell_type": "code",
   "execution_count": 67,
   "id": "793d8d2f",
   "metadata": {},
   "outputs": [
    {
     "data": {
      "text/plain": [
       "[122, 2, 44.5, 6, 43, 3, 89, 7, 8, 45, 6, 2, 3, 14, 4, 4, 7]"
      ]
     },
     "execution_count": 67,
     "metadata": {},
     "output_type": "execute_result"
    }
   ],
   "source": [
    "cls([122,2,44.5,6,43,3],[89,7,8,45,6,2,3,14,4,4,7])"
   ]
  },
  {
   "cell_type": "code",
   "execution_count": 68,
   "id": "fe57f8cc",
   "metadata": {},
   "outputs": [],
   "source": [
    "l1= [122,2,44.5,6,43,3]\n",
    "l2=[89,7,8,45,6,2]"
   ]
  },
  {
   "cell_type": "code",
   "execution_count": 74,
   "id": "70ac0b36",
   "metadata": {},
   "outputs": [
    {
     "data": {
      "text/plain": [
       "[211, 9, 52.5, 51, 49, 5]"
      ]
     },
     "execution_count": 74,
     "metadata": {},
     "output_type": "execute_result"
    }
   ],
   "source": [
    "list(map(lambda x,y :x+y,l1,l2))"
   ]
  },
  {
   "cell_type": "code",
   "execution_count": 133,
   "id": "9cc5968f",
   "metadata": {},
   "outputs": [],
   "source": [
    "class data_science:\n",
    "    def syllabus(self):\n",
    "        print(\"this is my syllabus for data science\")"
   ]
  },
  {
   "cell_type": "code",
   "execution_count": 134,
   "id": "a41ef679",
   "metadata": {},
   "outputs": [],
   "source": [
    "class web_science:\n",
    "    def syllabus(self):\n",
    "        print(\"this is my syllabus for web science\")"
   ]
  },
  {
   "cell_type": "code",
   "execution_count": 135,
   "id": "bfe3503f",
   "metadata": {},
   "outputs": [],
   "source": [
    "def class_parser(class_obj):\n",
    "    for i in class_obj:\n",
    "        i.syllabus()"
   ]
  },
  {
   "cell_type": "code",
   "execution_count": 136,
   "id": "a79f4353",
   "metadata": {},
   "outputs": [],
   "source": [
    "data_science=data_science()"
   ]
  },
  {
   "cell_type": "code",
   "execution_count": 137,
   "id": "1230b8bc",
   "metadata": {},
   "outputs": [],
   "source": [
    "web_science=web_science() "
   ]
  },
  {
   "cell_type": "code",
   "execution_count": 140,
   "id": "6132aa94",
   "metadata": {},
   "outputs": [],
   "source": [
    "class_obj=[data_science, web_science]"
   ]
  },
  {
   "cell_type": "code",
   "execution_count": 141,
   "id": "04f422d4",
   "metadata": {},
   "outputs": [
    {
     "name": "stdout",
     "output_type": "stream",
     "text": [
      "this is my syllabus for data science\n",
      "this is my syllabus for web science\n"
     ]
    }
   ],
   "source": [
    "class_parser(class_obj)"
   ]
  },
  {
   "cell_type": "markdown",
   "id": "a2e1450a",
   "metadata": {},
   "source": [
    "## ENCAPSULATION"
   ]
  },
  {
   "cell_type": "code",
   "execution_count": 142,
   "id": "11d6b341",
   "metadata": {},
   "outputs": [],
   "source": [
    "class test:\n",
    "    def __init__(self,a,b):\n",
    "        self.a=a\n",
    "        self.b=b\n",
    "        "
   ]
  },
  {
   "cell_type": "code",
   "execution_count": 143,
   "id": "dcc4befb",
   "metadata": {},
   "outputs": [],
   "source": [
    "t=test(5494,168)"
   ]
  },
  {
   "cell_type": "code",
   "execution_count": 144,
   "id": "50685ccb",
   "metadata": {},
   "outputs": [
    {
     "data": {
      "text/plain": [
       "<__main__.test at 0x1e0184519c0>"
      ]
     },
     "execution_count": 144,
     "metadata": {},
     "output_type": "execute_result"
    }
   ],
   "source": [
    "t"
   ]
  },
  {
   "cell_type": "code",
   "execution_count": 145,
   "id": "90a5cdc4",
   "metadata": {},
   "outputs": [],
   "source": [
    "t.a=851526"
   ]
  },
  {
   "cell_type": "code",
   "execution_count": 146,
   "id": "c91ec987",
   "metadata": {},
   "outputs": [
    {
     "data": {
      "text/plain": [
       "851526"
      ]
     },
     "execution_count": 146,
     "metadata": {},
     "output_type": "execute_result"
    }
   ],
   "source": [
    "t.a"
   ]
  },
  {
   "cell_type": "code",
   "execution_count": 147,
   "id": "06966c49",
   "metadata": {},
   "outputs": [],
   "source": [
    "t.b=187845596"
   ]
  },
  {
   "cell_type": "code",
   "execution_count": 148,
   "id": "360eabe6",
   "metadata": {},
   "outputs": [
    {
     "data": {
      "text/plain": [
       "187845596"
      ]
     },
     "execution_count": 148,
     "metadata": {},
     "output_type": "execute_result"
    }
   ],
   "source": [
    "t.b"
   ]
  },
  {
   "cell_type": "code",
   "execution_count": 152,
   "id": "a044f939",
   "metadata": {},
   "outputs": [],
   "source": [
    "class car:\n",
    "    def __init__(self,year,make,model,speed):\n",
    "        self.__year=year\n",
    "        self.__make=make\n",
    "        self.__model=model\n",
    "        self.__speed=98\n",
    "        "
   ]
  },
  {
   "cell_type": "code",
   "execution_count": 158,
   "id": "f83c0920",
   "metadata": {},
   "outputs": [],
   "source": [
    "t=car(2016,'toyota','innova',78)"
   ]
  },
  {
   "cell_type": "code",
   "execution_count": 159,
   "id": "5eebe20d",
   "metadata": {},
   "outputs": [
    {
     "ename": "AttributeError",
     "evalue": "'car' object has no attribute 'year'",
     "output_type": "error",
     "traceback": [
      "\u001b[1;31m---------------------------------------------------------------------------\u001b[0m",
      "\u001b[1;31mAttributeError\u001b[0m                            Traceback (most recent call last)",
      "Cell \u001b[1;32mIn[159], line 1\u001b[0m\n\u001b[1;32m----> 1\u001b[0m \u001b[43mt\u001b[49m\u001b[38;5;241;43m.\u001b[39;49m\u001b[43myear\u001b[49m\n",
      "\u001b[1;31mAttributeError\u001b[0m: 'car' object has no attribute 'year'"
     ]
    }
   ],
   "source": [
    "t.year"
   ]
  },
  {
   "cell_type": "code",
   "execution_count": 160,
   "id": "3a9ee222",
   "metadata": {},
   "outputs": [
    {
     "ename": "AttributeError",
     "evalue": "'car' object has no attribute '__year'",
     "output_type": "error",
     "traceback": [
      "\u001b[1;31m---------------------------------------------------------------------------\u001b[0m",
      "\u001b[1;31mAttributeError\u001b[0m                            Traceback (most recent call last)",
      "Cell \u001b[1;32mIn[160], line 1\u001b[0m\n\u001b[1;32m----> 1\u001b[0m \u001b[43mt\u001b[49m\u001b[38;5;241;43m.\u001b[39;49m\u001b[43m__year\u001b[49m\n",
      "\u001b[1;31mAttributeError\u001b[0m: 'car' object has no attribute '__year'"
     ]
    }
   ],
   "source": [
    "t.__year"
   ]
  },
  {
   "cell_type": "code",
   "execution_count": 161,
   "id": "f70490d1",
   "metadata": {},
   "outputs": [
    {
     "data": {
      "text/plain": [
       "2016"
      ]
     },
     "execution_count": 161,
     "metadata": {},
     "output_type": "execute_result"
    }
   ],
   "source": [
    "t._car__year\n"
   ]
  },
  {
   "cell_type": "code",
   "execution_count": 162,
   "id": "d21f368e",
   "metadata": {},
   "outputs": [],
   "source": [
    "##when we are using double underscore while invoking variable that means that varible we cannot access directly"
   ]
  },
  {
   "cell_type": "code",
   "execution_count": 181,
   "id": "121d0573",
   "metadata": {},
   "outputs": [],
   "source": [
    "class car:\n",
    "    def __init__(self,year,make,model,speed):\n",
    "        self.__year=year\n",
    "        self.__make=make\n",
    "        self.__model=model\n",
    "        self.__speed=98\n",
    "        \n",
    "    ##we create another method to to modify the variable without touching or changing the variables.\n",
    "    def set_speed(self,speed):\n",
    "        self.__speed=0 if speed <0 else speed\n",
    "    \n",
    "    def get_speed(self):\n",
    "        return self.__speed"
   ]
  },
  {
   "cell_type": "code",
   "execution_count": 182,
   "id": "bdadfb88",
   "metadata": {},
   "outputs": [],
   "source": [
    "a=car(2012,\"indica\",\"tata\",12)"
   ]
  },
  {
   "cell_type": "code",
   "execution_count": 183,
   "id": "27ad98a1",
   "metadata": {},
   "outputs": [
    {
     "data": {
      "text/plain": [
       "2012"
      ]
     },
     "execution_count": 183,
     "metadata": {},
     "output_type": "execute_result"
    }
   ],
   "source": [
    "a._car__year"
   ]
  },
  {
   "cell_type": "code",
   "execution_count": 184,
   "id": "9dd48778",
   "metadata": {},
   "outputs": [],
   "source": [
    "a.set_speed(8974)"
   ]
  },
  {
   "cell_type": "code",
   "execution_count": 185,
   "id": "ee54d266",
   "metadata": {},
   "outputs": [
    {
     "data": {
      "text/plain": [
       "8974"
      ]
     },
     "execution_count": 185,
     "metadata": {},
     "output_type": "execute_result"
    }
   ],
   "source": [
    "a.get_speed()"
   ]
  },
  {
   "cell_type": "code",
   "execution_count": 186,
   "id": "90d80a7b",
   "metadata": {},
   "outputs": [],
   "source": [
    "a.set_speed(-58474)"
   ]
  },
  {
   "cell_type": "code",
   "execution_count": 188,
   "id": "0b0cd779",
   "metadata": {},
   "outputs": [
    {
     "data": {
      "text/plain": [
       "0"
      ]
     },
     "execution_count": 188,
     "metadata": {},
     "output_type": "execute_result"
    }
   ],
   "source": [
    "a.get_speed()"
   ]
  },
  {
   "cell_type": "markdown",
   "id": "b75d1c79",
   "metadata": {},
   "source": [
    "## INHERITANCE"
   ]
  },
  {
   "cell_type": "code",
   "execution_count": 1,
   "id": "4a966b00",
   "metadata": {},
   "outputs": [],
   "source": [
    "class test:\n",
    "    def test_meth(self):\n",
    "        return (\"this is inheritance tutorial\")"
   ]
  },
  {
   "cell_type": "code",
   "execution_count": 2,
   "id": "7505d435",
   "metadata": {},
   "outputs": [],
   "source": [
    "class child_test(test):\n",
    "    pass"
   ]
  },
  {
   "cell_type": "code",
   "execution_count": 4,
   "id": "dc597e96",
   "metadata": {},
   "outputs": [],
   "source": [
    "child_test_obj=child_test()"
   ]
  },
  {
   "cell_type": "code",
   "execution_count": 5,
   "id": "0c73981c",
   "metadata": {},
   "outputs": [
    {
     "data": {
      "text/plain": [
       "'this is inheritance tutorial'"
      ]
     },
     "execution_count": 5,
     "metadata": {},
     "output_type": "execute_result"
    }
   ],
   "source": [
    "child_test_obj.test_meth()"
   ]
  },
  {
   "cell_type": "code",
   "execution_count": 6,
   "id": "be540bf6",
   "metadata": {},
   "outputs": [],
   "source": [
    " ## multilabel inheritance"
   ]
  },
  {
   "cell_type": "code",
   "execution_count": 12,
   "id": "69ec7f15",
   "metadata": {},
   "outputs": [],
   "source": [
    "class class1():\n",
    "    def class1_meth(self):\n",
    "        return(\"this is meth under class1\")\n",
    "    \n",
    "class class2(class1):\n",
    "    def class2_meth(self):\n",
    "        return(\"this is meth under class2\")\n",
    "    \n",
    "class class3(class2):\n",
    "    pass\n",
    "    "
   ]
  },
  {
   "cell_type": "code",
   "execution_count": 13,
   "id": "8645554d",
   "metadata": {},
   "outputs": [],
   "source": [
    "class_obj=class3()"
   ]
  },
  {
   "cell_type": "code",
   "execution_count": 14,
   "id": "ce705bcf",
   "metadata": {},
   "outputs": [
    {
     "data": {
      "text/plain": [
       "'this is meth under class1'"
      ]
     },
     "execution_count": 14,
     "metadata": {},
     "output_type": "execute_result"
    }
   ],
   "source": [
    "class_obj.class1_meth()"
   ]
  },
  {
   "cell_type": "code",
   "execution_count": 15,
   "id": "96e874f9",
   "metadata": {},
   "outputs": [
    {
     "data": {
      "text/plain": [
       "'this is meth under class2'"
      ]
     },
     "execution_count": 15,
     "metadata": {},
     "output_type": "execute_result"
    }
   ],
   "source": [
    "class_obj.class2_meth()"
   ]
  },
  {
   "cell_type": "code",
   "execution_count": 16,
   "id": "f93f169d",
   "metadata": {},
   "outputs": [],
   "source": [
    "## multiple inheritance"
   ]
  },
  {
   "cell_type": "code",
   "execution_count": 18,
   "id": "0960e117",
   "metadata": {},
   "outputs": [],
   "source": [
    "class class1():\n",
    "    def class1_test(self):\n",
    "        return \"this is class1\""
   ]
  },
  {
   "cell_type": "code",
   "execution_count": 19,
   "id": "e50d7233",
   "metadata": {},
   "outputs": [],
   "source": [
    "class class2():\n",
    "    def class2_test(self):\n",
    "        return \"this is class2\""
   ]
  },
  {
   "cell_type": "code",
   "execution_count": 20,
   "id": "ec626f3e",
   "metadata": {},
   "outputs": [],
   "source": [
    "class class3(class1,class2):\n",
    "    pass"
   ]
  },
  {
   "cell_type": "code",
   "execution_count": 21,
   "id": "f576d980",
   "metadata": {},
   "outputs": [],
   "source": [
    "obj_cls3=class3()"
   ]
  },
  {
   "cell_type": "code",
   "execution_count": 23,
   "id": "fb152421",
   "metadata": {},
   "outputs": [
    {
     "data": {
      "text/plain": [
       "'this is class1'"
      ]
     },
     "execution_count": 23,
     "metadata": {},
     "output_type": "execute_result"
    }
   ],
   "source": [
    "obj_cls3.class1_test()"
   ]
  },
  {
   "cell_type": "code",
   "execution_count": 24,
   "id": "585a78e0",
   "metadata": {},
   "outputs": [
    {
     "data": {
      "text/plain": [
       "'this is class2'"
      ]
     },
     "execution_count": 24,
     "metadata": {},
     "output_type": "execute_result"
    }
   ],
   "source": [
    "obj_cls3.class2_test()"
   ]
  },
  {
   "cell_type": "markdown",
   "id": "0920e2af",
   "metadata": {},
   "source": [
    "## ABSTRACTION"
   ]
  },
  {
   "cell_type": "code",
   "execution_count": 25,
   "id": "5ca4214d",
   "metadata": {},
   "outputs": [],
   "source": [
    "##ABSTRACTION is basically used to create a skeleton or the blueprint"
   ]
  },
  {
   "cell_type": "code",
   "execution_count": 26,
   "id": "57b44ba1",
   "metadata": {},
   "outputs": [],
   "source": [
    "import abc"
   ]
  },
  {
   "cell_type": "code",
   "execution_count": 27,
   "id": "2f315c34",
   "metadata": {},
   "outputs": [],
   "source": [
    "import abc\n",
    "class masters:\n",
    "    @abc.abstractmethod\n",
    "    def students_details(self):\n",
    "        pass\n",
    "    @abc.abstractmethod\n",
    "    def students_assignments(self):\n",
    "        pass\n",
    "    @abc.abstractmethod\n",
    "    def students_marks(self):\n",
    "        pass\n",
    "    \n",
    "    ##this is just the skeleton created"
   ]
  },
  {
   "cell_type": "code",
   "execution_count": 31,
   "id": "18786f31",
   "metadata": {},
   "outputs": [],
   "source": [
    "class division1_details(masters):\n",
    "    def students_details(self):\n",
    "        return \" this is method1 for taking students details\"\n",
    "    def students_assignments(self):\n",
    "        return \"this is method1 for taking students assignment details\"\n",
    "    "
   ]
  },
  {
   "cell_type": "code",
   "execution_count": 32,
   "id": "3b062872",
   "metadata": {},
   "outputs": [],
   "source": [
    "class division2_details(masters):\n",
    "    def students_details(self):\n",
    "        return \" this is method2 for taking students details\"\n",
    "    def students_marks(self):\n",
    "        return \"this is method2 for taking students marks details\"\n",
    "    "
   ]
  },
  {
   "cell_type": "code",
   "execution_count": 37,
   "id": "f12f84ce",
   "metadata": {},
   "outputs": [],
   "source": [
    "class division3_details(masters):\n",
    "    def students_details(self):\n",
    "        return \" this is method3 for taking students details\"\n",
    "    def students_marks(self):\n",
    "        return \"this is method3 for taking students marks details\"\n",
    "    def students_assignments(self):\n",
    "        return \"this is method3 for taking students assignment details\"\n",
    "    \n",
    "    \n",
    "    "
   ]
  },
  {
   "cell_type": "code",
   "execution_count": 38,
   "id": "981e5e59",
   "metadata": {},
   "outputs": [],
   "source": [
    "a=division3_details()"
   ]
  },
  {
   "cell_type": "code",
   "execution_count": 39,
   "id": "fbf033fe",
   "metadata": {},
   "outputs": [
    {
     "data": {
      "text/plain": [
       "'this is method3 for taking students assignment details'"
      ]
     },
     "execution_count": 39,
     "metadata": {},
     "output_type": "execute_result"
    }
   ],
   "source": [
    "a.students_assignments()"
   ]
  },
  {
   "cell_type": "code",
   "execution_count": 40,
   "id": "823c944d",
   "metadata": {},
   "outputs": [],
   "source": [
    "b=division2_details()"
   ]
  },
  {
   "cell_type": "code",
   "execution_count": 41,
   "id": "9ee56305",
   "metadata": {},
   "outputs": [
    {
     "data": {
      "text/plain": [
       "'this is method2 for taking students marks details'"
      ]
     },
     "execution_count": 41,
     "metadata": {},
     "output_type": "execute_result"
    }
   ],
   "source": [
    "b.students_marks()"
   ]
  },
  {
   "cell_type": "code",
   "execution_count": null,
   "id": "88ead9f2",
   "metadata": {},
   "outputs": [],
   "source": []
  }
 ],
 "metadata": {
  "kernelspec": {
   "display_name": "Python 3 (ipykernel)",
   "language": "python",
   "name": "python3"
  },
  "language_info": {
   "codemirror_mode": {
    "name": "ipython",
    "version": 3
   },
   "file_extension": ".py",
   "mimetype": "text/x-python",
   "name": "python",
   "nbconvert_exporter": "python",
   "pygments_lexer": "ipython3",
   "version": "3.10.9"
  }
 },
 "nbformat": 4,
 "nbformat_minor": 5
}
