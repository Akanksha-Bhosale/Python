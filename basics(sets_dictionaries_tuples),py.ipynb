{
 "cells": [
  {
   "cell_type": "code",
   "execution_count": 1,
   "id": "9e5366e3",
   "metadata": {},
   "outputs": [
    {
     "data": {
      "text/plain": [
       "list"
      ]
     },
     "execution_count": 1,
     "metadata": {},
     "output_type": "execute_result"
    }
   ],
   "source": [
    "type([])"
   ]
  },
  {
   "cell_type": "code",
   "execution_count": 4,
   "id": "80f49887",
   "metadata": {},
   "outputs": [],
   "source": [
    "first_example=[]"
   ]
  },
  {
   "cell_type": "code",
   "execution_count": 5,
   "id": "d8c37e1c",
   "metadata": {},
   "outputs": [
    {
     "data": {
      "text/plain": [
       "list"
      ]
     },
     "execution_count": 5,
     "metadata": {},
     "output_type": "execute_result"
    }
   ],
   "source": [
    "type(first_example)"
   ]
  },
  {
   "cell_type": "code",
   "execution_count": 6,
   "id": "9851f1f7",
   "metadata": {},
   "outputs": [],
   "source": [
    "first_ex=[\"akanksha\",\"vaishanvi\",25,11,2001]"
   ]
  },
  {
   "cell_type": "code",
   "execution_count": 7,
   "id": "11f0b00a",
   "metadata": {},
   "outputs": [
    {
     "data": {
      "text/plain": [
       "list"
      ]
     },
     "execution_count": 7,
     "metadata": {},
     "output_type": "execute_result"
    }
   ],
   "source": [
    "type(first_ex)"
   ]
  },
  {
   "cell_type": "code",
   "execution_count": 8,
   "id": "cc2b8b19",
   "metadata": {},
   "outputs": [
    {
     "data": {
      "text/plain": [
       "5"
      ]
     },
     "execution_count": 8,
     "metadata": {},
     "output_type": "execute_result"
    }
   ],
   "source": [
    "len(first_ex)"
   ]
  },
  {
   "cell_type": "code",
   "execution_count": 9,
   "id": "bc384764",
   "metadata": {},
   "outputs": [],
   "source": [
    "#append"
   ]
  },
  {
   "cell_type": "code",
   "execution_count": 12,
   "id": "532e9fe6",
   "metadata": {},
   "outputs": [],
   "source": [
    "first_ex.append(\"sunil\")"
   ]
  },
  {
   "cell_type": "code",
   "execution_count": 13,
   "id": "efffe114",
   "metadata": {},
   "outputs": [],
   "source": [
    "first_ex=[\"akanksha\",\"vaishanvi\",25,11,2001]"
   ]
  },
  {
   "cell_type": "code",
   "execution_count": 14,
   "id": "7a60da41",
   "metadata": {},
   "outputs": [],
   "source": [
    "first_ex.append(\"sunil\")"
   ]
  },
  {
   "cell_type": "code",
   "execution_count": 17,
   "id": "65ee128c",
   "metadata": {},
   "outputs": [
    {
     "data": {
      "text/plain": [
       "['akanksha', 'vaishanvi', 25, 11, 2001, 'sunil']"
      ]
     },
     "execution_count": 17,
     "metadata": {},
     "output_type": "execute_result"
    }
   ],
   "source": [
    "first_ex"
   ]
  },
  {
   "cell_type": "code",
   "execution_count": 23,
   "id": "064e6904",
   "metadata": {},
   "outputs": [
    {
     "data": {
      "text/plain": [
       "6"
      ]
     },
     "execution_count": 23,
     "metadata": {},
     "output_type": "execute_result"
    }
   ],
   "source": [
    "len(first_ex)"
   ]
  },
  {
   "cell_type": "code",
   "execution_count": 18,
   "id": "5023df99",
   "metadata": {},
   "outputs": [
    {
     "data": {
      "text/plain": [
       "'vaishanvi'"
      ]
     },
     "execution_count": 18,
     "metadata": {},
     "output_type": "execute_result"
    }
   ],
   "source": [
    "first_ex[1]"
   ]
  },
  {
   "cell_type": "code",
   "execution_count": 19,
   "id": "92b30d14",
   "metadata": {},
   "outputs": [
    {
     "ename": "IndexError",
     "evalue": "list index out of range",
     "output_type": "error",
     "traceback": [
      "\u001b[1;31m---------------------------------------------------------------------------\u001b[0m",
      "\u001b[1;31mIndexError\u001b[0m                                Traceback (most recent call last)",
      "Cell \u001b[1;32mIn[19], line 1\u001b[0m\n\u001b[1;32m----> 1\u001b[0m \u001b[43mfirst_ex\u001b[49m\u001b[43m[\u001b[49m\u001b[38;5;241;43m7\u001b[39;49m\u001b[43m]\u001b[49m\n",
      "\u001b[1;31mIndexError\u001b[0m: list index out of range"
     ]
    }
   ],
   "source": [
    "first_ex[7]"
   ]
  },
  {
   "cell_type": "code",
   "execution_count": 22,
   "id": "9d7bc26b",
   "metadata": {},
   "outputs": [
    {
     "data": {
      "text/plain": [
       "'sunil'"
      ]
     },
     "execution_count": 22,
     "metadata": {},
     "output_type": "execute_result"
    }
   ],
   "source": [
    "first_ex[5]"
   ]
  },
  {
   "cell_type": "code",
   "execution_count": 21,
   "id": "0fd0fd0e",
   "metadata": {},
   "outputs": [
    {
     "data": {
      "text/plain": [
       "[25, 11, 2001, 'sunil']"
      ]
     },
     "execution_count": 21,
     "metadata": {},
     "output_type": "execute_result"
    }
   ],
   "source": [
    "first_ex[2:]  "
   ]
  },
  {
   "cell_type": "code",
   "execution_count": 24,
   "id": "9a7ce3c8",
   "metadata": {},
   "outputs": [
    {
     "data": {
      "text/plain": [
       "['akanksha', 'vaishanvi', 25, 11, 2001, 'sunil']"
      ]
     },
     "execution_count": 24,
     "metadata": {},
     "output_type": "execute_result"
    }
   ],
   "source": [
    "first_ex[:]"
   ]
  },
  {
   "cell_type": "code",
   "execution_count": 26,
   "id": "c134fea0",
   "metadata": {},
   "outputs": [
    {
     "data": {
      "text/plain": [
       "['vaishanvi', 25, 11, 2001]"
      ]
     },
     "execution_count": 26,
     "metadata": {},
     "output_type": "execute_result"
    }
   ],
   "source": [
    "first_ex[1:5]"
   ]
  },
  {
   "cell_type": "code",
   "execution_count": 27,
   "id": "01eb77ee",
   "metadata": {},
   "outputs": [],
   "source": [
    "first_ex.append([\"hirabai\",\"bhosale\"])"
   ]
  },
  {
   "cell_type": "code",
   "execution_count": 28,
   "id": "c782141d",
   "metadata": {},
   "outputs": [
    {
     "data": {
      "text/plain": [
       "['akanksha', 'vaishanvi', 25, 11, 2001, 'sunil', ['hirabai', 'bhosale']]"
      ]
     },
     "execution_count": 28,
     "metadata": {},
     "output_type": "execute_result"
    }
   ],
   "source": [
    "first_ex"
   ]
  },
  {
   "cell_type": "code",
   "execution_count": 29,
   "id": "0a457a06",
   "metadata": {},
   "outputs": [],
   "source": [
    "first_ex.insert(1,\"dhondiram\")"
   ]
  },
  {
   "cell_type": "code",
   "execution_count": 30,
   "id": "611146be",
   "metadata": {},
   "outputs": [
    {
     "data": {
      "text/plain": [
       "['akanksha',\n",
       " 'dhondiram',\n",
       " 'vaishanvi',\n",
       " 25,\n",
       " 11,\n",
       " 2001,\n",
       " 'sunil',\n",
       " ['hirabai', 'bhosale']]"
      ]
     },
     "execution_count": 30,
     "metadata": {},
     "output_type": "execute_result"
    }
   ],
   "source": [
    "first_ex"
   ]
  },
  {
   "cell_type": "code",
   "execution_count": 31,
   "id": "80022790",
   "metadata": {},
   "outputs": [],
   "source": [
    "first=[1,2,3,4,5,6]"
   ]
  },
  {
   "cell_type": "code",
   "execution_count": 32,
   "id": "5521e49f",
   "metadata": {},
   "outputs": [
    {
     "data": {
      "text/plain": [
       "[1, 2, 3, 4, 5, 6]"
      ]
     },
     "execution_count": 32,
     "metadata": {},
     "output_type": "execute_result"
    }
   ],
   "source": [
    "first"
   ]
  },
  {
   "cell_type": "code",
   "execution_count": 33,
   "id": "912d5562",
   "metadata": {},
   "outputs": [],
   "source": [
    "first.extend([8,9])"
   ]
  },
  {
   "cell_type": "code",
   "execution_count": 34,
   "id": "58057d29",
   "metadata": {},
   "outputs": [
    {
     "data": {
      "text/plain": [
       "[1, 2, 3, 4, 5, 6, 8, 9]"
      ]
     },
     "execution_count": 34,
     "metadata": {},
     "output_type": "execute_result"
    }
   ],
   "source": [
    "first"
   ]
  },
  {
   "cell_type": "code",
   "execution_count": 36,
   "id": "f3adcfdb",
   "metadata": {},
   "outputs": [
    {
     "data": {
      "text/plain": [
       "38"
      ]
     },
     "execution_count": 36,
     "metadata": {},
     "output_type": "execute_result"
    }
   ],
   "source": [
    "sum(first)"
   ]
  },
  {
   "cell_type": "code",
   "execution_count": 37,
   "id": "d4b6db08",
   "metadata": {},
   "outputs": [
    {
     "data": {
      "text/plain": [
       "1"
      ]
     },
     "execution_count": 37,
     "metadata": {},
     "output_type": "execute_result"
    }
   ],
   "source": [
    "first.pop(0)"
   ]
  },
  {
   "cell_type": "code",
   "execution_count": 38,
   "id": "2b64ef8c",
   "metadata": {},
   "outputs": [
    {
     "data": {
      "text/plain": [
       "[2, 3, 4, 5, 6, 8, 9]"
      ]
     },
     "execution_count": 38,
     "metadata": {},
     "output_type": "execute_result"
    }
   ],
   "source": [
    "first\n"
   ]
  },
  {
   "cell_type": "code",
   "execution_count": 39,
   "id": "f7a87858",
   "metadata": {},
   "outputs": [
    {
     "data": {
      "text/plain": [
       "9"
      ]
     },
     "execution_count": 39,
     "metadata": {},
     "output_type": "execute_result"
    }
   ],
   "source": [
    "first.pop()"
   ]
  },
  {
   "cell_type": "code",
   "execution_count": 40,
   "id": "e0a2cb00",
   "metadata": {},
   "outputs": [],
   "source": [
    "second=[1,1,1,2,3,4,55,6]"
   ]
  },
  {
   "cell_type": "code",
   "execution_count": 42,
   "id": "8670a823",
   "metadata": {},
   "outputs": [
    {
     "data": {
      "text/plain": [
       "3"
      ]
     },
     "execution_count": 42,
     "metadata": {},
     "output_type": "execute_result"
    }
   ],
   "source": [
    "second.count(1)"
   ]
  },
  {
   "cell_type": "code",
   "execution_count": 43,
   "id": "b2c7344e",
   "metadata": {},
   "outputs": [
    {
     "data": {
      "text/plain": [
       "8"
      ]
     },
     "execution_count": 43,
     "metadata": {},
     "output_type": "execute_result"
    }
   ],
   "source": [
    "len(second)"
   ]
  },
  {
   "cell_type": "code",
   "execution_count": 44,
   "id": "d26f95c3",
   "metadata": {},
   "outputs": [
    {
     "data": {
      "text/plain": [
       "55"
      ]
     },
     "execution_count": 44,
     "metadata": {},
     "output_type": "execute_result"
    }
   ],
   "source": [
    "\n",
    "max(second)"
   ]
  },
  {
   "cell_type": "code",
   "execution_count": 45,
   "id": "e931bf2f",
   "metadata": {},
   "outputs": [
    {
     "data": {
      "text/plain": [
       "1"
      ]
     },
     "execution_count": 45,
     "metadata": {},
     "output_type": "execute_result"
    }
   ],
   "source": [
    "min(second)"
   ]
  },
  {
   "cell_type": "code",
   "execution_count": 46,
   "id": "515c6a50",
   "metadata": {},
   "outputs": [
    {
     "data": {
      "text/plain": [
       "[1, 1, 1, 2, 3, 4, 55, 6, 1, 1, 1, 2, 3, 4, 55, 6]"
      ]
     },
     "execution_count": 46,
     "metadata": {},
     "output_type": "execute_result"
    }
   ],
   "source": [
    "second*2"
   ]
  },
  {
   "cell_type": "code",
   "execution_count": 47,
   "id": "2146ab76",
   "metadata": {},
   "outputs": [
    {
     "data": {
      "text/plain": [
       "list"
      ]
     },
     "execution_count": 47,
     "metadata": {},
     "output_type": "execute_result"
    }
   ],
   "source": [
    "type([second])"
   ]
  },
  {
   "cell_type": "code",
   "execution_count": 48,
   "id": "c9f9d830",
   "metadata": {},
   "outputs": [],
   "source": [
    "##set"
   ]
  },
  {
   "cell_type": "code",
   "execution_count": 49,
   "id": "846de495",
   "metadata": {},
   "outputs": [],
   "source": [
    "set_type=set()"
   ]
  },
  {
   "cell_type": "code",
   "execution_count": 50,
   "id": "f482e82d",
   "metadata": {},
   "outputs": [
    {
     "data": {
      "text/plain": [
       "set()"
      ]
     },
     "execution_count": 50,
     "metadata": {},
     "output_type": "execute_result"
    }
   ],
   "source": [
    "set_type"
   ]
  },
  {
   "cell_type": "code",
   "execution_count": 60,
   "id": "cbfef65b",
   "metadata": {},
   "outputs": [
    {
     "data": {
      "text/plain": [
       "set"
      ]
     },
     "execution_count": 60,
     "metadata": {},
     "output_type": "execute_result"
    }
   ],
   "source": [
    "set_type=set()\n",
    "set_type\n",
    "type(set_type)\n"
   ]
  },
  {
   "cell_type": "code",
   "execution_count": 61,
   "id": "b2d58bd6",
   "metadata": {},
   "outputs": [],
   "source": [
    "set_type={1,2,3,4,5,1,2}"
   ]
  },
  {
   "cell_type": "code",
   "execution_count": 62,
   "id": "991fdadc",
   "metadata": {},
   "outputs": [
    {
     "data": {
      "text/plain": [
       "{1, 2, 3, 4, 5}"
      ]
     },
     "execution_count": 62,
     "metadata": {},
     "output_type": "execute_result"
    }
   ],
   "source": [
    "set_type\n"
   ]
  },
  {
   "cell_type": "code",
   "execution_count": 63,
   "id": "46ef6ea9",
   "metadata": {},
   "outputs": [],
   "source": [
    "set_set={'rose','chameli','lotus'}"
   ]
  },
  {
   "cell_type": "code",
   "execution_count": 64,
   "id": "e58d289a",
   "metadata": {},
   "outputs": [
    {
     "data": {
      "text/plain": [
       "{'chameli', 'lotus', 'rose'}"
      ]
     },
     "execution_count": 64,
     "metadata": {},
     "output_type": "execute_result"
    }
   ],
   "source": [
    "set_set"
   ]
  },
  {
   "cell_type": "code",
   "execution_count": 67,
   "id": "1af7e558",
   "metadata": {},
   "outputs": [
    {
     "data": {
      "text/plain": [
       "{'chameli', 'lotus', 'rose'}"
      ]
     },
     "execution_count": 67,
     "metadata": {},
     "output_type": "execute_result"
    }
   ],
   "source": [
    "set_set"
   ]
  },
  {
   "cell_type": "code",
   "execution_count": 68,
   "id": "614f6da7",
   "metadata": {},
   "outputs": [],
   "source": [
    "set_set.add(\"hulk\")"
   ]
  },
  {
   "cell_type": "code",
   "execution_count": 69,
   "id": "77106de2",
   "metadata": {},
   "outputs": [
    {
     "data": {
      "text/plain": [
       "{'chameli', 'hulk', 'lotus', 'rose'}"
      ]
     },
     "execution_count": 69,
     "metadata": {},
     "output_type": "execute_result"
    }
   ],
   "source": [
    "set_set"
   ]
  },
  {
   "cell_type": "code",
   "execution_count": 70,
   "id": "34e87842",
   "metadata": {},
   "outputs": [],
   "source": [
    "set_type.add(\"hulk\")"
   ]
  },
  {
   "cell_type": "code",
   "execution_count": 71,
   "id": "b8fed0f0",
   "metadata": {},
   "outputs": [
    {
     "data": {
      "text/plain": [
       "{1, 2, 3, 4, 5, 'hulk'}"
      ]
     },
     "execution_count": 71,
     "metadata": {},
     "output_type": "execute_result"
    }
   ],
   "source": [
    "set_type"
   ]
  },
  {
   "cell_type": "code",
   "execution_count": 72,
   "id": "0407d7e1",
   "metadata": {},
   "outputs": [
    {
     "name": "stdout",
     "output_type": "stream",
     "text": [
      "{'lotus', 'rose', 'chameli', 'hulk'}\n"
     ]
    }
   ],
   "source": [
    "print(set_set)"
   ]
  },
  {
   "cell_type": "code",
   "execution_count": 73,
   "id": "3ab8d01e",
   "metadata": {},
   "outputs": [],
   "source": [
    "set1={\"rose\",\"lotus\",\"chameli\"}"
   ]
  },
  {
   "cell_type": "code",
   "execution_count": 75,
   "id": "e54bb3d3",
   "metadata": {},
   "outputs": [
    {
     "data": {
      "text/plain": [
       "{'hulk'}"
      ]
     },
     "execution_count": 75,
     "metadata": {},
     "output_type": "execute_result"
    }
   ],
   "source": [
    "set_set.difference(set1)"
   ]
  },
  {
   "cell_type": "code",
   "execution_count": 78,
   "id": "a5c963ed",
   "metadata": {},
   "outputs": [],
   "source": [
    "set_set.difference_update(set1)"
   ]
  },
  {
   "cell_type": "code",
   "execution_count": 79,
   "id": "5cb0ea5e",
   "metadata": {},
   "outputs": [
    {
     "data": {
      "text/plain": [
       "{'chameli', 'lotus', 'rose'}"
      ]
     },
     "execution_count": 79,
     "metadata": {},
     "output_type": "execute_result"
    }
   ],
   "source": [
    "set1"
   ]
  },
  {
   "cell_type": "code",
   "execution_count": 80,
   "id": "c8a4230f",
   "metadata": {},
   "outputs": [],
   "source": [
    "set_set.difference_update(set1)"
   ]
  },
  {
   "cell_type": "code",
   "execution_count": 81,
   "id": "4edc76a3",
   "metadata": {},
   "outputs": [
    {
     "name": "stdout",
     "output_type": "stream",
     "text": [
      "{'lotus', 'chameli', 'rose'}\n"
     ]
    }
   ],
   "source": [
    "print(set1)"
   ]
  },
  {
   "cell_type": "code",
   "execution_count": 82,
   "id": "2f6b92e1",
   "metadata": {},
   "outputs": [],
   "source": [
    "set1.difference_update(set_set)"
   ]
  },
  {
   "cell_type": "code",
   "execution_count": 83,
   "id": "dcbe2963",
   "metadata": {},
   "outputs": [
    {
     "data": {
      "text/plain": [
       "{'hulk'}"
      ]
     },
     "execution_count": 83,
     "metadata": {},
     "output_type": "execute_result"
    }
   ],
   "source": [
    "set_set"
   ]
  },
  {
   "cell_type": "code",
   "execution_count": 84,
   "id": "3587d959",
   "metadata": {},
   "outputs": [
    {
     "name": "stdout",
     "output_type": "stream",
     "text": [
      "{'lotus', 'chameli', 'rose'}\n"
     ]
    }
   ],
   "source": [
    "print(set1)"
   ]
  },
  {
   "cell_type": "code",
   "execution_count": 85,
   "id": "d679d3db",
   "metadata": {},
   "outputs": [
    {
     "data": {
      "text/plain": [
       "set()"
      ]
     },
     "execution_count": 85,
     "metadata": {},
     "output_type": "execute_result"
    }
   ],
   "source": [
    "set_set.intersection(set1)"
   ]
  },
  {
   "cell_type": "code",
   "execution_count": 86,
   "id": "e99c5d9e",
   "metadata": {},
   "outputs": [
    {
     "data": {
      "text/plain": [
       "set()"
      ]
     },
     "execution_count": 86,
     "metadata": {},
     "output_type": "execute_result"
    }
   ],
   "source": [
    "set_set.intersection(set1)"
   ]
  },
  {
   "cell_type": "code",
   "execution_count": 89,
   "id": "93650b0a",
   "metadata": {},
   "outputs": [],
   "source": [
    "##dictionary"
   ]
  },
  {
   "cell_type": "code",
   "execution_count": 91,
   "id": "df71bc37",
   "metadata": {},
   "outputs": [],
   "source": [
    "dic={}"
   ]
  },
  {
   "cell_type": "code",
   "execution_count": 92,
   "id": "e0da4c13",
   "metadata": {},
   "outputs": [
    {
     "data": {
      "text/plain": [
       "dict"
      ]
     },
     "execution_count": 92,
     "metadata": {},
     "output_type": "execute_result"
    }
   ],
   "source": [
    "type(dic)"
   ]
  },
  {
   "cell_type": "code",
   "execution_count": 93,
   "id": "4ca7b173",
   "metadata": {},
   "outputs": [],
   "source": [
    "dic={1,2,3,4}"
   ]
  },
  {
   "cell_type": "code",
   "execution_count": 94,
   "id": "f6a0f3db",
   "metadata": {},
   "outputs": [
    {
     "data": {
      "text/plain": [
       "{1, 2, 3, 4}"
      ]
     },
     "execution_count": 94,
     "metadata": {},
     "output_type": "execute_result"
    }
   ],
   "source": [
    "dic"
   ]
  },
  {
   "cell_type": "code",
   "execution_count": 95,
   "id": "f5da42eb",
   "metadata": {},
   "outputs": [
    {
     "data": {
      "text/plain": [
       "set"
      ]
     },
     "execution_count": 95,
     "metadata": {},
     "output_type": "execute_result"
    }
   ],
   "source": [
    "type(dic)"
   ]
  },
  {
   "cell_type": "code",
   "execution_count": 102,
   "id": "acf699c9",
   "metadata": {},
   "outputs": [],
   "source": [
    "my_dic={\"name1\":\"akki\",\"name2\":\"vaishu\",\"name3\":\"anu\",\"name4\":\"samu\"}"
   ]
  },
  {
   "cell_type": "code",
   "execution_count": 101,
   "id": "8bd713ab",
   "metadata": {},
   "outputs": [],
   "source": [
    "my_dict={\"car1\":\"Audi\",\"car2\":\"BMW\",\"car3\":\"benz\"}"
   ]
  },
  {
   "cell_type": "code",
   "execution_count": 103,
   "id": "2e2a7178",
   "metadata": {},
   "outputs": [
    {
     "data": {
      "text/plain": [
       "{'name1': 'akki', 'name2': 'vaishu', 'name3': 'anu', 'name4': 'samu'}"
      ]
     },
     "execution_count": 103,
     "metadata": {},
     "output_type": "execute_result"
    }
   ],
   "source": [
    "my_dic"
   ]
  },
  {
   "cell_type": "code",
   "execution_count": 104,
   "id": "cc3088cf",
   "metadata": {},
   "outputs": [
    {
     "data": {
      "text/plain": [
       "{'car1': 'Audi', 'car2': 'BMW', 'car3': 'benz'}"
      ]
     },
     "execution_count": 104,
     "metadata": {},
     "output_type": "execute_result"
    }
   ],
   "source": [
    "my_dict"
   ]
  },
  {
   "cell_type": "code",
   "execution_count": 105,
   "id": "220774cc",
   "metadata": {},
   "outputs": [
    {
     "data": {
      "text/plain": [
       "dict"
      ]
     },
     "execution_count": 105,
     "metadata": {},
     "output_type": "execute_result"
    }
   ],
   "source": [
    "type(my_dict)"
   ]
  },
  {
   "cell_type": "code",
   "execution_count": 106,
   "id": "d4c89904",
   "metadata": {},
   "outputs": [
    {
     "data": {
      "text/plain": [
       "'Audi'"
      ]
     },
     "execution_count": 106,
     "metadata": {},
     "output_type": "execute_result"
    }
   ],
   "source": [
    "my_dict[\"car1\"]"
   ]
  },
  {
   "cell_type": "code",
   "execution_count": 107,
   "id": "822a1104",
   "metadata": {},
   "outputs": [
    {
     "name": "stdout",
     "output_type": "stream",
     "text": [
      "car1\n",
      "car2\n",
      "car3\n"
     ]
    }
   ],
   "source": [
    "for x in my_dict:\n",
    "    print(x)"
   ]
  },
  {
   "cell_type": "code",
   "execution_count": 108,
   "id": "29fbfa9d",
   "metadata": {},
   "outputs": [
    {
     "name": "stdout",
     "output_type": "stream",
     "text": [
      "{'name1': 'akki', 'name2': 'vaishu', 'name3': 'anu', 'name4': 'samu'}\n",
      "{'name1': 'akki', 'name2': 'vaishu', 'name3': 'anu', 'name4': 'samu'}\n",
      "{'name1': 'akki', 'name2': 'vaishu', 'name3': 'anu', 'name4': 'samu'}\n",
      "{'name1': 'akki', 'name2': 'vaishu', 'name3': 'anu', 'name4': 'samu'}\n"
     ]
    }
   ],
   "source": [
    "for x in my_dic:\n",
    "    print(my_dic)"
   ]
  },
  {
   "cell_type": "code",
   "execution_count": 109,
   "id": "03e5bfc8",
   "metadata": {},
   "outputs": [
    {
     "name": "stdout",
     "output_type": "stream",
     "text": [
      "name1\n",
      "name2\n",
      "name3\n",
      "name4\n"
     ]
    }
   ],
   "source": [
    "for x in my_dic:\n",
    "    print(x)"
   ]
  },
  {
   "cell_type": "code",
   "execution_count": 113,
   "id": "6b3a7b1d",
   "metadata": {},
   "outputs": [
    {
     "name": "stdout",
     "output_type": "stream",
     "text": [
      "Audi\n",
      "BMW\n",
      "benz\n"
     ]
    }
   ],
   "source": [
    "for x in my_dict.values():\n",
    "    print(x)"
   ]
  },
  {
   "cell_type": "code",
   "execution_count": 115,
   "id": "34006dfa",
   "metadata": {},
   "outputs": [
    {
     "name": "stdout",
     "output_type": "stream",
     "text": [
      "('car1', 'Audi')\n",
      "('car2', 'BMW')\n",
      "('car3', 'benz')\n"
     ]
    }
   ],
   "source": [
    "for x in my_dict.items():\n",
    "    print(x)"
   ]
  },
  {
   "cell_type": "code",
   "execution_count": 116,
   "id": "d2787673",
   "metadata": {},
   "outputs": [],
   "source": [
    "my_dict[\"car4\"]=\"maruti\""
   ]
  },
  {
   "cell_type": "code",
   "execution_count": 117,
   "id": "faf0d451",
   "metadata": {},
   "outputs": [
    {
     "data": {
      "text/plain": [
       "{'car1': 'Audi', 'car2': 'BMW', 'car3': 'benz', 'car4': 'maruti'}"
      ]
     },
     "execution_count": 117,
     "metadata": {},
     "output_type": "execute_result"
    }
   ],
   "source": [
    "my_dict"
   ]
  },
  {
   "cell_type": "code",
   "execution_count": 118,
   "id": "e3d0e344",
   "metadata": {},
   "outputs": [],
   "source": [
    "my_dict[\"car2\"]=\"duke\""
   ]
  },
  {
   "cell_type": "code",
   "execution_count": 119,
   "id": "012ae94e",
   "metadata": {},
   "outputs": [
    {
     "data": {
      "text/plain": [
       "{'car1': 'Audi', 'car2': 'duke', 'car3': 'benz', 'car4': 'maruti'}"
      ]
     },
     "execution_count": 119,
     "metadata": {},
     "output_type": "execute_result"
    }
   ],
   "source": [
    "my_dict"
   ]
  },
  {
   "cell_type": "code",
   "execution_count": 120,
   "id": "ab50ed3d",
   "metadata": {},
   "outputs": [],
   "source": [
    "##nested dictionary"
   ]
  },
  {
   "cell_type": "code",
   "execution_count": 122,
   "id": "0f1ba259",
   "metadata": {},
   "outputs": [],
   "source": [
    "car1_model={\"maruti\":1955}\n",
    "car2_model={\"audi\":2344}\n",
    "car3_model={\"suzuki\":2311}\n",
    "\n",
    "car_type={'car1':car1_model,'car2':car2_model,'car3':car3_model}"
   ]
  },
  {
   "cell_type": "code",
   "execution_count": 123,
   "id": "2ba6da68",
   "metadata": {},
   "outputs": [
    {
     "data": {
      "text/plain": [
       "dict"
      ]
     },
     "execution_count": 123,
     "metadata": {},
     "output_type": "execute_result"
    }
   ],
   "source": [
    "type(car1_model)"
   ]
  },
  {
   "cell_type": "code",
   "execution_count": 124,
   "id": "a633212f",
   "metadata": {},
   "outputs": [
    {
     "data": {
      "text/plain": [
       "dict"
      ]
     },
     "execution_count": 124,
     "metadata": {},
     "output_type": "execute_result"
    }
   ],
   "source": [
    "type(car_type)"
   ]
  },
  {
   "cell_type": "code",
   "execution_count": 125,
   "id": "6a9a26c4",
   "metadata": {},
   "outputs": [
    {
     "name": "stdout",
     "output_type": "stream",
     "text": [
      "{'maruti': 1955}\n"
     ]
    }
   ],
   "source": [
    "print(car_type['car1'])"
   ]
  },
  {
   "cell_type": "code",
   "execution_count": 126,
   "id": "9ce2c0da",
   "metadata": {},
   "outputs": [
    {
     "name": "stdout",
     "output_type": "stream",
     "text": [
      "1955\n"
     ]
    }
   ],
   "source": [
    "print(car_type['car1']['maruti'])"
   ]
  },
  {
   "cell_type": "code",
   "execution_count": 127,
   "id": "ebe6ea20",
   "metadata": {},
   "outputs": [],
   "source": [
    "##tuple"
   ]
  },
  {
   "cell_type": "code",
   "execution_count": 128,
   "id": "1e4b752a",
   "metadata": {},
   "outputs": [],
   "source": [
    "my_tuple=tuple()"
   ]
  },
  {
   "cell_type": "code",
   "execution_count": 129,
   "id": "286c8aae",
   "metadata": {},
   "outputs": [
    {
     "data": {
      "text/plain": [
       "tuple"
      ]
     },
     "execution_count": 129,
     "metadata": {},
     "output_type": "execute_result"
    }
   ],
   "source": [
    "type(my_tuple)"
   ]
  },
  {
   "cell_type": "code",
   "execution_count": 130,
   "id": "7d2e5bd1",
   "metadata": {},
   "outputs": [],
   "source": [
    "mytuple=(\"ab\",\"cd\",\"ef\")"
   ]
  },
  {
   "cell_type": "code",
   "execution_count": 132,
   "id": "55cd9814",
   "metadata": {},
   "outputs": [
    {
     "name": "stdout",
     "output_type": "stream",
     "text": [
      "('ab', 'cd', 'ef')\n"
     ]
    }
   ],
   "source": [
    "print(mytuple)"
   ]
  },
  {
   "cell_type": "code",
   "execution_count": 133,
   "id": "71f74fa9",
   "metadata": {},
   "outputs": [
    {
     "data": {
      "text/plain": [
       "'ab'"
      ]
     },
     "execution_count": 133,
     "metadata": {},
     "output_type": "execute_result"
    }
   ],
   "source": [
    "mytuple[0]"
   ]
  },
  {
   "cell_type": "code",
   "execution_count": 135,
   "id": "64589529",
   "metadata": {},
   "outputs": [
    {
     "data": {
      "text/plain": [
       "1"
      ]
     },
     "execution_count": 135,
     "metadata": {},
     "output_type": "execute_result"
    }
   ],
   "source": [
    "mytuple.count('ab')"
   ]
  },
  {
   "cell_type": "code",
   "execution_count": 139,
   "id": "f4d83031",
   "metadata": {},
   "outputs": [
    {
     "data": {
      "text/plain": [
       "2"
      ]
     },
     "execution_count": 139,
     "metadata": {},
     "output_type": "execute_result"
    }
   ],
   "source": [
    "mytuple.index('ef')"
   ]
  },
  {
   "cell_type": "code",
   "execution_count": null,
   "id": "7f193d27",
   "metadata": {},
   "outputs": [],
   "source": []
  }
 ],
 "metadata": {
  "kernelspec": {
   "display_name": "Python 3 (ipykernel)",
   "language": "python",
   "name": "python3"
  },
  "language_info": {
   "codemirror_mode": {
    "name": "ipython",
    "version": 3
   },
   "file_extension": ".py",
   "mimetype": "text/x-python",
   "name": "python",
   "nbconvert_exporter": "python",
   "pygments_lexer": "ipython3",
   "version": "3.10.9"
  }
 },
 "nbformat": 4,
 "nbformat_minor": 5
}
